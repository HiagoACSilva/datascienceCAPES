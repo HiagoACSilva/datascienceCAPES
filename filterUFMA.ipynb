{
 "cells": [
  {
   "cell_type": "code",
   "execution_count": 119,
   "id": "b8325bb0-5ec8-4e9e-b2b7-84a3d756cf0c",
   "metadata": {},
   "outputs": [],
   "source": [
    "from pyspark.sql import SparkSession\n",
    "from delta import *\n",
    "from minio import Minio\n",
    "import pyspark.sql.functions as F\n",
    "import os\n",
    "import pandas as pd"
   ]
  },
  {
   "cell_type": "code",
   "execution_count": 2,
   "id": "baece066-57be-4092-9d4a-2f60ae59a700",
   "metadata": {},
   "outputs": [
    {
     "name": "stderr",
     "output_type": "stream",
     "text": [
      "24/09/18 14:37:09 WARN Utils: Your hostname, DESKTOP-CV9TLA8 resolves to a loopback address: 127.0.1.1; using 10.255.255.254 instead (on interface lo)\n",
      "24/09/18 14:37:09 WARN Utils: Set SPARK_LOCAL_IP if you need to bind to another address\n"
     ]
    },
    {
     "name": "stdout",
     "output_type": "stream",
     "text": [
      ":: loading settings :: url = jar:file:/home/hacs/.cache/pypoetry/virtualenvs/pyspark-delta-gPM1PAZH-py3.10/lib/python3.10/site-packages/pyspark/jars/ivy-2.5.1.jar!/org/apache/ivy/core/settings/ivysettings.xml\n"
     ]
    },
    {
     "name": "stderr",
     "output_type": "stream",
     "text": [
      "Ivy Default Cache set to: /home/hacs/.ivy2/cache\n",
      "The jars for the packages stored in: /home/hacs/.ivy2/jars\n",
      "io.delta#delta-core_2.12 added as a dependency\n",
      ":: resolving dependencies :: org.apache.spark#spark-submit-parent-4a38a5cc-0cbc-4618-a9d7-ff7b67a1a3db;1.0\n",
      "\tconfs: [default]\n",
      "\tfound io.delta#delta-core_2.12;2.4.0 in central\n",
      "\tfound io.delta#delta-storage;2.4.0 in central\n",
      "\tfound org.antlr#antlr4-runtime;4.9.3 in central\n",
      ":: resolution report :: resolve 169ms :: artifacts dl 6ms\n",
      "\t:: modules in use:\n",
      "\tio.delta#delta-core_2.12;2.4.0 from central in [default]\n",
      "\tio.delta#delta-storage;2.4.0 from central in [default]\n",
      "\torg.antlr#antlr4-runtime;4.9.3 from central in [default]\n",
      "\t---------------------------------------------------------------------\n",
      "\t|                  |            modules            ||   artifacts   |\n",
      "\t|       conf       | number| search|dwnlded|evicted|| number|dwnlded|\n",
      "\t---------------------------------------------------------------------\n",
      "\t|      default     |   3   |   0   |   0   |   0   ||   3   |   0   |\n",
      "\t---------------------------------------------------------------------\n",
      ":: retrieving :: org.apache.spark#spark-submit-parent-4a38a5cc-0cbc-4618-a9d7-ff7b67a1a3db\n",
      "\tconfs: [default]\n",
      "\t0 artifacts copied, 3 already retrieved (0kB/5ms)\n",
      "24/09/18 14:37:09 WARN NativeCodeLoader: Unable to load native-hadoop library for your platform... using builtin-java classes where applicable\n",
      "Setting default log level to \"WARN\".\n",
      "To adjust logging level use sc.setLogLevel(newLevel). For SparkR, use setLogLevel(newLevel).\n"
     ]
    }
   ],
   "source": [
    "spark = (\n",
    "    SparkSession.builder.master(\"local[*]\").appName(\"csvToParquet\")\n",
    "    #HADOOP\n",
    "    .config(\"spark.hadoop.fs.s3a.endpoint\", \"http://localhost:9000\")\n",
    "    .config(\"spark.hadoop.fs.s3a.access.key\", \"minioadmin\")\n",
    "    .config(\"spark.hadoop.fs.s3a.secret.key\", \"minioadmin\")\n",
    "    .config(\"spark.hadoop.fs.s3a.path.style.access\", \"true\")\n",
    "    .config(\"spark.hadoop.fs.s3a.aws.credentials.provider\", \"org.apache.hadoop.fs.s3a.SimpleAWSCredentialsProvider\")\n",
    "    #DELTA\n",
    "    .config(\"spark.jars.packages\", \"io.delta:delta-core_2.12:2.4.0\")\n",
    "    .config(\"spark.sql.extensions\", \"io.delta.sql.DeltaSparkSessionExtension\")\n",
    "    .config(\"spark.sql.catalog.spark_catalog\", \"org.apache.spark.sql.delta.catalog.DeltaCatalog\")\n",
    "    .config(\"spark.jars\", \"jars/aws-java-sdk-bundle-1.11.1026.jar, \\\n",
    "            jars/hadoop-aws-3.2.0.jar\")\n",
    "    .getOrCreate()\n",
    ")\n"
   ]
  },
  {
   "cell_type": "code",
   "execution_count": 3,
   "id": "d8718076-acf7-4e6d-8cb3-48a831ca5aed",
   "metadata": {},
   "outputs": [],
   "source": [
    "client=Minio(\"localhost:9000\",\n",
    "             access_key=\"minioadmin\",\n",
    "             secret_key=\"minioadmin\",\n",
    "             secure=False\n",
    "            )\n"
   ]
  },
  {
   "cell_type": "code",
   "execution_count": 4,
   "id": "4314c1c2-f2de-4822-8dcf-cb68ad4a8d9f",
   "metadata": {},
   "outputs": [],
   "source": [
    "objects=client.list_objects('raw', prefix='CAPES/', recursive=True)\n",
    "csvs = []\n",
    "for object in objects:\n",
    "    csvs.append(object.object_name)"
   ]
  },
  {
   "cell_type": "code",
   "execution_count": 35,
   "id": "3346a7dd-8f06-4abe-8365-208bba729fc4",
   "metadata": {},
   "outputs": [],
   "source": [
    "#FUNÇÃO PARA LISTAR AS COLUNAS IGUAIS DOS DOIS DATAFRAMES\n",
    "def equalslist(df1, df2):\n",
    "    return list(set(df1.columns).difference(set(df2.columns)))\n",
    "\n",
    "#FUNÇÃO PARA JUNTAR DOIS DATAFRAMES, ESPECIFICANDO A KEY USADA E O MÉTODO DE JUNÇÃO \n",
    "def dfjoin(dataframe1, dataframe2, key, typejoin):\n",
    "    \n",
    "    equals = equalslist(dataframe1,dataframe2)\n",
    "    equals.remove(key)\n",
    "\n",
    "    #USANDO UM DATAFRAME AUXILIAR PARA NÃO MODIFICAR O DATAFRAME RAIZ CARREGADO\n",
    "    dataframe3 = dataframe2\n",
    "    for column in equals:\n",
    "        dataframe3 = dataframe3.drop(column)\n",
    "        \n",
    "    dataframe_join = dataframe1.join(dataframe3, key, typejoin)\n",
    "\n",
    "    #RETIRANDO AS LINHAS EM QUE A KEY É NULA\n",
    "    dataframe_join = dataframe_join.dropna(subset=[key])\n",
    "    return dataframe_join\n"
   ]
  },
  {
   "cell_type": "code",
   "execution_count": 6,
   "id": "3d153dcb-f41f-4a98-9364-3a3c845e451e",
   "metadata": {},
   "outputs": [
    {
     "name": "stdout",
     "output_type": "stream",
     "text": [
      "0 - CAPES/2021-a-2024-autor-da-producao-intelectual-de-programas-de-pos-graduacao-stricto-sensu-no-brasil/Ano Base - 2021 a 2022 Bibliográfica Subtipo Livro.csv\n",
      "1 - CAPES/2021-a-2024-autor-da-producao-intelectual-de-programas-de-pos-graduacao-stricto-sensu-no-brasil/Ano Base - 2021 a 2022, Bibliográfica Subtipo Artigo em Jornal ou Revista.csv\n",
      "2 - CAPES/2021-a-2024-autor-da-producao-intelectual-de-programas-de-pos-graduacao-stricto-sensu-no-brasil/Ano Base - 2021 a 2022, Bibliográfica Subtipo Outro.csv\n",
      "3 - CAPES/2021-a-2024-autor-da-producao-intelectual-de-programas-de-pos-graduacao-stricto-sensu-no-brasil/Ano Base - 2021 a 2022, Técnica Subtipo Desenvolvimento de Aplicativo.csv\n",
      "4 - CAPES/2021-a-2024-autor-da-producao-intelectual-de-programas-de-pos-graduacao-stricto-sensu-no-brasil/Ano Base - 2021 a 2022, Técnica Subtipo Desenvolvimento de Produto.csv\n",
      "5 - CAPES/2021-a-2024-autor-da-producao-intelectual-de-programas-de-pos-graduacao-stricto-sensu-no-brasil/Ano Base - 2021 a 2022, Técnica Subtipo Desenvolvimento de Técnica.csv\n",
      "6 - CAPES/2021-a-2024-autor-da-producao-intelectual-de-programas-de-pos-graduacao-stricto-sensu-no-brasil/Ano Base - 2021 a 2022, Técnica Subtipo Organização de Evento.csv\n",
      "7 - CAPES/2021-a-2024-autor-da-producao-intelectual-de-programas-de-pos-graduacao-stricto-sensu-no-brasil/Ano Base - 2021 a 2022, Técnica Subtipo Outros.csv\n",
      "8 - CAPES/2021-a-2024-autor-da-producao-intelectual-de-programas-de-pos-graduacao-stricto-sensu-no-brasil/Ano Base - 2021 a 2022, Técnica Subtipo Patente.csv\n",
      "9 - CAPES/2021-a-2024-autor-da-producao-intelectual-de-programas-de-pos-graduacao-stricto-sensu-no-brasil/Ano Base - 2021, Bibliográfica Subtipo Artigo em Periódico.csv\n",
      "10 - CAPES/2021-a-2024-autor-da-producao-intelectual-de-programas-de-pos-graduacao-stricto-sensu-no-brasil/Ano Base - 2022, Bibliográfica Subtipo Artigo em Periódico.csv\n",
      "11 - CAPES/2021-a-2024-autor-da-producao-intelectual-de-programas-de-pos-graduacao-stricto-sensu-no-brasil/Ano Base - 2022, Bibliográfica Subtipo Trabalho em Anais.csv\n",
      "12 - CAPES/2021-a-2024-catalogo-de-teses-e-dissertacoes-brasil/Ano 2021.csv\n",
      "13 - CAPES/2021-a-2024-catalogo-de-teses-e-dissertacoes-brasil/Ano 2022.csv\n",
      "14 - CAPES/2021-a-2024-cursos-da-pos-graduacao-stricto-sensu-no-brasil/Ano 2021.csv\n",
      "15 - CAPES/2021-a-2024-cursos-da-pos-graduacao-stricto-sensu-no-brasil/Ano 2022.csv\n",
      "16 - CAPES/2021-a-2024-detalhes-da-producao-intelectual-bibliografica-de-programas-de-pos-graduacao/Anos 2021 e 2022 - Subtipo Artigo em Periódico.csv\n",
      "17 - CAPES/2021-a-2024-detalhes-da-producao-intelectual-bibliografica-de-programas-de-pos-graduacao/Anos 2021 e 2022 - Subtipo Livro.csv\n",
      "18 - CAPES/2021-a-2024-detalhes-da-producao-intelectual-bibliografica-de-programas-de-pos-graduacao/Anos 2021 e 2022 - Subtipo Outro.csv\n",
      "19 - CAPES/2021-a-2024-detalhes-da-producao-intelectual-bibliografica-de-programas-de-pos-graduacao/Anos 2021 e 2022 - Subtipo Trabalho em Anais.csv\n",
      "20 - CAPES/2021-a-2024-detalhes-da-producao-intelectual-tecnica-de-programas-de-pos-graduacao-stricto-sensu/Anos 2021 e 2022 - Subtipo Artigo em Jornal ou Revista.csv\n",
      "21 - CAPES/2021-a-2024-detalhes-da-producao-intelectual-tecnica-de-programas-de-pos-graduacao-stricto-sensu/Anos 2021 e 2022 - Subtipo Desenvolvimento de Aplicativo.csv\n",
      "22 - CAPES/2021-a-2024-detalhes-da-producao-intelectual-tecnica-de-programas-de-pos-graduacao-stricto-sensu/Anos 2021 e 2022 - Subtipo Desenvolvimento de Produto.csv\n",
      "23 - CAPES/2021-a-2024-detalhes-da-producao-intelectual-tecnica-de-programas-de-pos-graduacao-stricto-sensu/Anos 2021 e 2022 - Subtipo Desenvolvimento de Técnica.csv\n",
      "24 - CAPES/2021-a-2024-detalhes-da-producao-intelectual-tecnica-de-programas-de-pos-graduacao-stricto-sensu/Anos 2021 e 2022 - Subtipo Organização de Evento.csv\n",
      "25 - CAPES/2021-a-2024-detalhes-da-producao-intelectual-tecnica-de-programas-de-pos-graduacao-stricto-sensu/Anos 2021 e 2022 - Subtipo Outro.csv\n",
      "26 - CAPES/2021-a-2024-detalhes-da-producao-intelectual-tecnica-de-programas-de-pos-graduacao-stricto-sensu/Anos 2021 e 2022 - Subtipo Patente.csv\n",
      "27 - CAPES/2021-a-2024-discentes-da-pos-graduacao-stricto-sensu-do-brasil/Ano 2021.csv\n",
      "28 - CAPES/2021-a-2024-discentes-da-pos-graduacao-stricto-sensu-do-brasil/Ano 2022.csv\n",
      "29 - CAPES/2021-a-2024-docentes-da-pos-graduacao-stricto-sensu-no-brasil/Ano 2021.csv\n",
      "30 - CAPES/2021-a-2024-docentes-da-pos-graduacao-stricto-sensu-no-brasil/Ano 2022.csv\n",
      "31 - CAPES/2021-a-2024-financiadores-de-projetos-dos-programas-de-pos-graduacao-stricto-sensu-no-brasil/Ano 2021.csv\n",
      "32 - CAPES/2021-a-2024-financiadores-de-projetos-dos-programas-de-pos-graduacao-stricto-sensu-no-brasil/Ano 2022.csv\n",
      "33 - CAPES/2021-a-2024-membros-de-projetos-dos-programas-de-pos-graduacao-stricto-sensu-no-brasil/Ano 2021.csv\n",
      "34 - CAPES/2021-a-2024-membros-de-projetos-dos-programas-de-pos-graduacao-stricto-sensu-no-brasil/Ano 2022.csv\n",
      "35 - CAPES/2021-a-2024-producao-intelectual-de-pos-graduacao-stricto-sensu-no-brasil/Anos 2021 e 2022 - Tipo Bibliográfica Subtipo Livro.csv\n",
      "36 - CAPES/2021-a-2024-producao-intelectual-de-pos-graduacao-stricto-sensu-no-brasil/Anos 2021 e 2022 - Tipo Bibliográfica Subtipo Outro.csv\n",
      "37 - CAPES/2021-a-2024-producao-intelectual-de-pos-graduacao-stricto-sensu-no-brasil/Anos 2021 e 2022 - Tipo Bibliográfica Subtipo Trabalho em Anais.csv\n",
      "38 - CAPES/2021-a-2024-producao-intelectual-de-pos-graduacao-stricto-sensu-no-brasil/Anos 2021 e 2022 - Tipo Técnica Subtipo Artigo em Jornal ou Revista.csv\n",
      "39 - CAPES/2021-a-2024-producao-intelectual-de-pos-graduacao-stricto-sensu-no-brasil/Anos 2021 e 2022 - Tipo Técnica Subtipo Desenvolvimento de Aplicativo.csv\n",
      "40 - CAPES/2021-a-2024-producao-intelectual-de-pos-graduacao-stricto-sensu-no-brasil/Anos 2021 e 2022 - Tipo Técnica Subtipo Desenvolvimento de Produto.csv\n",
      "41 - CAPES/2021-a-2024-producao-intelectual-de-pos-graduacao-stricto-sensu-no-brasil/Anos 2021 e 2022 - Tipo Técnica Subtipo Desenvolvimento de Técnica.csv\n",
      "42 - CAPES/2021-a-2024-producao-intelectual-de-pos-graduacao-stricto-sensu-no-brasil/Anos 2021 e 2022 - Tipo Técnica Subtipo Organização de Evento.csv\n",
      "43 - CAPES/2021-a-2024-producao-intelectual-de-pos-graduacao-stricto-sensu-no-brasil/Anos 2021 e 2022 - Tipo Técnica Subtipo Outro.csv\n",
      "44 - CAPES/2021-a-2024-producao-intelectual-de-pos-graduacao-stricto-sensu-no-brasil/Anos 2021 e 2022 - Tipo Técnica Subtipo Patente.csv\n",
      "45 - CAPES/2021-a-2024-producao-intelectual-de-pos-graduacao-stricto-sensu-no-brasil/Anos 2021 e 2022 – Tipo Bibliográfica Subtipo Artigo em Periódico.csv\n",
      "46 - CAPES/2021-a-2024-programas-da-pos-graduacao-stricto-sensu-no-brasil/Ano 2021.csv\n",
      "47 - CAPES/2021-a-2024-programas-da-pos-graduacao-stricto-sensu-no-brasil/Ano 2022.csv\n",
      "48 - CAPES/2021-a-2024-projetos-dos-programas-de-pos-graduacao-stricto-sensu-no-brasil/Ano 2021.csv\n",
      "49 - CAPES/2021-a-2024-projetos-dos-programas-de-pos-graduacao-stricto-sensu-no-brasil/Ano 2022.csv\n"
     ]
    }
   ],
   "source": [
    "#LISTANDO OS DATAFRAMES PRESENTES NO BUCKET RAW DO MinIO\n",
    "count = 0\n",
    "for csv in csvs:\n",
    "    print(f'{count} - {csv}')\n",
    "    count+=1\n",
    "    "
   ]
  },
  {
   "cell_type": "code",
   "execution_count": 117,
   "id": "91c098f9-fb0e-4f8d-b435-45a3d2dcac33",
   "metadata": {},
   "outputs": [],
   "source": [
    "def filterByColumn(name_database, database, client, column_key, key):\n",
    "    for column_actual in database.columns:\n",
    "        if column_actual == column_key:\n",
    "            database = database.filter(F.col(column_key).like(key))\n",
    "            database.toPandas().to_csv('temp.csv', index=False)\n",
    "            client.fput_object('raw',f\"UFMA/{name_database}\", 'temp.csv')\n",
    "            os.remove('temp.csv')\n",
    "            break"
   ]
  },
  {
   "cell_type": "code",
   "execution_count": 118,
   "id": "70dfdaac-6e31-43b8-8290-94c8e4f4fefd",
   "metadata": {},
   "outputs": [
    {
     "name": "stdout",
     "output_type": "stream",
     "text": [
      "CAPES/2021-a-2024-autor-da-producao-intelectual-de-programas-de-pos-graduacao-stricto-sensu-no-brasil/Ano Base - 2021 a 2022 Bibliográfica Subtipo Livro.csv OK\n",
      "CAPES/2021-a-2024-autor-da-producao-intelectual-de-programas-de-pos-graduacao-stricto-sensu-no-brasil/Ano Base - 2021 a 2022, Bibliográfica Subtipo Artigo em Jornal ou Revista.csv OK\n",
      "CAPES/2021-a-2024-autor-da-producao-intelectual-de-programas-de-pos-graduacao-stricto-sensu-no-brasil/Ano Base - 2021 a 2022, Bibliográfica Subtipo Outro.csv OK\n",
      "CAPES/2021-a-2024-autor-da-producao-intelectual-de-programas-de-pos-graduacao-stricto-sensu-no-brasil/Ano Base - 2021 a 2022, Técnica Subtipo Desenvolvimento de Aplicativo.csv OK\n",
      "CAPES/2021-a-2024-autor-da-producao-intelectual-de-programas-de-pos-graduacao-stricto-sensu-no-brasil/Ano Base - 2021 a 2022, Técnica Subtipo Desenvolvimento de Produto.csv OK\n",
      "CAPES/2021-a-2024-autor-da-producao-intelectual-de-programas-de-pos-graduacao-stricto-sensu-no-brasil/Ano Base - 2021 a 2022, Técnica Subtipo Desenvolvimento de Técnica.csv OK\n",
      "CAPES/2021-a-2024-autor-da-producao-intelectual-de-programas-de-pos-graduacao-stricto-sensu-no-brasil/Ano Base - 2021 a 2022, Técnica Subtipo Organização de Evento.csv OK\n",
      "CAPES/2021-a-2024-autor-da-producao-intelectual-de-programas-de-pos-graduacao-stricto-sensu-no-brasil/Ano Base - 2021 a 2022, Técnica Subtipo Outros.csv OK\n",
      "CAPES/2021-a-2024-autor-da-producao-intelectual-de-programas-de-pos-graduacao-stricto-sensu-no-brasil/Ano Base - 2021 a 2022, Técnica Subtipo Patente.csv OK\n"
     ]
    },
    {
     "name": "stderr",
     "output_type": "stream",
     "text": [
      "                                                                                \r"
     ]
    },
    {
     "name": "stdout",
     "output_type": "stream",
     "text": [
      "CAPES/2021-a-2024-autor-da-producao-intelectual-de-programas-de-pos-graduacao-stricto-sensu-no-brasil/Ano Base - 2021, Bibliográfica Subtipo Artigo em Periódico.csv OK\n"
     ]
    },
    {
     "name": "stderr",
     "output_type": "stream",
     "text": [
      "                                                                                \r"
     ]
    },
    {
     "name": "stdout",
     "output_type": "stream",
     "text": [
      "CAPES/2021-a-2024-autor-da-producao-intelectual-de-programas-de-pos-graduacao-stricto-sensu-no-brasil/Ano Base - 2022, Bibliográfica Subtipo Artigo em Periódico.csv OK\n",
      "CAPES/2021-a-2024-autor-da-producao-intelectual-de-programas-de-pos-graduacao-stricto-sensu-no-brasil/Ano Base - 2022, Bibliográfica Subtipo Trabalho em Anais.csv OK\n",
      "CAPES/2021-a-2024-catalogo-de-teses-e-dissertacoes-brasil/Ano 2021.csv OK\n",
      "CAPES/2021-a-2024-catalogo-de-teses-e-dissertacoes-brasil/Ano 2022.csv OK\n",
      "CAPES/2021-a-2024-cursos-da-pos-graduacao-stricto-sensu-no-brasil/Ano 2021.csv OK\n",
      "CAPES/2021-a-2024-cursos-da-pos-graduacao-stricto-sensu-no-brasil/Ano 2022.csv OK\n",
      "CAPES/2021-a-2024-detalhes-da-producao-intelectual-bibliografica-de-programas-de-pos-graduacao/Anos 2021 e 2022 - Subtipo Artigo em Periódico.csv OK\n"
     ]
    },
    {
     "name": "stderr",
     "output_type": "stream",
     "text": [
      "                                                                                \r"
     ]
    },
    {
     "name": "stdout",
     "output_type": "stream",
     "text": [
      "CAPES/2021-a-2024-detalhes-da-producao-intelectual-bibliografica-de-programas-de-pos-graduacao/Anos 2021 e 2022 - Subtipo Livro.csv OK\n",
      "CAPES/2021-a-2024-detalhes-da-producao-intelectual-bibliografica-de-programas-de-pos-graduacao/Anos 2021 e 2022 - Subtipo Outro.csv OK\n",
      "CAPES/2021-a-2024-detalhes-da-producao-intelectual-bibliografica-de-programas-de-pos-graduacao/Anos 2021 e 2022 - Subtipo Trabalho em Anais.csv OK\n",
      "CAPES/2021-a-2024-detalhes-da-producao-intelectual-tecnica-de-programas-de-pos-graduacao-stricto-sensu/Anos 2021 e 2022 - Subtipo Artigo em Jornal ou Revista.csv OK\n",
      "CAPES/2021-a-2024-detalhes-da-producao-intelectual-tecnica-de-programas-de-pos-graduacao-stricto-sensu/Anos 2021 e 2022 - Subtipo Desenvolvimento de Aplicativo.csv OK\n",
      "CAPES/2021-a-2024-detalhes-da-producao-intelectual-tecnica-de-programas-de-pos-graduacao-stricto-sensu/Anos 2021 e 2022 - Subtipo Desenvolvimento de Produto.csv OK\n",
      "CAPES/2021-a-2024-detalhes-da-producao-intelectual-tecnica-de-programas-de-pos-graduacao-stricto-sensu/Anos 2021 e 2022 - Subtipo Desenvolvimento de Técnica.csv OK\n",
      "CAPES/2021-a-2024-detalhes-da-producao-intelectual-tecnica-de-programas-de-pos-graduacao-stricto-sensu/Anos 2021 e 2022 - Subtipo Organização de Evento.csv OK\n",
      "CAPES/2021-a-2024-detalhes-da-producao-intelectual-tecnica-de-programas-de-pos-graduacao-stricto-sensu/Anos 2021 e 2022 - Subtipo Outro.csv OK\n",
      "CAPES/2021-a-2024-detalhes-da-producao-intelectual-tecnica-de-programas-de-pos-graduacao-stricto-sensu/Anos 2021 e 2022 - Subtipo Patente.csv OK\n",
      "CAPES/2021-a-2024-discentes-da-pos-graduacao-stricto-sensu-do-brasil/Ano 2021.csv OK\n",
      "CAPES/2021-a-2024-discentes-da-pos-graduacao-stricto-sensu-do-brasil/Ano 2022.csv OK\n",
      "CAPES/2021-a-2024-docentes-da-pos-graduacao-stricto-sensu-no-brasil/Ano 2021.csv OK\n",
      "CAPES/2021-a-2024-docentes-da-pos-graduacao-stricto-sensu-no-brasil/Ano 2022.csv OK\n",
      "CAPES/2021-a-2024-financiadores-de-projetos-dos-programas-de-pos-graduacao-stricto-sensu-no-brasil/Ano 2021.csv OK\n",
      "CAPES/2021-a-2024-financiadores-de-projetos-dos-programas-de-pos-graduacao-stricto-sensu-no-brasil/Ano 2022.csv OK\n",
      "CAPES/2021-a-2024-membros-de-projetos-dos-programas-de-pos-graduacao-stricto-sensu-no-brasil/Ano 2021.csv OK\n",
      "CAPES/2021-a-2024-membros-de-projetos-dos-programas-de-pos-graduacao-stricto-sensu-no-brasil/Ano 2022.csv OK\n",
      "CAPES/2021-a-2024-producao-intelectual-de-pos-graduacao-stricto-sensu-no-brasil/Anos 2021 e 2022 - Tipo Bibliográfica Subtipo Livro.csv OK\n",
      "CAPES/2021-a-2024-producao-intelectual-de-pos-graduacao-stricto-sensu-no-brasil/Anos 2021 e 2022 - Tipo Bibliográfica Subtipo Outro.csv OK\n",
      "CAPES/2021-a-2024-producao-intelectual-de-pos-graduacao-stricto-sensu-no-brasil/Anos 2021 e 2022 - Tipo Bibliográfica Subtipo Trabalho em Anais.csv OK\n",
      "CAPES/2021-a-2024-producao-intelectual-de-pos-graduacao-stricto-sensu-no-brasil/Anos 2021 e 2022 - Tipo Técnica Subtipo Artigo em Jornal ou Revista.csv OK\n",
      "CAPES/2021-a-2024-producao-intelectual-de-pos-graduacao-stricto-sensu-no-brasil/Anos 2021 e 2022 - Tipo Técnica Subtipo Desenvolvimento de Aplicativo.csv OK\n",
      "CAPES/2021-a-2024-producao-intelectual-de-pos-graduacao-stricto-sensu-no-brasil/Anos 2021 e 2022 - Tipo Técnica Subtipo Desenvolvimento de Produto.csv OK\n",
      "CAPES/2021-a-2024-producao-intelectual-de-pos-graduacao-stricto-sensu-no-brasil/Anos 2021 e 2022 - Tipo Técnica Subtipo Desenvolvimento de Técnica.csv OK\n",
      "CAPES/2021-a-2024-producao-intelectual-de-pos-graduacao-stricto-sensu-no-brasil/Anos 2021 e 2022 - Tipo Técnica Subtipo Organização de Evento.csv OK\n",
      "CAPES/2021-a-2024-producao-intelectual-de-pos-graduacao-stricto-sensu-no-brasil/Anos 2021 e 2022 - Tipo Técnica Subtipo Outro.csv OK\n",
      "CAPES/2021-a-2024-producao-intelectual-de-pos-graduacao-stricto-sensu-no-brasil/Anos 2021 e 2022 - Tipo Técnica Subtipo Patente.csv OK\n",
      "CAPES/2021-a-2024-producao-intelectual-de-pos-graduacao-stricto-sensu-no-brasil/Anos 2021 e 2022 – Tipo Bibliográfica Subtipo Artigo em Periódico.csv OK\n",
      "CAPES/2021-a-2024-programas-da-pos-graduacao-stricto-sensu-no-brasil/Ano 2021.csv OK\n",
      "CAPES/2021-a-2024-programas-da-pos-graduacao-stricto-sensu-no-brasil/Ano 2022.csv OK\n"
     ]
    },
    {
     "name": "stderr",
     "output_type": "stream",
     "text": [
      "                                                                                \r"
     ]
    },
    {
     "name": "stdout",
     "output_type": "stream",
     "text": [
      "CAPES/2021-a-2024-projetos-dos-programas-de-pos-graduacao-stricto-sensu-no-brasil/Ano 2021.csv OK\n"
     ]
    },
    {
     "name": "stderr",
     "output_type": "stream",
     "text": [
      "[Stage 575:>                                                      (0 + 12) / 12]\r"
     ]
    },
    {
     "name": "stdout",
     "output_type": "stream",
     "text": [
      "CAPES/2021-a-2024-projetos-dos-programas-de-pos-graduacao-stricto-sensu-no-brasil/Ano 2022.csv OK\n"
     ]
    },
    {
     "name": "stderr",
     "output_type": "stream",
     "text": [
      "                                                                                \r"
     ]
    }
   ],
   "source": [
    "bucket_name = 'raw'\n",
    "for csv_number in range(0, len(csvs)):\n",
    "    database = spark.read.format('csv').option('header', 'true').option('sep', ';')\\\n",
    "        .load(f's3a://{bucket_name}/{csvs[csv_number]}')\n",
    "    filterByColumn(csvs[csv_number], database, client, \"SG_ENTIDADE_ENSINO\", \"%UFMA%\")\n",
    "    print(f\"{csvs[csv_number]} OK\")"
   ]
  },
  {
   "cell_type": "code",
   "execution_count": null,
   "id": "8fc8b456-c890-40a7-9df8-e347d5f62dc2",
   "metadata": {},
   "outputs": [],
   "source": []
  }
 ],
 "metadata": {
  "kernelspec": {
   "display_name": "Python 3 (ipykernel)",
   "language": "python",
   "name": "python3"
  },
  "language_info": {
   "codemirror_mode": {
    "name": "ipython",
    "version": 3
   },
   "file_extension": ".py",
   "mimetype": "text/x-python",
   "name": "python",
   "nbconvert_exporter": "python",
   "pygments_lexer": "ipython3",
   "version": "3.10.12"
  }
 },
 "nbformat": 4,
 "nbformat_minor": 5
}
