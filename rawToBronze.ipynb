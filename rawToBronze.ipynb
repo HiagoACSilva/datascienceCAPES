{
 "cells": [
  {
   "cell_type": "code",
   "execution_count": 1,
   "id": "f5878857-2257-40a8-9c79-9d57b50047cf",
   "metadata": {},
   "outputs": [
    {
     "name": "stdout",
     "output_type": "stream",
     "text": [
      "Requirement already satisfied: pyspark==3.4.2 in /home/hacs/.cache/pypoetry/virtualenvs/pyspark-delta-gPM1PAZH-py3.10/lib/python3.10/site-packages (3.4.2)\n",
      "Requirement already satisfied: py4j==0.10.9.7 in /home/hacs/.cache/pypoetry/virtualenvs/pyspark-delta-gPM1PAZH-py3.10/lib/python3.10/site-packages (from pyspark==3.4.2) (0.10.9.7)\n"
     ]
    }
   ],
   "source": [
    "!pip install pyspark==3.4.2"
   ]
  },
  {
   "cell_type": "code",
   "execution_count": 2,
   "id": "7bc6d5d1-70af-47ce-8129-731035913b61",
   "metadata": {},
   "outputs": [
    {
     "name": "stdout",
     "output_type": "stream",
     "text": [
      "Requirement already satisfied: minio in /home/hacs/.cache/pypoetry/virtualenvs/pyspark-delta-gPM1PAZH-py3.10/lib/python3.10/site-packages (7.2.7)\n",
      "Requirement already satisfied: argon2-cffi in /home/hacs/.cache/pypoetry/virtualenvs/pyspark-delta-gPM1PAZH-py3.10/lib/python3.10/site-packages (from minio) (23.1.0)\n",
      "Requirement already satisfied: pycryptodome in /home/hacs/.cache/pypoetry/virtualenvs/pyspark-delta-gPM1PAZH-py3.10/lib/python3.10/site-packages (from minio) (3.20.0)\n",
      "Requirement already satisfied: typing-extensions in /home/hacs/.cache/pypoetry/virtualenvs/pyspark-delta-gPM1PAZH-py3.10/lib/python3.10/site-packages (from minio) (4.12.2)\n",
      "Requirement already satisfied: certifi in /home/hacs/.cache/pypoetry/virtualenvs/pyspark-delta-gPM1PAZH-py3.10/lib/python3.10/site-packages (from minio) (2024.7.4)\n",
      "Requirement already satisfied: urllib3 in /home/hacs/.cache/pypoetry/virtualenvs/pyspark-delta-gPM1PAZH-py3.10/lib/python3.10/site-packages (from minio) (2.2.2)\n",
      "Requirement already satisfied: argon2-cffi-bindings in /home/hacs/.cache/pypoetry/virtualenvs/pyspark-delta-gPM1PAZH-py3.10/lib/python3.10/site-packages (from argon2-cffi->minio) (21.2.0)\n",
      "Requirement already satisfied: cffi>=1.0.1 in /home/hacs/.cache/pypoetry/virtualenvs/pyspark-delta-gPM1PAZH-py3.10/lib/python3.10/site-packages (from argon2-cffi-bindings->argon2-cffi->minio) (1.16.0)\n",
      "Requirement already satisfied: pycparser in /home/hacs/.cache/pypoetry/virtualenvs/pyspark-delta-gPM1PAZH-py3.10/lib/python3.10/site-packages (from cffi>=1.0.1->argon2-cffi-bindings->argon2-cffi->minio) (2.22)\n"
     ]
    }
   ],
   "source": [
    "!pip install minio"
   ]
  },
  {
   "cell_type": "code",
   "execution_count": 3,
   "id": "bc9aef6a-157f-4e54-bee7-642b38391de0",
   "metadata": {},
   "outputs": [
    {
     "name": "stdout",
     "output_type": "stream",
     "text": [
      "Requirement already satisfied: delta-spark==2.4.0 in /home/hacs/.cache/pypoetry/virtualenvs/pyspark-delta-gPM1PAZH-py3.10/lib/python3.10/site-packages (2.4.0)\n",
      "Requirement already satisfied: importlib-metadata>=1.0.0 in /home/hacs/.cache/pypoetry/virtualenvs/pyspark-delta-gPM1PAZH-py3.10/lib/python3.10/site-packages (from delta-spark==2.4.0) (8.2.0)\n",
      "Requirement already satisfied: pyspark<3.5.0,>=3.4.0 in /home/hacs/.cache/pypoetry/virtualenvs/pyspark-delta-gPM1PAZH-py3.10/lib/python3.10/site-packages (from delta-spark==2.4.0) (3.4.2)\n",
      "Requirement already satisfied: zipp>=0.5 in /home/hacs/.cache/pypoetry/virtualenvs/pyspark-delta-gPM1PAZH-py3.10/lib/python3.10/site-packages (from importlib-metadata>=1.0.0->delta-spark==2.4.0) (3.19.2)\n",
      "Requirement already satisfied: py4j==0.10.9.7 in /home/hacs/.cache/pypoetry/virtualenvs/pyspark-delta-gPM1PAZH-py3.10/lib/python3.10/site-packages (from pyspark<3.5.0,>=3.4.0->delta-spark==2.4.0) (0.10.9.7)\n"
     ]
    }
   ],
   "source": [
    "!pip install delta-spark==2.4.0"
   ]
  },
  {
   "cell_type": "code",
   "execution_count": 4,
   "id": "13f1fb93-d5ef-4a8f-b9e2-6a891863f893",
   "metadata": {},
   "outputs": [],
   "source": [
    "from pyspark.sql import SparkSession\n",
    "from delta import *\n",
    "from minio import Minio\n",
    "import pyspark.sql.functions as F"
   ]
  },
  {
   "cell_type": "code",
   "execution_count": 5,
   "id": "40ea502d-c1e5-45a9-9325-d1f533b69f36",
   "metadata": {},
   "outputs": [
    {
     "name": "stderr",
     "output_type": "stream",
     "text": [
      "24/08/18 23:41:06 WARN Utils: Your hostname, DESKTOP-CV9TLA8 resolves to a loopback address: 127.0.1.1; using 10.255.255.254 instead (on interface lo)\n",
      "24/08/18 23:41:06 WARN Utils: Set SPARK_LOCAL_IP if you need to bind to another address\n"
     ]
    },
    {
     "name": "stdout",
     "output_type": "stream",
     "text": [
      ":: loading settings :: url = jar:file:/home/hacs/.cache/pypoetry/virtualenvs/pyspark-delta-gPM1PAZH-py3.10/lib/python3.10/site-packages/pyspark/jars/ivy-2.5.1.jar!/org/apache/ivy/core/settings/ivysettings.xml\n"
     ]
    },
    {
     "name": "stderr",
     "output_type": "stream",
     "text": [
      "Ivy Default Cache set to: /home/hacs/.ivy2/cache\n",
      "The jars for the packages stored in: /home/hacs/.ivy2/jars\n",
      "io.delta#delta-core_2.12 added as a dependency\n",
      ":: resolving dependencies :: org.apache.spark#spark-submit-parent-9ae3c1a2-3051-4fa0-8cc5-a19cef5b4483;1.0\n",
      "\tconfs: [default]\n",
      "\tfound io.delta#delta-core_2.12;2.4.0 in central\n",
      "\tfound io.delta#delta-storage;2.4.0 in central\n",
      "\tfound org.antlr#antlr4-runtime;4.9.3 in central\n",
      ":: resolution report :: resolve 154ms :: artifacts dl 8ms\n",
      "\t:: modules in use:\n",
      "\tio.delta#delta-core_2.12;2.4.0 from central in [default]\n",
      "\tio.delta#delta-storage;2.4.0 from central in [default]\n",
      "\torg.antlr#antlr4-runtime;4.9.3 from central in [default]\n",
      "\t---------------------------------------------------------------------\n",
      "\t|                  |            modules            ||   artifacts   |\n",
      "\t|       conf       | number| search|dwnlded|evicted|| number|dwnlded|\n",
      "\t---------------------------------------------------------------------\n",
      "\t|      default     |   3   |   0   |   0   |   0   ||   3   |   0   |\n",
      "\t---------------------------------------------------------------------\n",
      ":: retrieving :: org.apache.spark#spark-submit-parent-9ae3c1a2-3051-4fa0-8cc5-a19cef5b4483\n",
      "\tconfs: [default]\n",
      "\t0 artifacts copied, 3 already retrieved (0kB/4ms)\n",
      "24/08/18 23:41:07 WARN NativeCodeLoader: Unable to load native-hadoop library for your platform... using builtin-java classes where applicable\n",
      "Setting default log level to \"WARN\".\n",
      "To adjust logging level use sc.setLogLevel(newLevel). For SparkR, use setLogLevel(newLevel).\n"
     ]
    }
   ],
   "source": [
    "spark = (\n",
    "    SparkSession.builder.master(\"local[*]\").appName(\"csvToParquet\")\n",
    "    #HADOOP\n",
    "    .config(\"spark.hadoop.fs.s3a.endpoint\", \"http://localhost:9000\")\n",
    "    .config(\"spark.hadoop.fs.s3a.access.key\", \"minioadmin\")\n",
    "    .config(\"spark.hadoop.fs.s3a.secret.key\", \"minioadmin\")\n",
    "    .config(\"spark.hadoop.fs.s3a.path.style.access\", \"true\")\n",
    "    .config(\"spark.hadoop.fs.s3a.aws.credentials.provider\", \"org.apache.hadoop.fs.s3a.SimpleAWSCredentialsProvider\")\n",
    "    #DELTA\n",
    "    .config(\"spark.jars.packages\", \"io.delta:delta-core_2.12:2.4.0\")\n",
    "    .config(\"spark.sql.extensions\", \"io.delta.sql.DeltaSparkSessionExtension\") \\\n",
    "    .config(\"spark.sql.catalog.spark_catalog\", \"org.apache.spark.sql.delta.catalog.DeltaCatalog\")\n",
    "    .config(\"spark.jars\", \"jars/aws-java-sdk-bundle-1.11.1026.jar, \\\n",
    "            jars/hadoop-aws-3.2.0.jar\")\n",
    "    .getOrCreate()\n",
    ")\n"
   ]
  },
  {
   "cell_type": "code",
   "execution_count": 6,
   "id": "970b86ee-ce00-4329-9406-fbb2f79ffefc",
   "metadata": {},
   "outputs": [],
   "source": [
    "client=Minio(\"localhost:9000\",\n",
    "             access_key=\"minioadmin\",\n",
    "             secret_key=\"minioadmin\",\n",
    "             secure=False\n",
    "            )\n"
   ]
  },
  {
   "cell_type": "code",
   "execution_count": 7,
   "id": "e6d0aa29-31f4-42af-ad39-2c1308a08f98",
   "metadata": {},
   "outputs": [],
   "source": [
    "objects=client.list_objects('raw', prefix='CAPES/')"
   ]
  },
  {
   "cell_type": "code",
   "execution_count": 8,
   "id": "410ff462-641b-4973-8ea8-32d0b88848fa",
   "metadata": {},
   "outputs": [],
   "source": [
    "objects=client.list_objects('raw', prefix='CAPES/')\n",
    "csvs = []\n",
    "for object in objects:\n",
    "    csvs.append(object.object_name)"
   ]
  },
  {
   "cell_type": "code",
   "execution_count": 9,
   "id": "cb5ce3ed-fca1-4261-b053-0ac8afcd8f26",
   "metadata": {},
   "outputs": [],
   "source": [
    "bucket_name = 'raw'"
   ]
  },
  {
   "cell_type": "code",
   "execution_count": 10,
   "id": "f66479d4-8350-457c-8b69-eb60c31153c6",
   "metadata": {},
   "outputs": [],
   "source": [
    "def equalslist(df1, df2):\n",
    "    return list(set(df1.columns).intersection(set(df2.columns)))\n",
    "\n",
    "def dfjoin(dataframe1, dataframe2, columnjoin):\n",
    "    \n",
    "    equals = equalslist(dataframe1,dataframe2)\n",
    "    equals.remove(columnjoin)\n",
    "    \n",
    "    for column in equals:\n",
    "        dataframe2 = dataframe2.drop(column)\n",
    "        \n",
    "    dataframe_join = dataframe1.join(dataframe2, columnjoin, 'full')\n",
    "    \n",
    "    return dataframe_join"
   ]
  },
  {
   "cell_type": "code",
   "execution_count": 11,
   "id": "fde116eb-c10e-4f29-b4d8-a06ca8d37866",
   "metadata": {},
   "outputs": [
    {
     "name": "stdout",
     "output_type": "stream",
     "text": [
      "0 - CAPES/2021-a-2024-autor-da-producao-intelectual-de-programas-de-pos-graduacao-stricto-sensu-no-brasil.csv\n",
      "1 - CAPES/2021-a-2024-catalogo-de-teses-e-dissertacoes-brasil.csv\n",
      "2 - CAPES/2021-a-2024-cursos-da-pos-graduacao-stricto-sensu-no-brasil.csv\n",
      "3 - CAPES/2021-a-2024-detalhes-da-producao-intelectual-bibliografica-de-programas-de-pos-graduacao.csv\n",
      "4 - CAPES/2021-a-2024-detalhes-da-producao-intelectual-tecnica-de-programas-de-pos-graduacao-stricto-sensu.csv\n",
      "5 - CAPES/2021-a-2024-discentes-da-pos-graduacao-stricto-sensu-do-brasil.csv\n",
      "6 - CAPES/2021-a-2024-docentes-da-pos-graduacao-stricto-sensu-no-brasil.csv\n",
      "7 - CAPES/2021-a-2024-financiadores-de-projetos-dos-programas-de-pos-graduacao-stricto-sensu-no-brasil.csv\n",
      "8 - CAPES/2021-a-2024-membros-de-projetos-dos-programas-de-pos-graduacao-stricto-sensu-no-brasil.csv\n",
      "9 - CAPES/2021-a-2024-producao-intelectual-de-pos-graduacao-stricto-sensu-no-brasil.csv\n",
      "10 - CAPES/2021-a-2024-programas-da-pos-graduacao-stricto-sensu-no-brasil.csv\n",
      "11 - CAPES/2021-a-2024-projetos-dos-programas-de-pos-graduacao-stricto-sensu-no-brasil.csv\n"
     ]
    }
   ],
   "source": [
    "count = 0\n",
    "for csv in csvs:\n",
    "    print(f'{count} - {csv}')\n",
    "    count+=1"
   ]
  },
  {
   "cell_type": "code",
   "execution_count": 12,
   "id": "5951cf16-2425-4cdf-9010-a613af9f0dbe",
   "metadata": {},
   "outputs": [
    {
     "name": "stderr",
     "output_type": "stream",
     "text": [
      "24/08/18 23:41:10 WARN MetricsConfig: Cannot locate configuration: tried hadoop-metrics2-s3a-file-system.properties,hadoop-metrics2.properties\n"
     ]
    },
    {
     "data": {
      "text/plain": [
       "4710"
      ]
     },
     "execution_count": 12,
     "metadata": {},
     "output_type": "execute_result"
    }
   ],
   "source": [
    "programas = spark.read.format('csv').option('header', 'true').option('sep', ';').load(f's3a://{bucket_name}/{csvs[10]}')\n",
    "programas.count()"
   ]
  },
  {
   "cell_type": "code",
   "execution_count": 13,
   "id": "b1d46e51-b900-4823-a1d7-eca556357831",
   "metadata": {},
   "outputs": [
    {
     "data": {
      "text/plain": [
       "488718"
      ]
     },
     "execution_count": 13,
     "metadata": {},
     "output_type": "execute_result"
    }
   ],
   "source": [
    "projetos = spark.read.format('csv').option('header', 'true').option('sep', ';').load(f's3a://{bucket_name}/{csvs[11]}')\n",
    "projetos.count()"
   ]
  },
  {
   "cell_type": "code",
   "execution_count": 14,
   "id": "e01b9742-cc67-43ee-bc11-ba65a951bd7f",
   "metadata": {},
   "outputs": [
    {
     "name": "stderr",
     "output_type": "stream",
     "text": [
      "                                                                                \r"
     ]
    },
    {
     "data": {
      "text/plain": [
       "488730"
      ]
     },
     "execution_count": 14,
     "metadata": {},
     "output_type": "execute_result"
    }
   ],
   "source": [
    "columnjoin = \"CD_PROGRAMA_IES\"\n",
    "join_programa_projetos = dfjoin(projetos, programas, columnjoin)\n",
    "join_programa_projetos.count()"
   ]
  },
  {
   "cell_type": "code",
   "execution_count": 15,
   "id": "5a0282f0-fbad-41d1-9e10-cb42079c80a3",
   "metadata": {},
   "outputs": [],
   "source": [
    "producoes = spark.read.format('csv').option('header', 'true').option('sep', ';').load(f's3a://{bucket_name}/{csvs[9]}')"
   ]
  },
  {
   "cell_type": "code",
   "execution_count": 16,
   "id": "a7b74343-96b7-49a8-96fc-59ef77ea5d1f",
   "metadata": {},
   "outputs": [
    {
     "name": "stderr",
     "output_type": "stream",
     "text": [
      "                                                                                \r"
     ]
    },
    {
     "data": {
      "text/plain": [
       "491180"
      ]
     },
     "execution_count": 16,
     "metadata": {},
     "output_type": "execute_result"
    }
   ],
   "source": [
    "columnjoin = \"ID_PROJETO\"\n",
    "join_producoes = dfjoin(producoes, join_programa_projetos, columnjoin)\n",
    "join_producoes.count()"
   ]
  },
  {
   "cell_type": "code",
   "execution_count": 17,
   "id": "1536b02c-216c-410b-ac0b-8ac759986f65",
   "metadata": {},
   "outputs": [
    {
     "data": {
      "text/plain": [
       "162121"
      ]
     },
     "execution_count": 17,
     "metadata": {},
     "output_type": "execute_result"
    }
   ],
   "source": [
    "financiadores = spark.read.format('csv').option('header', 'true').option('sep', ';').load(f's3a://{bucket_name}/{csvs[7]}')\n",
    "financiadores.count()"
   ]
  },
  {
   "cell_type": "code",
   "execution_count": 18,
   "id": "c2b06aeb-43d5-47c2-a4ed-56bb57e6ca9a",
   "metadata": {},
   "outputs": [
    {
     "name": "stderr",
     "output_type": "stream",
     "text": [
      "                                                                                \r"
     ]
    },
    {
     "data": {
      "text/plain": [
       "546725"
      ]
     },
     "execution_count": 18,
     "metadata": {},
     "output_type": "execute_result"
    }
   ],
   "source": [
    "columnjoin = \"ID_PROJETO\"\n",
    "join_financiadores = dfjoin(join_producoes, financiadores, columnjoin)\n",
    "join_financiadores.count()"
   ]
  },
  {
   "cell_type": "code",
   "execution_count": 19,
   "id": "588c92ea-f709-409d-8699-a744faf92a60",
   "metadata": {},
   "outputs": [
    {
     "data": {
      "text/plain": [
       "82238"
      ]
     },
     "execution_count": 19,
     "metadata": {},
     "output_type": "execute_result"
    }
   ],
   "source": [
    "teses = spark.read.format('csv').option('header', 'true').option('sep', ';').load(f's3a://{bucket_name}/{csvs[1]}')\n",
    "teses.count()"
   ]
  },
  {
   "cell_type": "code",
   "execution_count": 20,
   "id": "3eaf0820-102d-4397-a453-d87825b2a796",
   "metadata": {},
   "outputs": [
    {
     "name": "stderr",
     "output_type": "stream",
     "text": [
      "                                                                                \r"
     ]
    },
    {
     "data": {
      "text/plain": [
       "616038"
      ]
     },
     "execution_count": 20,
     "metadata": {},
     "output_type": "execute_result"
    }
   ],
   "source": [
    "columnjoin = \"ID_PROJETO\"\n",
    "join_teses = dfjoin(join_financiadores, teses, columnjoin)\n",
    "join_teses.count()"
   ]
  },
  {
   "cell_type": "code",
   "execution_count": 21,
   "id": "b44999fb-3b43-4a89-84b9-96816103d48d",
   "metadata": {},
   "outputs": [
    {
     "data": {
      "text/plain": [
       "4047"
      ]
     },
     "execution_count": 21,
     "metadata": {},
     "output_type": "execute_result"
    }
   ],
   "source": [
    "autores = spark.read.format('csv').option('header', 'true').option('sep', ';').load(f's3a://{bucket_name}/{csvs[0]}')\n",
    "autores.count()"
   ]
  },
  {
   "cell_type": "code",
   "execution_count": 22,
   "id": "77437aa5-8532-4769-afc7-6f3e57ed438b",
   "metadata": {},
   "outputs": [
    {
     "name": "stderr",
     "output_type": "stream",
     "text": [
      "                                                                                \r"
     ]
    },
    {
     "data": {
      "text/plain": [
       "617634"
      ]
     },
     "execution_count": 22,
     "metadata": {},
     "output_type": "execute_result"
    }
   ],
   "source": [
    "columnjoin = \"ID_ADD_PRODUCAO_INTELECTUAL\"\n",
    "join_autores = dfjoin(join_teses, autores, columnjoin)\n",
    "join_autores.count()"
   ]
  },
  {
   "cell_type": "code",
   "execution_count": 23,
   "id": "6b6d24fe-ed4a-4b05-892e-dc7133396901",
   "metadata": {},
   "outputs": [
    {
     "data": {
      "text/plain": [
       "1013387"
      ]
     },
     "execution_count": 23,
     "metadata": {},
     "output_type": "execute_result"
    }
   ],
   "source": [
    "membros = spark.read.format('csv').option('header', 'true').option('sep', ';').load(f's3a://{bucket_name}/{csvs[8]}')\n",
    "membros.count()"
   ]
  },
  {
   "cell_type": "code",
   "execution_count": 24,
   "id": "631baee8-0604-42c3-adb1-eae52fc5026b",
   "metadata": {},
   "outputs": [
    {
     "name": "stderr",
     "output_type": "stream",
     "text": [
      "                                                                                \r"
     ]
    },
    {
     "data": {
      "text/plain": [
       "2884561"
      ]
     },
     "execution_count": 24,
     "metadata": {},
     "output_type": "execute_result"
    }
   ],
   "source": [
    "columnjoin = \"ID_PROJETO\"\n",
    "join_membros = dfjoin(join_autores, membros, columnjoin)\n",
    "join_membros.count()"
   ]
  },
  {
   "cell_type": "code",
   "execution_count": 25,
   "id": "0d926a9a-9ef9-4bf3-8437-4ae299968bf4",
   "metadata": {},
   "outputs": [
    {
     "data": {
      "text/plain": [
       "420350"
      ]
     },
     "execution_count": 25,
     "metadata": {},
     "output_type": "execute_result"
    }
   ],
   "source": [
    "discentes = spark.read.format('csv').option('header', 'true').option('sep', ';').load(f's3a://{bucket_name}/{csvs[5]}')\n",
    "discentes.count()"
   ]
  },
  {
   "cell_type": "code",
   "execution_count": 26,
   "id": "871ccbb5-53a2-48f5-9b87-f913147cf820",
   "metadata": {},
   "outputs": [],
   "source": [
    "discentes = discentes.withColumnRenamed(\"ID_PESSOA\", \"ID_PESSOA_DISCENTE\")"
   ]
  },
  {
   "cell_type": "code",
   "execution_count": 39,
   "id": "005b86d7-dbe6-436f-bb13-95d577ea10e8",
   "metadata": {},
   "outputs": [],
   "source": [
    "def dfjoininner(dataframe1, dataframe2, columnjoin):\n",
    "    \n",
    "    equals = equalslist(dataframe1,dataframe2)\n",
    "    equals.remove(columnjoin)\n",
    "    \n",
    "    for column in equals:\n",
    "        dataframe2 = dataframe2.drop(column)\n",
    "        \n",
    "    dataframe_join = dataframe1.join(dataframe2, columnjoin, 'inner')\n",
    "    \n",
    "    return dataframe_join"
   ]
  },
  {
   "cell_type": "code",
   "execution_count": 43,
   "id": "ddc58612-8501-44e2-bbcb-2052218bc209",
   "metadata": {},
   "outputs": [
    {
     "name": "stderr",
     "output_type": "stream",
     "text": [
      "                                                                                \r"
     ]
    },
    {
     "data": {
      "text/plain": [
       "1752270"
      ]
     },
     "execution_count": 43,
     "metadata": {},
     "output_type": "execute_result"
    }
   ],
   "source": [
    "\n",
    "dfdiscentes = dfjoininner(join_membros, discentes, \"ID_PESSOA_DISCENTE\")\n",
    "dfdiscentes.count()\n"
   ]
  },
  {
   "cell_type": "code",
   "execution_count": 44,
   "id": "0c21fe4f-0589-4a15-858a-629dda44c519",
   "metadata": {},
   "outputs": [
    {
     "data": {
      "text/plain": [
       "338402"
      ]
     },
     "execution_count": 44,
     "metadata": {},
     "output_type": "execute_result"
    }
   ],
   "source": [
    "bibliografica = spark.read.format('csv').option('header', 'true').option('sep', ';').load(f's3a://{bucket_name}/{csvs[3]}')\n",
    "bibliografica.count()"
   ]
  },
  {
   "cell_type": "code",
   "execution_count": 49,
   "id": "69057946-698d-479c-843f-6e7b9491c03e",
   "metadata": {},
   "outputs": [
    {
     "name": "stderr",
     "output_type": "stream",
     "text": [
      "                                                                                \r"
     ]
    },
    {
     "data": {
      "text/plain": [
       "0"
      ]
     },
     "execution_count": 49,
     "metadata": {},
     "output_type": "execute_result"
    }
   ],
   "source": [
    "discentes_bibliografica = dfjoininner(dfdiscentes, bibliografica, \"ID_ADD_PRODUCAO_INTELECTUAL\")\n",
    "discentes_bibliografica.count()"
   ]
  },
  {
   "cell_type": "code",
   "execution_count": 47,
   "id": "8c7bba17-ec5d-4c38-b3f5-e813c06705f9",
   "metadata": {},
   "outputs": [
    {
     "name": "stdout",
     "output_type": "stream",
     "text": [
      "2090672\n"
     ]
    }
   ],
   "source": [
    "print(1752270+338402)"
   ]
  },
  {
   "cell_type": "code",
   "execution_count": null,
   "id": "3fbed5e8-9ed3-4a33-9585-2015d74a0d59",
   "metadata": {},
   "outputs": [],
   "source": []
  }
 ],
 "metadata": {
  "kernelspec": {
   "display_name": "Python 3 (ipykernel)",
   "language": "python",
   "name": "python3"
  },
  "language_info": {
   "codemirror_mode": {
    "name": "ipython",
    "version": 3
   },
   "file_extension": ".py",
   "mimetype": "text/x-python",
   "name": "python",
   "nbconvert_exporter": "python",
   "pygments_lexer": "ipython3",
   "version": "3.10.12"
  }
 },
 "nbformat": 4,
 "nbformat_minor": 5
}
