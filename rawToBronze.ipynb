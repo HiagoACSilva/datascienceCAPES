{
 "cells": [
  {
   "cell_type": "code",
   "execution_count": 1,
   "id": "f5878857-2257-40a8-9c79-9d57b50047cf",
   "metadata": {},
   "outputs": [
    {
     "name": "stdout",
     "output_type": "stream",
     "text": [
      "Requirement already satisfied: pyspark==3.4.2 in /home/hacs/.cache/pypoetry/virtualenvs/pyspark-delta-gPM1PAZH-py3.10/lib/python3.10/site-packages (3.4.2)\n",
      "Requirement already satisfied: py4j==0.10.9.7 in /home/hacs/.cache/pypoetry/virtualenvs/pyspark-delta-gPM1PAZH-py3.10/lib/python3.10/site-packages (from pyspark==3.4.2) (0.10.9.7)\n"
     ]
    }
   ],
   "source": [
    "!pip install pyspark==3.4.2"
   ]
  },
  {
   "cell_type": "code",
   "execution_count": 2,
   "id": "7bc6d5d1-70af-47ce-8129-731035913b61",
   "metadata": {},
   "outputs": [
    {
     "name": "stdout",
     "output_type": "stream",
     "text": [
      "Requirement already satisfied: minio in /home/hacs/.cache/pypoetry/virtualenvs/pyspark-delta-gPM1PAZH-py3.10/lib/python3.10/site-packages (7.2.7)\n",
      "Requirement already satisfied: pycryptodome in /home/hacs/.cache/pypoetry/virtualenvs/pyspark-delta-gPM1PAZH-py3.10/lib/python3.10/site-packages (from minio) (3.20.0)\n",
      "Requirement already satisfied: argon2-cffi in /home/hacs/.cache/pypoetry/virtualenvs/pyspark-delta-gPM1PAZH-py3.10/lib/python3.10/site-packages (from minio) (23.1.0)\n",
      "Requirement already satisfied: certifi in /home/hacs/.cache/pypoetry/virtualenvs/pyspark-delta-gPM1PAZH-py3.10/lib/python3.10/site-packages (from minio) (2024.7.4)\n",
      "Requirement already satisfied: urllib3 in /home/hacs/.cache/pypoetry/virtualenvs/pyspark-delta-gPM1PAZH-py3.10/lib/python3.10/site-packages (from minio) (2.2.2)\n",
      "Requirement already satisfied: typing-extensions in /home/hacs/.cache/pypoetry/virtualenvs/pyspark-delta-gPM1PAZH-py3.10/lib/python3.10/site-packages (from minio) (4.12.2)\n",
      "Requirement already satisfied: argon2-cffi-bindings in /home/hacs/.cache/pypoetry/virtualenvs/pyspark-delta-gPM1PAZH-py3.10/lib/python3.10/site-packages (from argon2-cffi->minio) (21.2.0)\n",
      "Requirement already satisfied: cffi>=1.0.1 in /home/hacs/.cache/pypoetry/virtualenvs/pyspark-delta-gPM1PAZH-py3.10/lib/python3.10/site-packages (from argon2-cffi-bindings->argon2-cffi->minio) (1.16.0)\n",
      "Requirement already satisfied: pycparser in /home/hacs/.cache/pypoetry/virtualenvs/pyspark-delta-gPM1PAZH-py3.10/lib/python3.10/site-packages (from cffi>=1.0.1->argon2-cffi-bindings->argon2-cffi->minio) (2.22)\n"
     ]
    }
   ],
   "source": [
    "!pip install minio"
   ]
  },
  {
   "cell_type": "code",
   "execution_count": 3,
   "id": "bc9aef6a-157f-4e54-bee7-642b38391de0",
   "metadata": {},
   "outputs": [
    {
     "name": "stdout",
     "output_type": "stream",
     "text": [
      "Requirement already satisfied: delta-spark==2.4.0 in /home/hacs/.cache/pypoetry/virtualenvs/pyspark-delta-gPM1PAZH-py3.10/lib/python3.10/site-packages (2.4.0)\n",
      "Requirement already satisfied: importlib-metadata>=1.0.0 in /home/hacs/.cache/pypoetry/virtualenvs/pyspark-delta-gPM1PAZH-py3.10/lib/python3.10/site-packages (from delta-spark==2.4.0) (8.2.0)\n",
      "Requirement already satisfied: pyspark<3.5.0,>=3.4.0 in /home/hacs/.cache/pypoetry/virtualenvs/pyspark-delta-gPM1PAZH-py3.10/lib/python3.10/site-packages (from delta-spark==2.4.0) (3.4.2)\n",
      "Requirement already satisfied: zipp>=0.5 in /home/hacs/.cache/pypoetry/virtualenvs/pyspark-delta-gPM1PAZH-py3.10/lib/python3.10/site-packages (from importlib-metadata>=1.0.0->delta-spark==2.4.0) (3.19.2)\n",
      "Requirement already satisfied: py4j==0.10.9.7 in /home/hacs/.cache/pypoetry/virtualenvs/pyspark-delta-gPM1PAZH-py3.10/lib/python3.10/site-packages (from pyspark<3.5.0,>=3.4.0->delta-spark==2.4.0) (0.10.9.7)\n"
     ]
    }
   ],
   "source": [
    "!pip install delta-spark==2.4.0"
   ]
  },
  {
   "cell_type": "code",
   "execution_count": 4,
   "id": "13f1fb93-d5ef-4a8f-b9e2-6a891863f893",
   "metadata": {},
   "outputs": [],
   "source": [
    "from pyspark.sql import SparkSession\n",
    "from delta import *\n",
    "from minio import Minio\n",
    "import pyspark.sql.functions as F"
   ]
  },
  {
   "cell_type": "code",
   "execution_count": 5,
   "id": "40ea502d-c1e5-45a9-9325-d1f533b69f36",
   "metadata": {},
   "outputs": [
    {
     "name": "stderr",
     "output_type": "stream",
     "text": [
      "24/08/27 20:59:50 WARN Utils: Your hostname, DESKTOP-CV9TLA8 resolves to a loopback address: 127.0.1.1; using 10.255.255.254 instead (on interface lo)\n",
      "24/08/27 20:59:50 WARN Utils: Set SPARK_LOCAL_IP if you need to bind to another address\n"
     ]
    },
    {
     "name": "stdout",
     "output_type": "stream",
     "text": [
      ":: loading settings :: url = jar:file:/home/hacs/.cache/pypoetry/virtualenvs/pyspark-delta-gPM1PAZH-py3.10/lib/python3.10/site-packages/pyspark/jars/ivy-2.5.1.jar!/org/apache/ivy/core/settings/ivysettings.xml\n"
     ]
    },
    {
     "name": "stderr",
     "output_type": "stream",
     "text": [
      "Ivy Default Cache set to: /home/hacs/.ivy2/cache\n",
      "The jars for the packages stored in: /home/hacs/.ivy2/jars\n",
      "io.delta#delta-core_2.12 added as a dependency\n",
      ":: resolving dependencies :: org.apache.spark#spark-submit-parent-478afaa1-4656-4741-bb7e-b9340ce36cdd;1.0\n",
      "\tconfs: [default]\n",
      "\tfound io.delta#delta-core_2.12;2.4.0 in central\n",
      "\tfound io.delta#delta-storage;2.4.0 in central\n",
      "\tfound org.antlr#antlr4-runtime;4.9.3 in central\n",
      ":: resolution report :: resolve 129ms :: artifacts dl 6ms\n",
      "\t:: modules in use:\n",
      "\tio.delta#delta-core_2.12;2.4.0 from central in [default]\n",
      "\tio.delta#delta-storage;2.4.0 from central in [default]\n",
      "\torg.antlr#antlr4-runtime;4.9.3 from central in [default]\n",
      "\t---------------------------------------------------------------------\n",
      "\t|                  |            modules            ||   artifacts   |\n",
      "\t|       conf       | number| search|dwnlded|evicted|| number|dwnlded|\n",
      "\t---------------------------------------------------------------------\n",
      "\t|      default     |   3   |   0   |   0   |   0   ||   3   |   0   |\n",
      "\t---------------------------------------------------------------------\n",
      ":: retrieving :: org.apache.spark#spark-submit-parent-478afaa1-4656-4741-bb7e-b9340ce36cdd\n",
      "\tconfs: [default]\n",
      "\t0 artifacts copied, 3 already retrieved (0kB/4ms)\n",
      "24/08/27 20:59:51 WARN NativeCodeLoader: Unable to load native-hadoop library for your platform... using builtin-java classes where applicable\n",
      "Setting default log level to \"WARN\".\n",
      "To adjust logging level use sc.setLogLevel(newLevel). For SparkR, use setLogLevel(newLevel).\n"
     ]
    }
   ],
   "source": [
    "spark = (\n",
    "    SparkSession.builder.master(\"local[*]\").appName(\"csvToParquet\")\n",
    "    #HADOOP\n",
    "    .config(\"spark.hadoop.fs.s3a.endpoint\", \"http://localhost:9000\")\n",
    "    .config(\"spark.hadoop.fs.s3a.access.key\", \"minioadmin\")\n",
    "    .config(\"spark.hadoop.fs.s3a.secret.key\", \"minioadmin\")\n",
    "    .config(\"spark.hadoop.fs.s3a.path.style.access\", \"true\")\n",
    "    .config(\"spark.hadoop.fs.s3a.aws.credentials.provider\", \"org.apache.hadoop.fs.s3a.SimpleAWSCredentialsProvider\")\n",
    "    #DELTA\n",
    "    .config(\"spark.jars.packages\", \"io.delta:delta-core_2.12:2.4.0\")\n",
    "    .config(\"spark.sql.extensions\", \"io.delta.sql.DeltaSparkSessionExtension\") \\\n",
    "    .config(\"spark.sql.catalog.spark_catalog\", \"org.apache.spark.sql.delta.catalog.DeltaCatalog\")\n",
    "    .config(\"spark.jars\", \"jars/aws-java-sdk-bundle-1.11.1026.jar, \\\n",
    "            jars/hadoop-aws-3.2.0.jar\")\n",
    "    .getOrCreate()\n",
    ")\n"
   ]
  },
  {
   "cell_type": "code",
   "execution_count": 6,
   "id": "970b86ee-ce00-4329-9406-fbb2f79ffefc",
   "metadata": {},
   "outputs": [],
   "source": [
    "client=Minio(\"localhost:9000\",\n",
    "             access_key=\"minioadmin\",\n",
    "             secret_key=\"minioadmin\",\n",
    "             secure=False\n",
    "            )\n"
   ]
  },
  {
   "cell_type": "code",
   "execution_count": 7,
   "id": "e6d0aa29-31f4-42af-ad39-2c1308a08f98",
   "metadata": {},
   "outputs": [],
   "source": [
    "objects=client.list_objects('raw', prefix='CAPES/')"
   ]
  },
  {
   "cell_type": "code",
   "execution_count": 8,
   "id": "410ff462-641b-4973-8ea8-32d0b88848fa",
   "metadata": {},
   "outputs": [],
   "source": [
    "objects=client.list_objects('raw', prefix='CAPES/')\n",
    "csvs = []\n",
    "for object in objects:\n",
    "    csvs.append(object.object_name)"
   ]
  },
  {
   "cell_type": "code",
   "execution_count": 9,
   "id": "cb5ce3ed-fca1-4261-b053-0ac8afcd8f26",
   "metadata": {},
   "outputs": [],
   "source": [
    "bucket_name = 'raw'"
   ]
  },
  {
   "cell_type": "code",
   "execution_count": 10,
   "id": "f66479d4-8350-457c-8b69-eb60c31153c6",
   "metadata": {},
   "outputs": [],
   "source": [
    "def equalslist(df1, df2):\n",
    "    return list(set(df1.columns).intersection(set(df2.columns)))\n",
    "    \n",
    "def dfjoin(dataframe1, dataframe2, columnjoin, typejoin):\n",
    "    \n",
    "    equals = equalslist(dataframe1,dataframe2)\n",
    "    equals.remove(columnjoin)\n",
    "    dataframe3 = dataframe2\n",
    "    for column in equals:\n",
    "        dataframe3 = dataframe3.drop(column)\n",
    "        \n",
    "    dataframe_join = dataframe1.join(dataframe3, columnjoin, typejoin)\n",
    "    dataframe_join = dataframe_join.dropna(subset=[columnjoin])\n",
    "    return dataframe_join\n"
   ]
  },
  {
   "cell_type": "code",
   "execution_count": 11,
   "id": "fde116eb-c10e-4f29-b4d8-a06ca8d37866",
   "metadata": {},
   "outputs": [
    {
     "name": "stdout",
     "output_type": "stream",
     "text": [
      "0 - CAPES/2021-a-2024-autor-da-producao-intelectual-de-programas-de-pos-graduacao-stricto-sensu-no-brasil.csv\n",
      "1 - CAPES/2021-a-2024-catalogo-de-teses-e-dissertacoes-brasil.csv\n",
      "2 - CAPES/2021-a-2024-cursos-da-pos-graduacao-stricto-sensu-no-brasil.csv\n",
      "3 - CAPES/2021-a-2024-detalhes-da-producao-intelectual-bibliografica-de-programas-de-pos-graduacao.csv\n",
      "4 - CAPES/2021-a-2024-detalhes-da-producao-intelectual-tecnica-de-programas-de-pos-graduacao-stricto-sensu.csv\n",
      "5 - CAPES/2021-a-2024-discentes-da-pos-graduacao-stricto-sensu-do-brasil.csv\n",
      "6 - CAPES/2021-a-2024-docentes-da-pos-graduacao-stricto-sensu-no-brasil.csv\n",
      "7 - CAPES/2021-a-2024-financiadores-de-projetos-dos-programas-de-pos-graduacao-stricto-sensu-no-brasil.csv\n",
      "8 - CAPES/2021-a-2024-membros-de-projetos-dos-programas-de-pos-graduacao-stricto-sensu-no-brasil.csv\n",
      "9 - CAPES/2021-a-2024-producao-intelectual-de-pos-graduacao-stricto-sensu-no-brasil.csv\n",
      "10 - CAPES/2021-a-2024-programas-da-pos-graduacao-stricto-sensu-no-brasil.csv\n",
      "11 - CAPES/2021-a-2024-projetos-dos-programas-de-pos-graduacao-stricto-sensu-no-brasil.csv\n"
     ]
    }
   ],
   "source": [
    "count = 0\n",
    "for csv in csvs:\n",
    "    print(f'{count} - {csv}')\n",
    "    count+=1"
   ]
  },
  {
   "cell_type": "code",
   "execution_count": 12,
   "id": "5951cf16-2425-4cdf-9010-a613af9f0dbe",
   "metadata": {},
   "outputs": [
    {
     "name": "stderr",
     "output_type": "stream",
     "text": [
      "24/08/27 20:59:53 WARN MetricsConfig: Cannot locate configuration: tried hadoop-metrics2-s3a-file-system.properties,hadoop-metrics2.properties\n"
     ]
    }
   ],
   "source": [
    "autores = spark.read.format('csv').option('header', 'true').option('sep', ';').load(f's3a://{bucket_name}/{csvs[0]}')\n",
    "teses = spark.read.format('csv').option('header', 'true').option('sep', ';').load(f's3a://{bucket_name}/{csvs[1]}')\n",
    "cursos = spark.read.format('csv').option('header', 'true').option('sep', ';').load(f's3a://{bucket_name}/{csvs[2]}')\n",
    "bibliografica = spark.read.format('csv').option('header', 'true').option('sep', ';').load(f's3a://{bucket_name}/{csvs[3]}')\n",
    "tecnica = spark.read.format('csv').option('header', 'true').option('sep', ';').load(f's3a://{bucket_name}/{csvs[4]}')\n",
    "discentes = spark.read.format('csv').option('header', 'true').option('sep', ';').load(f's3a://{bucket_name}/{csvs[5]}')\n",
    "docentes = spark.read.format('csv').option('header', 'true').option('sep', ';').load(f's3a://{bucket_name}/{csvs[6]}')\n",
    "financiadores = spark.read.format('csv').option('header', 'true').option('sep', ';').load(f's3a://{bucket_name}/{csvs[7]}')\n",
    "membros = spark.read.format('csv').option('header', 'true').option('sep', ';').load(f's3a://{bucket_name}/{csvs[8]}')\n",
    "producoes = spark.read.format('csv').option('header', 'true').option('sep', ';').load(f's3a://{bucket_name}/{csvs[9]}')\n",
    "programas = spark.read.format('csv').option('header', 'true').option('sep', ';').load(f's3a://{bucket_name}/{csvs[10]}')\n",
    "projetos = spark.read.format('csv').option('header', 'true').option('sep', ';').load(f's3a://{bucket_name}/{csvs[11]}')"
   ]
  },
  {
   "cell_type": "code",
   "execution_count": 80,
   "id": "33e9875c-f27c-44c2-9cb4-27501de5907d",
   "metadata": {},
   "outputs": [],
   "source": [
    "programas_cursos = dfjoin(programas, cursos, \"CD_PROGRAMA_IES\", \"inner\")\n",
    "programas_projetos = dfjoin(programas, projetos, \"CD_PROGRAMA_IES\", \"inner\")\n",
    "id_programas= dfjoin(programas_cursos, programas_projetos, \"CD_PROGRAMA_IES\", \"inner\")"
   ]
  },
  {
   "cell_type": "code",
   "execution_count": 14,
   "id": "8e41d397-7247-4d2c-b685-1cee33cbf1e1",
   "metadata": {},
   "outputs": [],
   "source": [
    "projetos_producao = dfjoin(projetos, producoes, \"ID_PROJETO\", \"inner\")\n",
    "projetos_financiadores = dfjoin(projetos, teses, \"ID_PROJETO\", \"inner\")\n",
    "projetos_teses = dfjoin(projetos, teses, \"ID_PROJETO\", \"inner\")"
   ]
  },
  {
   "cell_type": "code",
   "execution_count": 15,
   "id": "165d33b3-c8b9-47b8-9549-5daa16f42090",
   "metadata": {},
   "outputs": [],
   "source": [
    "financiadores_teses = dfjoin(projetos_financiadores, projetos_teses, \"ID_PROJETO\", 'inner')\n",
    "id_projetos = dfjoin(projetos_producao, financiadores_teses, \"ID_PROJETO\", 'inner')"
   ]
  },
  {
   "cell_type": "code",
   "execution_count": 17,
   "id": "2bcd0d89-646c-47c8-9c4b-ac1b663d8295",
   "metadata": {},
   "outputs": [],
   "source": [
    "id_producao = dfjoin(producoes, autores, \"ID_ADD_PRODUCAO_INTELECTUAL\", \"full\")"
   ]
  },
  {
   "cell_type": "code",
   "execution_count": 48,
   "id": "9ad51be3-8011-4b7f-82e2-61f647ef8e1a",
   "metadata": {},
   "outputs": [],
   "source": [
    "df = dfjoin(id_producao, id_projetos, \"ID_PROJETO\", \"inner\")"
   ]
  },
  {
   "cell_type": "code",
   "execution_count": 49,
   "id": "bd8c2104-f60d-4078-b7e9-dcf91c93ad3f",
   "metadata": {},
   "outputs": [],
   "source": [
    "df = dfjoin(df, id_programas, \"CD_PROGRAMA_IES\", \"inner\")"
   ]
  },
  {
   "cell_type": "code",
   "execution_count": 44,
   "id": "d3b1c935-e3a5-48c9-8124-0bd1e3400a20",
   "metadata": {},
   "outputs": [
    {
     "data": {
      "text/plain": [
       "516580"
      ]
     },
     "execution_count": 44,
     "metadata": {},
     "output_type": "execute_result"
    }
   ],
   "source": [
    "membros_discentes = dfjoin(discentes, membros, \"ID_PESSOA\", \"left\")"
   ]
  },
  {
   "cell_type": "code",
   "execution_count": 46,
   "id": "464282dd-5c55-407e-a9b8-53fef6678596",
   "metadata": {},
   "outputs": [],
   "source": [
    "membros_docentes = dfjoin(docentes, membros, \"ID_PESSOA\", \"left\")"
   ]
  },
  {
   "cell_type": "code",
   "execution_count": 51,
   "id": "d514da79-0e30-4698-a813-76e1bb3a8675",
   "metadata": {},
   "outputs": [
    {
     "name": "stderr",
     "output_type": "stream",
     "text": [
      "                                                                                \r"
     ]
    },
    {
     "data": {
      "text/plain": [
       "97787844"
      ]
     },
     "execution_count": 51,
     "metadata": {},
     "output_type": "execute_result"
    }
   ],
   "source": [
    "df_discentes = dfjoin(df, membros_discentes, \"ID_PROJETO\", \"inner\")"
   ]
  },
  {
   "cell_type": "code",
   "execution_count": 53,
   "id": "4bac3bd1-9a55-4f91-8d85-3b7823654d67",
   "metadata": {},
   "outputs": [],
   "source": [
    "df_docentes = dfjoin(df, membros_docentes, \"ID_PROJETO\", \"inner\")"
   ]
  },
  {
   "cell_type": "code",
   "execution_count": 64,
   "id": "d807ee80-363d-45cd-9f79-7def8beeeec2",
   "metadata": {},
   "outputs": [
    {
     "name": "stderr",
     "output_type": "stream",
     "text": [
      "                                                                                \r"
     ]
    },
    {
     "data": {
      "text/plain": [
       "1512"
      ]
     },
     "execution_count": 64,
     "metadata": {},
     "output_type": "execute_result"
    }
   ],
   "source": [
    "discentes_ufma = df_discentes.filter(F.col(\"SG_ENTIDADE_ENSINO\") == (\"UFMA\"))\n",
    "discentes_ufma.count()"
   ]
  },
  {
   "cell_type": "code",
   "execution_count": 74,
   "id": "8dbd32d2-ccf9-406b-a6bb-cc108d9c76a7",
   "metadata": {},
   "outputs": [],
   "source": [
    "discentes_ufma_tecnica = dfjoin(discentes_ufma, tecnica, \"CD_PROGRAMA_IES\", \"left\")"
   ]
  },
  {
   "cell_type": "code",
   "execution_count": 76,
   "id": "ba51eee1-23a3-4afa-a8ee-792a3568812c",
   "metadata": {},
   "outputs": [],
   "source": [
    "discentes_ufma_bibliografica = dfjoin(discentes_ufma, bibliografica, \"CD_PROGRAMA_IES\", \"left\")"
   ]
  },
  {
   "cell_type": "code",
   "execution_count": 78,
   "id": "38e04207-e515-4071-a961-fd45507391f1",
   "metadata": {},
   "outputs": [
    {
     "name": "stderr",
     "output_type": "stream",
     "text": [
      "                                                                                \r"
     ]
    },
    {
     "data": {
      "text/plain": [
       "3274"
      ]
     },
     "execution_count": 78,
     "metadata": {},
     "output_type": "execute_result"
    }
   ],
   "source": [
    "docentes_ufma = df_docentes.filter(F.col(\"SG_ENTIDADE_ENSINO\") == (\"UFMA\"))\n",
    "docentes_ufma.count()"
   ]
  },
  {
   "cell_type": "code",
   "execution_count": 79,
   "id": "94f6ad2f-6822-4e5c-bdd6-54ccb74fa140",
   "metadata": {},
   "outputs": [],
   "source": [
    "docentes_ufma_tecnica = dfjoin(docentes_ufma, tecnica, \"CD_PROGRAMA_IES\", \"left\")\n",
    "docentes_ufma_bibliografica = dfjoin(docentes_ufma, bibliografica, \"CD_PROGRAMA_IES\", \"left\")"
   ]
  },
  {
   "cell_type": "code",
   "execution_count": null,
   "id": "1836b282-1ba8-488c-acef-701a68656659",
   "metadata": {},
   "outputs": [],
   "source": []
  }
 ],
 "metadata": {
  "kernelspec": {
   "display_name": "Python 3 (ipykernel)",
   "language": "python",
   "name": "python3"
  },
  "language_info": {
   "codemirror_mode": {
    "name": "ipython",
    "version": 3
   },
   "file_extension": ".py",
   "mimetype": "text/x-python",
   "name": "python",
   "nbconvert_exporter": "python",
   "pygments_lexer": "ipython3",
   "version": "3.10.12"
  }
 },
 "nbformat": 4,
 "nbformat_minor": 5
}
