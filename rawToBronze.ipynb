{
 "cells": [
  {
   "cell_type": "code",
   "execution_count": 1,
   "id": "f5878857-2257-40a8-9c79-9d57b50047cf",
   "metadata": {},
   "outputs": [
    {
     "name": "stdout",
     "output_type": "stream",
     "text": [
      "Requirement already satisfied: pyspark==3.4.2 in /home/hacs/.cache/pypoetry/virtualenvs/pyspark-delta-gPM1PAZH-py3.10/lib/python3.10/site-packages (3.4.2)\n",
      "Requirement already satisfied: py4j==0.10.9.7 in /home/hacs/.cache/pypoetry/virtualenvs/pyspark-delta-gPM1PAZH-py3.10/lib/python3.10/site-packages (from pyspark==3.4.2) (0.10.9.7)\n"
     ]
    }
   ],
   "source": [
    "!pip install pyspark==3.4.2"
   ]
  },
  {
   "cell_type": "code",
   "execution_count": 2,
   "id": "7bc6d5d1-70af-47ce-8129-731035913b61",
   "metadata": {},
   "outputs": [
    {
     "name": "stdout",
     "output_type": "stream",
     "text": [
      "Requirement already satisfied: minio in /home/hacs/.cache/pypoetry/virtualenvs/pyspark-delta-gPM1PAZH-py3.10/lib/python3.10/site-packages (7.2.7)\n",
      "Requirement already satisfied: argon2-cffi in /home/hacs/.cache/pypoetry/virtualenvs/pyspark-delta-gPM1PAZH-py3.10/lib/python3.10/site-packages (from minio) (23.1.0)\n",
      "Requirement already satisfied: pycryptodome in /home/hacs/.cache/pypoetry/virtualenvs/pyspark-delta-gPM1PAZH-py3.10/lib/python3.10/site-packages (from minio) (3.20.0)\n",
      "Requirement already satisfied: typing-extensions in /home/hacs/.cache/pypoetry/virtualenvs/pyspark-delta-gPM1PAZH-py3.10/lib/python3.10/site-packages (from minio) (4.12.2)\n",
      "Requirement already satisfied: urllib3 in /home/hacs/.cache/pypoetry/virtualenvs/pyspark-delta-gPM1PAZH-py3.10/lib/python3.10/site-packages (from minio) (2.2.2)\n",
      "Requirement already satisfied: certifi in /home/hacs/.cache/pypoetry/virtualenvs/pyspark-delta-gPM1PAZH-py3.10/lib/python3.10/site-packages (from minio) (2024.7.4)\n",
      "Requirement already satisfied: argon2-cffi-bindings in /home/hacs/.cache/pypoetry/virtualenvs/pyspark-delta-gPM1PAZH-py3.10/lib/python3.10/site-packages (from argon2-cffi->minio) (21.2.0)\n",
      "Requirement already satisfied: cffi>=1.0.1 in /home/hacs/.cache/pypoetry/virtualenvs/pyspark-delta-gPM1PAZH-py3.10/lib/python3.10/site-packages (from argon2-cffi-bindings->argon2-cffi->minio) (1.16.0)\n",
      "Requirement already satisfied: pycparser in /home/hacs/.cache/pypoetry/virtualenvs/pyspark-delta-gPM1PAZH-py3.10/lib/python3.10/site-packages (from cffi>=1.0.1->argon2-cffi-bindings->argon2-cffi->minio) (2.22)\n"
     ]
    }
   ],
   "source": [
    "!pip install minio"
   ]
  },
  {
   "cell_type": "code",
   "execution_count": 3,
   "id": "bc9aef6a-157f-4e54-bee7-642b38391de0",
   "metadata": {},
   "outputs": [
    {
     "name": "stdout",
     "output_type": "stream",
     "text": [
      "Requirement already satisfied: delta-spark==2.4.0 in /home/hacs/.cache/pypoetry/virtualenvs/pyspark-delta-gPM1PAZH-py3.10/lib/python3.10/site-packages (2.4.0)\n",
      "Requirement already satisfied: importlib-metadata>=1.0.0 in /home/hacs/.cache/pypoetry/virtualenvs/pyspark-delta-gPM1PAZH-py3.10/lib/python3.10/site-packages (from delta-spark==2.4.0) (8.2.0)\n",
      "Requirement already satisfied: pyspark<3.5.0,>=3.4.0 in /home/hacs/.cache/pypoetry/virtualenvs/pyspark-delta-gPM1PAZH-py3.10/lib/python3.10/site-packages (from delta-spark==2.4.0) (3.4.2)\n",
      "Requirement already satisfied: zipp>=0.5 in /home/hacs/.cache/pypoetry/virtualenvs/pyspark-delta-gPM1PAZH-py3.10/lib/python3.10/site-packages (from importlib-metadata>=1.0.0->delta-spark==2.4.0) (3.19.2)\n",
      "Requirement already satisfied: py4j==0.10.9.7 in /home/hacs/.cache/pypoetry/virtualenvs/pyspark-delta-gPM1PAZH-py3.10/lib/python3.10/site-packages (from pyspark<3.5.0,>=3.4.0->delta-spark==2.4.0) (0.10.9.7)\n"
     ]
    }
   ],
   "source": [
    "!pip install delta-spark==2.4.0"
   ]
  },
  {
   "cell_type": "code",
   "execution_count": 4,
   "id": "13f1fb93-d5ef-4a8f-b9e2-6a891863f893",
   "metadata": {},
   "outputs": [],
   "source": [
    "from pyspark.sql import SparkSession\n",
    "from delta import *\n",
    "from minio import Minio\n",
    "import pyspark.sql.functions as F"
   ]
  },
  {
   "cell_type": "code",
   "execution_count": 5,
   "id": "40ea502d-c1e5-45a9-9325-d1f533b69f36",
   "metadata": {},
   "outputs": [
    {
     "name": "stderr",
     "output_type": "stream",
     "text": [
      "24/08/22 23:10:10 WARN Utils: Your hostname, DESKTOP-CV9TLA8 resolves to a loopback address: 127.0.1.1; using 10.255.255.254 instead (on interface lo)\n",
      "24/08/22 23:10:10 WARN Utils: Set SPARK_LOCAL_IP if you need to bind to another address\n"
     ]
    },
    {
     "name": "stdout",
     "output_type": "stream",
     "text": [
      ":: loading settings :: url = jar:file:/home/hacs/.cache/pypoetry/virtualenvs/pyspark-delta-gPM1PAZH-py3.10/lib/python3.10/site-packages/pyspark/jars/ivy-2.5.1.jar!/org/apache/ivy/core/settings/ivysettings.xml\n"
     ]
    },
    {
     "name": "stderr",
     "output_type": "stream",
     "text": [
      "Ivy Default Cache set to: /home/hacs/.ivy2/cache\n",
      "The jars for the packages stored in: /home/hacs/.ivy2/jars\n",
      "io.delta#delta-core_2.12 added as a dependency\n",
      ":: resolving dependencies :: org.apache.spark#spark-submit-parent-8b154350-ce3e-4221-be7d-69912f83dfd1;1.0\n",
      "\tconfs: [default]\n",
      "\tfound io.delta#delta-core_2.12;2.4.0 in central\n",
      "\tfound io.delta#delta-storage;2.4.0 in central\n",
      "\tfound org.antlr#antlr4-runtime;4.9.3 in central\n",
      ":: resolution report :: resolve 166ms :: artifacts dl 7ms\n",
      "\t:: modules in use:\n",
      "\tio.delta#delta-core_2.12;2.4.0 from central in [default]\n",
      "\tio.delta#delta-storage;2.4.0 from central in [default]\n",
      "\torg.antlr#antlr4-runtime;4.9.3 from central in [default]\n",
      "\t---------------------------------------------------------------------\n",
      "\t|                  |            modules            ||   artifacts   |\n",
      "\t|       conf       | number| search|dwnlded|evicted|| number|dwnlded|\n",
      "\t---------------------------------------------------------------------\n",
      "\t|      default     |   3   |   0   |   0   |   0   ||   3   |   0   |\n",
      "\t---------------------------------------------------------------------\n",
      ":: retrieving :: org.apache.spark#spark-submit-parent-8b154350-ce3e-4221-be7d-69912f83dfd1\n",
      "\tconfs: [default]\n",
      "\t0 artifacts copied, 3 already retrieved (0kB/4ms)\n",
      "24/08/22 23:10:10 WARN NativeCodeLoader: Unable to load native-hadoop library for your platform... using builtin-java classes where applicable\n",
      "Setting default log level to \"WARN\".\n",
      "To adjust logging level use sc.setLogLevel(newLevel). For SparkR, use setLogLevel(newLevel).\n"
     ]
    }
   ],
   "source": [
    "spark = (\n",
    "    SparkSession.builder.master(\"local[*]\").appName(\"csvToParquet\")\n",
    "    #HADOOP\n",
    "    .config(\"spark.hadoop.fs.s3a.endpoint\", \"http://localhost:9000\")\n",
    "    .config(\"spark.hadoop.fs.s3a.access.key\", \"minioadmin\")\n",
    "    .config(\"spark.hadoop.fs.s3a.secret.key\", \"minioadmin\")\n",
    "    .config(\"spark.hadoop.fs.s3a.path.style.access\", \"true\")\n",
    "    .config(\"spark.hadoop.fs.s3a.aws.credentials.provider\", \"org.apache.hadoop.fs.s3a.SimpleAWSCredentialsProvider\")\n",
    "    #DELTA\n",
    "    .config(\"spark.jars.packages\", \"io.delta:delta-core_2.12:2.4.0\")\n",
    "    .config(\"spark.sql.extensions\", \"io.delta.sql.DeltaSparkSessionExtension\") \\\n",
    "    .config(\"spark.sql.catalog.spark_catalog\", \"org.apache.spark.sql.delta.catalog.DeltaCatalog\")\n",
    "    .config(\"spark.jars\", \"jars/aws-java-sdk-bundle-1.11.1026.jar, \\\n",
    "            jars/hadoop-aws-3.2.0.jar\")\n",
    "    .getOrCreate()\n",
    ")\n"
   ]
  },
  {
   "cell_type": "code",
   "execution_count": 6,
   "id": "970b86ee-ce00-4329-9406-fbb2f79ffefc",
   "metadata": {},
   "outputs": [],
   "source": [
    "client=Minio(\"localhost:9000\",\n",
    "             access_key=\"minioadmin\",\n",
    "             secret_key=\"minioadmin\",\n",
    "             secure=False\n",
    "            )\n"
   ]
  },
  {
   "cell_type": "code",
   "execution_count": 7,
   "id": "e6d0aa29-31f4-42af-ad39-2c1308a08f98",
   "metadata": {},
   "outputs": [],
   "source": [
    "objects=client.list_objects('raw', prefix='CAPES/')"
   ]
  },
  {
   "cell_type": "code",
   "execution_count": 8,
   "id": "410ff462-641b-4973-8ea8-32d0b88848fa",
   "metadata": {},
   "outputs": [],
   "source": [
    "objects=client.list_objects('raw', prefix='CAPES/')\n",
    "csvs = []\n",
    "for object in objects:\n",
    "    csvs.append(object.object_name)"
   ]
  },
  {
   "cell_type": "code",
   "execution_count": 9,
   "id": "cb5ce3ed-fca1-4261-b053-0ac8afcd8f26",
   "metadata": {},
   "outputs": [],
   "source": [
    "bucket_name = 'raw'"
   ]
  },
  {
   "cell_type": "code",
   "execution_count": 75,
   "id": "f66479d4-8350-457c-8b69-eb60c31153c6",
   "metadata": {},
   "outputs": [],
   "source": [
    "def equalslist(df1, df2):\n",
    "    return list(set(df1.columns).intersection(set(df2.columns)))\n",
    "    \n",
    "def dfjoin(dataframe1, dataframe2, columnjoin, typejoin):\n",
    "    \n",
    "    equals = equalslist(dataframe1,dataframe2)\n",
    "    equals.remove(columnjoin)\n",
    "    dataframe3 = dataframe2\n",
    "    for column in equals:\n",
    "        dataframe3 = dataframe3.drop(column)\n",
    "        \n",
    "    dataframe_join = dataframe1.join(dataframe3, columnjoin, typejoin)\n",
    "    dataframe_join = dataframe_join.dropna(subset=[columnjoin])\n",
    "    return dataframe_join\n"
   ]
  },
  {
   "cell_type": "code",
   "execution_count": 11,
   "id": "fde116eb-c10e-4f29-b4d8-a06ca8d37866",
   "metadata": {},
   "outputs": [
    {
     "name": "stdout",
     "output_type": "stream",
     "text": [
      "0 - CAPES/2021-a-2024-autor-da-producao-intelectual-de-programas-de-pos-graduacao-stricto-sensu-no-brasil.csv\n",
      "1 - CAPES/2021-a-2024-catalogo-de-teses-e-dissertacoes-brasil.csv\n",
      "2 - CAPES/2021-a-2024-cursos-da-pos-graduacao-stricto-sensu-no-brasil.csv\n",
      "3 - CAPES/2021-a-2024-detalhes-da-producao-intelectual-bibliografica-de-programas-de-pos-graduacao.csv\n",
      "4 - CAPES/2021-a-2024-detalhes-da-producao-intelectual-tecnica-de-programas-de-pos-graduacao-stricto-sensu.csv\n",
      "5 - CAPES/2021-a-2024-discentes-da-pos-graduacao-stricto-sensu-do-brasil.csv\n",
      "6 - CAPES/2021-a-2024-docentes-da-pos-graduacao-stricto-sensu-no-brasil.csv\n",
      "7 - CAPES/2021-a-2024-financiadores-de-projetos-dos-programas-de-pos-graduacao-stricto-sensu-no-brasil.csv\n",
      "8 - CAPES/2021-a-2024-membros-de-projetos-dos-programas-de-pos-graduacao-stricto-sensu-no-brasil.csv\n",
      "9 - CAPES/2021-a-2024-producao-intelectual-de-pos-graduacao-stricto-sensu-no-brasil.csv\n",
      "10 - CAPES/2021-a-2024-programas-da-pos-graduacao-stricto-sensu-no-brasil.csv\n",
      "11 - CAPES/2021-a-2024-projetos-dos-programas-de-pos-graduacao-stricto-sensu-no-brasil.csv\n"
     ]
    }
   ],
   "source": [
    "count = 0\n",
    "for csv in csvs:\n",
    "    print(f'{count} - {csv}')\n",
    "    count+=1"
   ]
  },
  {
   "cell_type": "code",
   "execution_count": 76,
   "id": "5951cf16-2425-4cdf-9010-a613af9f0dbe",
   "metadata": {},
   "outputs": [],
   "source": [
    "autores = spark.read.format('csv').option('header', 'true').option('sep', ';').load(f's3a://{bucket_name}/{csvs[0]}')\n",
    "teses = spark.read.format('csv').option('header', 'true').option('sep', ';').load(f's3a://{bucket_name}/{csvs[1]}')\n",
    "cursos = spark.read.format('csv').option('header', 'true').option('sep', ';').load(f's3a://{bucket_name}/{csvs[2]}')\n",
    "bibliografica = spark.read.format('csv').option('header', 'true').option('sep', ';').load(f's3a://{bucket_name}/{csvs[3]}')\n",
    "tecnica = spark.read.format('csv').option('header', 'true').option('sep', ';').load(f's3a://{bucket_name}/{csvs[4]}')\n",
    "discentes = spark.read.format('csv').option('header', 'true').option('sep', ';').load(f's3a://{bucket_name}/{csvs[5]}')\n",
    "docentes = spark.read.format('csv').option('header', 'true').option('sep', ';').load(f's3a://{bucket_name}/{csvs[6]}')\n",
    "financiadores = spark.read.format('csv').option('header', 'true').option('sep', ';').load(f's3a://{bucket_name}/{csvs[7]}')\n",
    "membros = spark.read.format('csv').option('header', 'true').option('sep', ';').load(f's3a://{bucket_name}/{csvs[8]}')\n",
    "producoes = spark.read.format('csv').option('header', 'true').option('sep', ';').load(f's3a://{bucket_name}/{csvs[9]}')\n",
    "programas = spark.read.format('csv').option('header', 'true').option('sep', ';').load(f's3a://{bucket_name}/{csvs[10]}')\n",
    "projetos = spark.read.format('csv').option('header', 'true').option('sep', ';').load(f's3a://{bucket_name}/{csvs[11]}')"
   ]
  },
  {
   "cell_type": "code",
   "execution_count": 77,
   "id": "d2c7d576-5dec-4c09-8ebe-3bd942cd2d5e",
   "metadata": {},
   "outputs": [],
   "source": [
    "lista = equalslist(cursos, programas)\n",
    "programa_curso = dfjoinouter(cursos, programas, \"CD_PROGRAMA_IES\", \"inner\")"
   ]
  },
  {
   "cell_type": "code",
   "execution_count": 25,
   "id": "6116504d-a3f5-4f28-baac-011ac8217abe",
   "metadata": {},
   "outputs": [
    {
     "name": "stdout",
     "output_type": "stream",
     "text": [
      "['CD_ENTIDADE_EMEC', 'SG_UF_PROGRAMA', 'NM_REGIAO', 'DS_DEPENDENCIA_ADMINISTRATIVA', 'ID_ADD_FOTO_PROGRAMA_IES', 'CD_ENTIDADE_CAPES', 'DS_ORGANIZACAO_ACADEMICA', 'CD_PROGRAMA_IES', 'CD_AREA_AVALIACAO', 'NM_AREA_AVALIACAO', 'AN_BASE', 'NM_ENTIDADE_ENSINO', 'NM_PROGRAMA_IES', 'NM_SUBAREA_CONHECIMENTO', 'NM_MUNICIPIO_PROGRAMA_IES', 'ID_ADD_FOTO_PROGRAMA', 'CS_STATUS_JURIDICO', 'NM_ESPECIALIDADE', 'NM_GRANDE_AREA_CONHECIMENTO', 'NM_AREA_CONHECIMENTO', 'SG_ENTIDADE_ENSINO']\n"
     ]
    }
   ],
   "source": [
    "print(lista)"
   ]
  },
  {
   "cell_type": "code",
   "execution_count": 78,
   "id": "fef93a43-82bf-4a9d-a68a-cfda2e6837d8",
   "metadata": {},
   "outputs": [
    {
     "name": "stdout",
     "output_type": "stream",
     "text": [
      "+-----------------+---------------+\n",
      "|CD_ENTIDADE_CAPES|CD_PROGRAMA_IES|\n",
      "+-----------------+---------------+\n",
      "|         12002011|  12002011002P3|\n",
      "|         17010004|  17010004001P4|\n",
      "|         31045014|  31045014001P7|\n",
      "|         33003017|  33003017034P8|\n",
      "|         33051011|  33051011002P5|\n",
      "|         33076014|  33076014008P9|\n",
      "|         32011016|  32011016041P0|\n",
      "|         40001016|  40001016061P2|\n",
      "|         21001014|  21001014001P6|\n",
      "|         33003017|  33003017004P1|\n",
      "|         53001010|  53001010089P4|\n",
      "|         31001017|  31001017110P8|\n",
      "|         33072019|  33072019003P1|\n",
      "|         31004016|  31004016009P4|\n",
      "|         21001014|  21001014016P3|\n",
      "|         40001016|  40001016065P8|\n",
      "|         32004010|  32004010043P4|\n",
      "|         25003011|  25003011003P2|\n",
      "|         33010013|  33010013005P0|\n",
      "|         30001013|  30001013030P1|\n",
      "+-----------------+---------------+\n",
      "only showing top 20 rows\n",
      "\n"
     ]
    }
   ],
   "source": [
    "programa_curso.select(\"CD_ENTIDADE_CAPES\", \"CD_PROGRAMA_IES\").show()"
   ]
  },
  {
   "cell_type": "code",
   "execution_count": 79,
   "id": "169410f9-666d-4c98-955c-5db94f97a577",
   "metadata": {},
   "outputs": [],
   "source": [
    "projetos_membros = dfjoin(projetos, membros, \"ID_PROJETO\", 'inner')"
   ]
  },
  {
   "cell_type": "code",
   "execution_count": 80,
   "id": "70953b34-1bd5-4a5e-b0a3-2530df188bdf",
   "metadata": {},
   "outputs": [
    {
     "data": {
      "text/plain": [
       "1012749"
      ]
     },
     "execution_count": 80,
     "metadata": {},
     "output_type": "execute_result"
    }
   ],
   "source": [
    "projetos_membros.count()"
   ]
  },
  {
   "cell_type": "code",
   "execution_count": 81,
   "id": "ef092ccb-3ae2-46d8-ac9e-b9479a10ad66",
   "metadata": {},
   "outputs": [
    {
     "name": "stdout",
     "output_type": "stream",
     "text": [
      "488718 2967 4710\n"
     ]
    }
   ],
   "source": [
    "print(f'{projetos.count()} {producoes.count()} {programas.count()}')"
   ]
  },
  {
   "cell_type": "code",
   "execution_count": 82,
   "id": "594e0440-00e7-4f84-ad83-b7646b8e4170",
   "metadata": {},
   "outputs": [
    {
     "name": "stderr",
     "output_type": "stream",
     "text": [
      "[Stage 182:>                                                      (0 + 12) / 12]\r"
     ]
    },
    {
     "name": "stdout",
     "output_type": "stream",
     "text": [
      "+---------+--------------------+----------+\n",
      "|ID_PESSOA|          NM_PROJETO|ID_PROJETO|\n",
      "+---------+--------------------+----------+\n",
      "|  3597507|AN�LISE QUIMIOM�T...|    100129|\n",
      "|    15458|AN�LISE QUIMIOM�T...|    100129|\n",
      "|    11306|DIN�MICA QU�NTICA...|    100140|\n",
      "|  1242633|DIN�MICA QU�NTICA...|    100140|\n",
      "|  3234814|DIN�MICA QU�NTICA...|    100140|\n",
      "|  2521455|DIN�MICA QU�NTICA...|    100140|\n",
      "|  2472203|DIN�MICA QU�NTICA...|    100140|\n",
      "|    19271|PRODU��O DE NOVOS...|    100156|\n",
      "|    19271|PROJETO DE INTERA...|    100160|\n",
      "|   865247|AVALIA��O DE COMP...|    100191|\n",
      "|  1248328|AVALIA��O DE COMP...|    100191|\n",
      "|  3771900|AVALIA��O DE COMP...|    100191|\n",
      "|   905075|AVALIA��O DE COMP...|    100191|\n",
      "|  3099850|AVALIA��O DE COMP...|    100191|\n",
      "|   499064|AVALIA��O DE COMP...|    100191|\n",
      "|   439226|ESTUDOS DE QSAR P...|    100192|\n",
      "|   839623|ESTUDOS DE QSAR P...|    100192|\n",
      "|  1522320|ESTUDOS DE QSAR P...|    100192|\n",
      "|  1178667|ESTUDOS DE QSAR P...|    100192|\n",
      "|    15458|ESTUDOS DE QSAR P...|    100192|\n",
      "+---------+--------------------+----------+\n",
      "only showing top 20 rows\n",
      "\n"
     ]
    },
    {
     "name": "stderr",
     "output_type": "stream",
     "text": [
      "                                                                                \r"
     ]
    }
   ],
   "source": [
    "projetos_membros.select(\"ID_PESSOA\",\"NM_PROJETO\", \"ID_PROJETO\").show()"
   ]
  },
  {
   "cell_type": "code",
   "execution_count": 85,
   "id": "173ed671-9279-4af3-9c2d-46de62c26bc6",
   "metadata": {},
   "outputs": [
    {
     "data": {
      "text/plain": [
       "1012749"
      ]
     },
     "execution_count": 85,
     "metadata": {},
     "output_type": "execute_result"
    }
   ],
   "source": [
    "projetos_membrosf = projetos_membros.dropna(subset=[\"ID_PROJETO\"])\n",
    "projetos_membrosf.count()"
   ]
  },
  {
   "cell_type": "code",
   "execution_count": null,
   "id": "1131012f-c13d-4982-9d70-867f84c0db95",
   "metadata": {},
   "outputs": [],
   "source": []
  }
 ],
 "metadata": {
  "kernelspec": {
   "display_name": "Python 3 (ipykernel)",
   "language": "python",
   "name": "python3"
  },
  "language_info": {
   "codemirror_mode": {
    "name": "ipython",
    "version": 3
   },
   "file_extension": ".py",
   "mimetype": "text/x-python",
   "name": "python",
   "nbconvert_exporter": "python",
   "pygments_lexer": "ipython3",
   "version": "3.10.12"
  }
 },
 "nbformat": 4,
 "nbformat_minor": 5
}
