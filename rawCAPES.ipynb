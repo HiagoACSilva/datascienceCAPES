{
 "cells": [
  {
   "cell_type": "code",
   "execution_count": 1,
   "id": "5e6cc56b-7e86-46a6-b54b-14b544845d3a",
   "metadata": {},
   "outputs": [],
   "source": [
    "from minio import Minio\n",
    "import os"
   ]
  },
  {
   "cell_type": "code",
   "execution_count": 2,
   "id": "b983f3b0-e111-492c-9b6c-c96eb149927a",
   "metadata": {},
   "outputs": [],
   "source": [
    "client=Minio(\"localhost:9000\",\n",
    "             access_key=\"minioadmin\",\n",
    "             secret_key=\"minioadmin\",\n",
    "             secure=False\n",
    "            )\n",
    "\n",
    "bucket_name=\"raw\"\n",
    "found = client.bucket_exists(bucket_name)\n",
    "if not found:\n",
    "    client.make_bucket(bucket_name)"
   ]
  },
  {
   "cell_type": "code",
   "execution_count": 4,
   "id": "aab9fd8d-afce-47da-bd59-c0d3b733b56d",
   "metadata": {},
   "outputs": [
    {
     "name": "stdout",
     "output_type": "stream",
     "text": [
      "Arquivo 2021-a-2024-financiadores-de-projetos-dos-programas-de-pos-graduacao-stricto-sensu-no-brasil.csv enviado para o bucket raw\n",
      "Arquivo 2021-a-2024-projetos-dos-programas-de-pos-graduacao-stricto-sensu-no-brasil.csv enviado para o bucket raw\n",
      "Arquivo 2021-a-2024-catalogo-de-teses-e-dissertacoes-brasil.csv enviado para o bucket raw\n",
      "Arquivo 2021-a-2024-autor-da-producao-intelectual-de-programas-de-pos-graduacao-stricto-sensu-no-brasil.csv enviado para o bucket raw\n",
      "Arquivo 2021-a-2024-cursos-da-pos-graduacao-stricto-sensu-no-brasil.csv enviado para o bucket raw\n",
      "Arquivo 2021-a-2024-producao-intelectual-de-pos-graduacao-stricto-sensu-no-brasil.csv enviado para o bucket raw\n",
      "Arquivo 2021-a-2024-membros-de-projetos-dos-programas-de-pos-graduacao-stricto-sensu-no-brasil.csv enviado para o bucket raw\n",
      "Arquivo 2021-a-2024-discentes-da-pos-graduacao-stricto-sensu-do-brasil.csv enviado para o bucket raw\n",
      "Arquivo 2021-a-2024-docentes-da-pos-graduacao-stricto-sensu-no-brasil.csv enviado para o bucket raw\n",
      "Arquivo 2021-a-2024-detalhes-da-producao-intelectual-bibliografica-de-programas-de-pos-graduacao.csv enviado para o bucket raw\n",
      "Arquivo 2021-a-2024-programas-da-pos-graduacao-stricto-sensu-no-brasil.csv enviado para o bucket raw\n",
      "Arquivo 2021-a-2024-detalhes-da-producao-intelectual-tecnica-de-programas-de-pos-graduacao-stricto-sensu.csv enviado para o bucket raw\n"
     ]
    }
   ],
   "source": [
    "# Diretório local onde os arquivos estão\n",
    "local_directory = \"csv/\"\n",
    "\n",
    "# Iterar sobre os arquivos no diretório\n",
    "for root, dirs, files in os.walk(local_directory):\n",
    "    for file in files:\n",
    "        file_path = os.path.join(root, file)\n",
    "        object_name = file  # Nome do objeto no MinIO será o mesmo do arquivo local\n",
    "\n",
    "        # Enviar o arquivo para o MinIO\n",
    "        client.fput_object(bucket_name, \"CAPES/\" + object_name, file_path)\n",
    "        print(f\"Arquivo {file} enviado para o bucket {bucket_name}\")\n"
   ]
  },
  {
   "cell_type": "code",
   "execution_count": 13,
   "id": "2b9218d2-89b3-4ff8-bb0c-e15948c4e546",
   "metadata": {},
   "outputs": [
    {
     "name": "stdout",
     "output_type": "stream",
     "text": [
      "CAPES/2021-a-2024-autor-da-producao-intelectual-de-programas-de-pos-graduacao-stricto-sensu-no-brasil.csv\n",
      "CAPES/2021-a-2024-catalogo-de-teses-e-dissertacoes-brasil.csv\n",
      "CAPES/2021-a-2024-cursos-da-pos-graduacao-stricto-sensu-no-brasil.csv\n",
      "CAPES/2021-a-2024-detalhes-da-producao-intelectual-bibliografica-de-programas-de-pos-graduacao.csv\n",
      "CAPES/2021-a-2024-detalhes-da-producao-intelectual-tecnica-de-programas-de-pos-graduacao-stricto-sensu.csv\n",
      "CAPES/2021-a-2024-discentes-da-pos-graduacao-stricto-sensu-do-brasil.csv\n",
      "CAPES/2021-a-2024-docentes-da-pos-graduacao-stricto-sensu-no-brasil.csv\n",
      "CAPES/2021-a-2024-financiadores-de-projetos-dos-programas-de-pos-graduacao-stricto-sensu-no-brasil.csv\n",
      "CAPES/2021-a-2024-membros-de-projetos-dos-programas-de-pos-graduacao-stricto-sensu-no-brasil.csv\n",
      "CAPES/2021-a-2024-producao-intelectual-de-pos-graduacao-stricto-sensu-no-brasil.csv\n",
      "CAPES/2021-a-2024-programas-da-pos-graduacao-stricto-sensu-no-brasil.csv\n",
      "CAPES/2021-a-2024-projetos-dos-programas-de-pos-graduacao-stricto-sensu-no-brasil.csv\n"
     ]
    }
   ],
   "source": [
    "objects=client.list_objects('raw', prefix='CAPES/')\n",
    "for object in objects:\n",
    "    print(object.object_name)"
   ]
  },
  {
   "cell_type": "code",
   "execution_count": null,
   "id": "1db28a5c-031b-421a-86b0-208cffe8b583",
   "metadata": {},
   "outputs": [],
   "source": []
  }
 ],
 "metadata": {
  "kernelspec": {
   "display_name": "Python 3 (ipykernel)",
   "language": "python",
   "name": "python3"
  },
  "language_info": {
   "codemirror_mode": {
    "name": "ipython",
    "version": 3
   },
   "file_extension": ".py",
   "mimetype": "text/x-python",
   "name": "python",
   "nbconvert_exporter": "python",
   "pygments_lexer": "ipython3",
   "version": "3.10.12"
  }
 },
 "nbformat": 4,
 "nbformat_minor": 5
}
