{
 "cells": [
  {
   "cell_type": "code",
   "execution_count": 1,
   "id": "e4a1223a-c5f2-4857-b3ae-504005d2639d",
   "metadata": {},
   "outputs": [
    {
     "name": "stdout",
     "output_type": "stream",
     "text": [
      "Requirement already satisfied: ckanapi in /home/hacs/.cache/pypoetry/virtualenvs/pyspark-delta-gPM1PAZH-py3.10/lib/python3.10/site-packages (4.8)\n",
      "Requirement already satisfied: docopt in /home/hacs/.cache/pypoetry/virtualenvs/pyspark-delta-gPM1PAZH-py3.10/lib/python3.10/site-packages (from ckanapi) (0.6.2)\n",
      "Requirement already satisfied: six<2.0,>=1.9 in /home/hacs/.cache/pypoetry/virtualenvs/pyspark-delta-gPM1PAZH-py3.10/lib/python3.10/site-packages (from ckanapi) (1.16.0)\n",
      "Requirement already satisfied: python-slugify>=1.0 in /home/hacs/.cache/pypoetry/virtualenvs/pyspark-delta-gPM1PAZH-py3.10/lib/python3.10/site-packages (from ckanapi) (8.0.4)\n",
      "Requirement already satisfied: setuptools in /home/hacs/.cache/pypoetry/virtualenvs/pyspark-delta-gPM1PAZH-py3.10/lib/python3.10/site-packages (from ckanapi) (59.6.0)\n",
      "Requirement already satisfied: requests in /home/hacs/.cache/pypoetry/virtualenvs/pyspark-delta-gPM1PAZH-py3.10/lib/python3.10/site-packages (from ckanapi) (2.32.3)\n",
      "Requirement already satisfied: simplejson in /home/hacs/.cache/pypoetry/virtualenvs/pyspark-delta-gPM1PAZH-py3.10/lib/python3.10/site-packages (from ckanapi) (3.19.2)\n",
      "Requirement already satisfied: text-unidecode>=1.3 in /home/hacs/.cache/pypoetry/virtualenvs/pyspark-delta-gPM1PAZH-py3.10/lib/python3.10/site-packages (from python-slugify>=1.0->ckanapi) (1.3)\n",
      "Requirement already satisfied: urllib3<3,>=1.21.1 in /home/hacs/.cache/pypoetry/virtualenvs/pyspark-delta-gPM1PAZH-py3.10/lib/python3.10/site-packages (from requests->ckanapi) (2.2.2)\n",
      "Requirement already satisfied: certifi>=2017.4.17 in /home/hacs/.cache/pypoetry/virtualenvs/pyspark-delta-gPM1PAZH-py3.10/lib/python3.10/site-packages (from requests->ckanapi) (2024.7.4)\n",
      "Requirement already satisfied: charset-normalizer<4,>=2 in /home/hacs/.cache/pypoetry/virtualenvs/pyspark-delta-gPM1PAZH-py3.10/lib/python3.10/site-packages (from requests->ckanapi) (3.3.2)\n",
      "Requirement already satisfied: idna<4,>=2.5 in /home/hacs/.cache/pypoetry/virtualenvs/pyspark-delta-gPM1PAZH-py3.10/lib/python3.10/site-packages (from requests->ckanapi) (3.7)\n"
     ]
    }
   ],
   "source": [
    "!pip install ckanapi\n",
    "from ckanapi import *\n",
    "import csv\n",
    "import requests\n",
    "\n",
    "api = RemoteCKAN('https://dadosabertos.capes.gov.br')\n",
    "datasets = api.action.package_list()"
   ]
  },
  {
   "cell_type": "code",
   "execution_count": 2,
   "id": "e97e5fb9-7887-4175-9dfb-5616053debc7",
   "metadata": {},
   "outputs": [],
   "source": [
    "#Função para filtrar a lista de datasets, colocando os que se adequam ao filtro\n",
    "def filterCatch(data, filter):\n",
    "  return [str for str in data if\n",
    "          any(sub in str for sub in filter)]\n",
    "\n",
    "#Função para filtrar a lista de datasets, retirando os que se adequam ao filtro\n",
    "def filterMiss(data, filter):\n",
    "  return [str for str in data if\n",
    "          not any(sub in str for sub in filter)]"
   ]
  },
  {
   "cell_type": "code",
   "execution_count": 5,
   "id": "49c58412-5d4a-41a6-81bc-e38a5f7b5e01",
   "metadata": {},
   "outputs": [],
   "source": [
    "import logging\n",
    "import time\n",
    "\n",
    "import os\n",
    "\n",
    "def download_dataset(database, caminho, max_attempts=3):\n",
    "    for dataset in database:\n",
    "        try:\n",
    "            archive = api.action.package_show(id=dataset)\n",
    "            link_archive = archive['resources'][0]['url']\n",
    "            name_archive = caminho + dataset + '.csv'\n",
    "\n",
    "            # Verificar se o arquivo já existe\n",
    "\n",
    "            for attempt in range(max_attempts):\n",
    "                try:\n",
    "                    print(f\"Tentativa {attempt + 1}/{max_attempts}\")\n",
    "                    !wget -O {name_archive} --retry-connrefused {link_archive}\n",
    "                    break  # Download bem-sucedido\n",
    "\n",
    "                except ConnectionError as e:\n",
    "                    logging.error(f\"Erro de conexão ao baixar dataset {dataset} (tentativa {attempt + 1}/{max_attempts}): {e}\")\n",
    "                    time.sleep(60)  # Aguardar 1 minuto antes de tentar novamente\n",
    "\n",
    "                    # Tentar continuar com -c em caso de erro de conexão\n",
    "                    !wget -c {name_archive} {link_archive}\n",
    "\n",
    "                except Exception as e:\n",
    "                    logging.error(f\"Erro inesperado ao baixar dataset {dataset}: {e}\")\n",
    "\n",
    "        except Exception as e:\n",
    "            logging.error(f\"Erro ao obter informações do dataset {dataset}: {e}\")"
   ]
  },
  {
   "cell_type": "code",
   "execution_count": 3,
   "id": "4136508d-940b-424c-971c-8a7e2e27f0f4",
   "metadata": {},
   "outputs": [
    {
     "name": "stdout",
     "output_type": "stream",
     "text": [
      "2021-a-2024-autor-da-producao-intelectual-de-programas-de-pos-graduacao-stricto-sensu-no-brasil\n",
      "2021-a-2024-catalogo-de-teses-e-dissertacoes-brasil\n",
      "2021-a-2024-cursos-da-pos-graduacao-stricto-sensu-no-brasil\n",
      "2021-a-2024-detalhes-da-producao-intelectual-artistica-de-programas-de-pos-graduacao-stricto-sensu\n",
      "2021-a-2024-detalhes-da-producao-intelectual-bibliografica-de-programas-de-pos-graduacao\n",
      "2021-a-2024-detalhes-da-producao-intelectual-tecnica-de-programas-de-pos-graduacao-stricto-sensu\n",
      "2021-a-2024-discentes-da-pos-graduacao-stricto-sensu-do-brasil\n",
      "2021-a-2024-docentes-da-pos-graduacao-stricto-sensu-no-brasil\n",
      "2021-a-2024-financiadores-de-projetos-dos-programas-de-pos-graduacao-stricto-sensu-no-brasil\n",
      "2021-a-2024-membros-de-projetos-dos-programas-de-pos-graduacao-stricto-sensu-no-brasil\n",
      "2021-a-2024-producao-intelectual-de-pos-graduacao-stricto-sensu-no-brasil\n",
      "2021-a-2024-programas-da-pos-graduacao-stricto-sensu-no-brasil\n",
      "2021-a-2024-projetos-dos-programas-de-pos-graduacao-stricto-sensu-no-brasil\n"
     ]
    }
   ],
   "source": [
    "filters=[\"2021-a-2024\"]\n",
    "database=filterCatch(datasets,filters)\n",
    "print(*database,sep=\"\\n\")"
   ]
  },
  {
   "cell_type": "code",
   "execution_count": 4,
   "id": "2f634f87-8cda-498f-a942-1fb70910c8c5",
   "metadata": {},
   "outputs": [
    {
     "name": "stdout",
     "output_type": "stream",
     "text": [
      "2021-a-2024-autor-da-producao-intelectual-de-programas-de-pos-graduacao-stricto-sensu-no-brasil\n",
      "2021-a-2024-catalogo-de-teses-e-dissertacoes-brasil\n",
      "2021-a-2024-cursos-da-pos-graduacao-stricto-sensu-no-brasil\n",
      "2021-a-2024-detalhes-da-producao-intelectual-bibliografica-de-programas-de-pos-graduacao\n",
      "2021-a-2024-detalhes-da-producao-intelectual-tecnica-de-programas-de-pos-graduacao-stricto-sensu\n",
      "2021-a-2024-discentes-da-pos-graduacao-stricto-sensu-do-brasil\n",
      "2021-a-2024-docentes-da-pos-graduacao-stricto-sensu-no-brasil\n",
      "2021-a-2024-financiadores-de-projetos-dos-programas-de-pos-graduacao-stricto-sensu-no-brasil\n",
      "2021-a-2024-membros-de-projetos-dos-programas-de-pos-graduacao-stricto-sensu-no-brasil\n",
      "2021-a-2024-producao-intelectual-de-pos-graduacao-stricto-sensu-no-brasil\n",
      "2021-a-2024-programas-da-pos-graduacao-stricto-sensu-no-brasil\n",
      "2021-a-2024-projetos-dos-programas-de-pos-graduacao-stricto-sensu-no-brasil\n"
     ]
    }
   ],
   "source": [
    "filters=[\"artistica\"]\n",
    "database=filterMiss(database,filters)\n",
    "print(*database,sep=\"\\n\")"
   ]
  },
  {
   "cell_type": "code",
   "execution_count": null,
   "id": "bfbd850d-6819-43f5-802b-b15481f443dd",
   "metadata": {},
   "outputs": [],
   "source": [
    "download_dataset(database,'csv/')"
   ]
  },
  {
   "cell_type": "code",
   "execution_count": 6,
   "id": "77e049e4-e7e3-46a6-bf90-d5dd69775e01",
   "metadata": {},
   "outputs": [
    {
     "name": "stdout",
     "output_type": "stream",
     "text": [
      "2021-a-2024-autor-da-producao-intelectual-de-programas-de-pos-graduacao-stricto-sensu-no-brasil\n",
      "2021-a-2024-catalogo-de-teses-e-dissertacoes-brasil\n",
      "2021-a-2024-cursos-da-pos-graduacao-stricto-sensu-no-brasil\n",
      "2021-a-2024-detalhes-da-producao-intelectual-bibliografica-de-programas-de-pos-graduacao\n",
      "2021-a-2024-detalhes-da-producao-intelectual-tecnica-de-programas-de-pos-graduacao-stricto-sensu\n",
      "2021-a-2024-discentes-da-pos-graduacao-stricto-sensu-do-brasil\n",
      "2021-a-2024-docentes-da-pos-graduacao-stricto-sensu-no-brasil\n",
      "2021-a-2024-financiadores-de-projetos-dos-programas-de-pos-graduacao-stricto-sensu-no-brasil\n",
      "2021-a-2024-membros-de-projetos-dos-programas-de-pos-graduacao-stricto-sensu-no-brasil\n",
      "2021-a-2024-producao-intelectual-de-pos-graduacao-stricto-sensu-no-brasil\n",
      "2021-a-2024-programas-da-pos-graduacao-stricto-sensu-no-brasil\n",
      "2021-a-2024-projetos-dos-programas-de-pos-graduacao-stricto-sensu-no-brasil\n"
     ]
    }
   ],
   "source": [
    "for dataset in database:\n",
    "    print(dataset)"
   ]
  },
  {
   "cell_type": "code",
   "execution_count": 8,
   "id": "dc85ff03-a447-4ea3-94cd-843e1d27be40",
   "metadata": {},
   "outputs": [
    {
     "name": "stdout",
     "output_type": "stream",
     "text": [
      "2021-a-2024-autor-da-producao-intelectual-de-programas-de-pos-graduacao-stricto-sensu-no-brasil\n",
      "0 Ano Base - 2021 a 2022, Artística Subtipo Artes Cênicas\n",
      "2 Ano Base - 2021 a 2022, Artística Subtipo Artes Visuais\n",
      "4 Ano Base - 2021 a 2022, Artística Subtipo Música\n",
      "6 Ano Base - 2021 a 2022, Artística Subtipo Outros\n",
      "8 Ano Base - 2021, Bibliográfica Subtipo Trabalho em Anais\n",
      "10 Ano Base - 2022, Bibliográfica Subtipo Trabalho em Anais\n",
      "12 Ano Base - 2021 a 2022, Bibliográfica Subtipo Artigo em Jornal ou Revista\n",
      "14 Ano Base - 2021, Bibliográfica Subtipo Artigo em Periódico\n",
      "17 Ano Base - 2022, Bibliográfica Subtipo Artigo em Periódico\n",
      "20 Ano Base - 2021 a 2022 Bibliográfica Subtipo Livro\n",
      "22 Ano Base - 2021 a 2022, Bibliográfica Subtipo Outro\n",
      "24 Ano Base - 2021 a 2022, Bibliográfica Subtipo Partitura Musical\n",
      "26 Ano Base - 2021 a 2022, Bibliográfica Subtipo Tradução\n",
      "28 Ano Base - 2021 a 2022, Técnica Subtipo Apresentação de Trabalho\n",
      "30 Ano Base - 2021 a 2022, Técnica Subtipo Cartas, Mapas ou Similares\n",
      "32 Ano Base - 2021 a 2022, Técnica Subtipo Curso de Curta Duração\n",
      "34 Ano Base - 2021 a 2022, Técnica Subtipo Desenvolvimento de Aplicativo\n",
      "36 Ano Base - 2021 a 2022, Técnica Subtipo Desenvolvimento de Técnica\n",
      "38 Ano Base - 2021 a 2022, Técnica Subtipo Desenvolvimento de Material Didático e Instrucional\n",
      "40 Ano Base - 2021 a 2022, Técnica Subtipo Desenvolvimento de Produto\n",
      "42 Ano Base - 2021 a 2022, Técnica Subtipo Editoria\n",
      "44 Ano Base - 2021 a 2022, Técnica Subtipo Maquete\n",
      "46 Ano Base - 2021 a 2022, Técnica Subtipo Manutenção de Obra Artística\n",
      "48 Ano Base - 2021 a 2022, Técnica Subtipo Organização de Evento\n",
      "50 Ano Base - 2021 a 2022, Técnica Subtipo Outros\n",
      "52 Ano Base - 2021 a 2022, Técnica Subtipo Patente\n",
      "54 Ano Base - 2021 a 2022, Técnica Subtipo Programa de Rádio ou Tv\n",
      "56 Ano Base - 2021 a 2022, Técnica Subtipo Relatório de Pesquisa\n",
      "58 Ano Base - 2021 a 2022, Técnica Subtipo Serviços Técnicos\n",
      "\n",
      "\n",
      "2021-a-2024-catalogo-de-teses-e-dissertacoes-brasil\n",
      "0 Ano 2021\n",
      "2 Ano 2022\n",
      "\n",
      "\n",
      "2021-a-2024-cursos-da-pos-graduacao-stricto-sensu-no-brasil\n",
      "0 Ano 2021\n",
      "2 Ano 2022\n",
      "\n",
      "\n",
      "2021-a-2024-detalhes-da-producao-intelectual-bibliografica-de-programas-de-pos-graduacao\n",
      "0 Anos 2021 e 2022 - Subtipo Trabalho em Anais\n",
      "2 Anos 2021 e 2022 - Subtipo Artigo em Periódico\n",
      "4 Anos 2021 e 2022 - Subtipo Livro\n",
      "6 Anos 2021 e 2022 - Subtipo Outro\n",
      "8 Anos 2021 e 2022 - Subtipo Partitura Musical\n",
      "10 Anos 2021 e 2022 - Subtipo Tradução\n",
      "\n",
      "\n",
      "2021-a-2024-detalhes-da-producao-intelectual-tecnica-de-programas-de-pos-graduacao-stricto-sensu\n",
      "0 Anos 2021 e 2022 - Subtipo Apresentação de Trabalho\n",
      "2 Anos 2021 e 2022 - Subtipo Artigo em Jornal ou Revista\n",
      "4 Anos 2021 e 2022 - Subtipo Cartas, Mapas ou Similares\n",
      "6 Anos 2021 e 2022 - Subtipo Curso de Curta Duração\n",
      "8 Anos 2021 e 2022 - Subtipo Desenvolvimento de Aplicativo\n",
      "10 Anos 2021 e 2022 - Subtipo Desenvolvimento de Técnica\n",
      "12 Anos 2021 e 2022 - Subtipo Desenvolvimento de Material Didático e Instrucional\n",
      "14 Anos 2021 e 2022 - Subtipo Desenvolvimento de Produto\n",
      "16 Anos 2021 e 2022 - Subtipo Editoria\n",
      "18 Anos 2021 e 2022 - Subtipo Maquete\n",
      "20 Anos 2021 e 2022 - Subtipo Manutenção de Obra Artística\n",
      "22 Anos 2021 e 2022 - Subtipo Organização de Evento\n",
      "24 Anos 2021 e 2022 - Subtipo Outro\n",
      "26 Anos 2021 e 2022 - Subtipo Patente\n",
      "28 Anos 2021 e 2022 - Subtipo Programa de Rádio ou Tv\n",
      "30 Anos 2021 e 2022 - Subtipo Relatório de Pesquisa\n",
      "32 Anos 2021 e 2022 - Subtipo Serviços Técnicos\n",
      "\n",
      "\n",
      "2021-a-2024-discentes-da-pos-graduacao-stricto-sensu-do-brasil\n",
      "0 Ano 2021\n",
      "2 Ano 2022\n",
      "\n",
      "\n",
      "2021-a-2024-docentes-da-pos-graduacao-stricto-sensu-no-brasil\n",
      "0 Ano 2021\n",
      "2 Ano 2022\n",
      "\n",
      "\n",
      "2021-a-2024-financiadores-de-projetos-dos-programas-de-pos-graduacao-stricto-sensu-no-brasil\n",
      "0 Ano 2021\n",
      "2 Ano 2022\n",
      "\n",
      "\n",
      "2021-a-2024-membros-de-projetos-dos-programas-de-pos-graduacao-stricto-sensu-no-brasil\n",
      "0 Ano 2021\n",
      "2 Ano 2022\n",
      "\n",
      "\n",
      "2021-a-2024-producao-intelectual-de-pos-graduacao-stricto-sensu-no-brasil\n",
      "0 Anos 2021 e 2022 - Tipo Artística Subtipo Artes Cênicas\n",
      "\n",
      "2 Anos 2021 e 2022 - Tipo Artístico Subtipo Música\n",
      "4 Anos 2021 e 2022 - Tipo Artística Subtipo Outros\n",
      "6 Anos 2021 e 2022 - Tipo Artística Subtipo Artes Visuais\n",
      "8 Anos 2021 e 2022 - Tipo Bibliográfica Subtipo Trabalho em Anais\n",
      "10 Anos 2021 e 2022 – Tipo Bibliográfica Subtipo Artigo em Periódico\n",
      "12 Anos 2021 e 2022 - Tipo Bibliográfica Subtipo Livro\n",
      "14 Anos 2021 e 2022 - Tipo Bibliográfica Subtipo Outro\n",
      "16 Anos 2021 e 2022 - Tipo Bibliográfica Subtipo Partitura Musical\n",
      "18 Anos 2021 e 2022 - Tipo Bibliográfica Subtipo Tradução\n",
      "20 Anos 2021 e 2022 - Tipo Técnica Subtipo Apresentação de Trabalho\n",
      "22 Anos 2021 e 2022 - Tipo Técnica Subtipo Artigo em Jornal ou Revista\n",
      "24 Anos 2021 e 2022 - Tipo Técnica Subtipo Cartas, Mapas ou Similares\n",
      "26 Anos 2021 e 2022 - Tipo Técnica Subtipo Curso de Curta Duração\n",
      "28 Anos 2021 e 2022 - Tipo Técnica Subtipo Desenvolvimento de Aplicativo\n",
      "30 Anos 2021 e 2022 - Tipo Técnica Subtipo Desenvolvimento de Técnica\n",
      "32 Anos 2021 e 2022 - Tipo Técnica Subtipo Desenvolvimento de Material Didático\n",
      "34 Anos 2021 e 2022 - Tipo Técnica Subtipo Desenvolvimento de Produto\n",
      "36 Anos 2021 e 2022 - Tipo Técnica Subtipo Editoria\n",
      "38 Anos 2021 a 2022 - Tipo Técnica Subtipo Maquete\n",
      "40 Anos 2021 e 2022 - Tipo Técnica Subtipo Manutenção de Obra Artística\n",
      "42 Anos 2021 e 2022 - Tipo Técnica Subtipo Organização de Evento\n",
      "44 Anos 2021 e 2022 - Tipo Técnica Subtipo Outro\n",
      "46 Anos 2021 e 2022 - Tipo Técnica Subtipo Patente\n",
      "48 Anos 2021 e 2022 - Tipo Técnica Subtipo Programa de Rádio ou Tv\n",
      "50 Anos 2021 e 2022 - Tipo Técnica Subtipo Relatório de Pesquisa\n",
      "52 Anos 2021 e 2022 - Tipo Técnica Subtipo Serviços Técnicos\n",
      "\n",
      "\n",
      "2021-a-2024-programas-da-pos-graduacao-stricto-sensu-no-brasil\n",
      "0 Ano 2021\n",
      "2 Ano 2022\n",
      "\n",
      "\n",
      "2021-a-2024-projetos-dos-programas-de-pos-graduacao-stricto-sensu-no-brasil\n",
      "0 Ano 2021\n",
      "2 Ano 2022\n",
      "\n",
      "\n"
     ]
    }
   ],
   "source": [
    "#CODIGO PARA A LISTAGEM DOS DATASETS DISPONIVEIS EM CSV DAS CATEGORIAS DOS DADOS ABERTOS DO CAPES\n",
    "for num in range(0, len(database)):#PARA CADA CATEGORIA\n",
    "    archive = api.action.package_show(id=database[num])\n",
    "    print(database[num])#SE MOSTRA QUAL ESTA NO MOMENTO\n",
    "    for i in range(0, len(archive['resources'])):#E PARA CADA RECURSO, DIZ-SE POR CADA ARQUIVO\n",
    "        if(archive['resources'][i]['format'] == \"CSV\"):#SE O TIPO FOR CSV\n",
    "            print(f\"{i} {archive['resources'][i]['description']}\")#ENTAO MOSTRA A DESCRIÇÃO\n",
    "    print('\\n')\n",
    "            "
   ]
  },
  {
   "cell_type": "code",
   "execution_count": 30,
   "id": "66168313-fe20-46a4-a453-ca4d31ae9b9b",
   "metadata": {},
   "outputs": [
    {
     "data": {
      "text/plain": [
       "'text/csv'"
      ]
     },
     "execution_count": 30,
     "metadata": {},
     "output_type": "execute_result"
    }
   ],
   "source": []
  },
  {
   "cell_type": "code",
   "execution_count": null,
   "id": "ae202290-25c1-4def-87d6-2192480ed754",
   "metadata": {},
   "outputs": [],
   "source": []
  }
 ],
 "metadata": {
  "kernelspec": {
   "display_name": "Python 3 (ipykernel)",
   "language": "python",
   "name": "python3"
  },
  "language_info": {
   "codemirror_mode": {
    "name": "ipython",
    "version": 3
   },
   "file_extension": ".py",
   "mimetype": "text/x-python",
   "name": "python",
   "nbconvert_exporter": "python",
   "pygments_lexer": "ipython3",
   "version": "3.10.12"
  }
 },
 "nbformat": 4,
 "nbformat_minor": 5
}
