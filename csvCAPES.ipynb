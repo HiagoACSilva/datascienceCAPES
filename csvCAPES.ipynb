{
 "cells": [
  {
   "cell_type": "code",
   "execution_count": null,
   "id": "e4a1223a-c5f2-4857-b3ae-504005d2639d",
   "metadata": {},
   "outputs": [],
   "source": [
    "!pip install ckanapi\n",
    "from ckanapi import *\n",
    "import csv\n",
    "import requests\n",
    "\n",
    "api = RemoteCKAN('https://dadosabertos.capes.gov.br')\n",
    "datasets = api.action.package_list()\n"
   ]
  },
  {
   "cell_type": "code",
   "execution_count": null,
   "id": "e97e5fb9-7887-4175-9dfb-5616053debc7",
   "metadata": {},
   "outputs": [],
   "source": [
    "#Função para filtrar a lista de datasets, colocando os que se adequam ao filtro\n",
    "def filterCatch(data, filter):\n",
    "  return [str for str in data if\n",
    "          any(sub in str for sub in filter)]\n",
    "\n",
    "#Função para filtrar a lista de datasets, retirando os que se adequam ao filtro\n",
    "def filterMiss(data, filter):\n",
    "  return [str for str in data if\n",
    "          not any(sub in str for sub in filter)]"
   ]
  },
  {
   "cell_type": "code",
   "execution_count": null,
   "id": "4136508d-940b-424c-971c-8a7e2e27f0f4",
   "metadata": {},
   "outputs": [],
   "source": [
    "filters=[\"2021-a-2024\"]\n",
    "database=filterCatch(datasets,filters)\n",
    "print(*database,sep=\"\\n\")"
   ]
  },
  {
   "cell_type": "code",
   "execution_count": null,
   "id": "2f634f87-8cda-498f-a942-1fb70910c8c5",
   "metadata": {},
   "outputs": [],
   "source": [
    "filters=[\"artistica\"]\n",
    "database=filterMiss(database,filters)\n",
    "print(*database,sep=\"\\n\")"
   ]
  },
  {
   "cell_type": "code",
   "execution_count": null,
   "id": "49c58412-5d4a-41a6-81bc-e38a5f7b5e01",
   "metadata": {},
   "outputs": [],
   "source": [
    "import logging\n",
    "import time\n",
    "\n",
    "import os\n",
    "\n",
    "def download_dataset(database, caminho, max_attempts=3):\n",
    "    for dataset in database:\n",
    "        try:\n",
    "            archive = api.action.package_show(id=dataset)\n",
    "            link_archive = archive['resources'][0]['url']\n",
    "            name_archive = caminho + dataset + '.csv'\n",
    "\n",
    "            # Verificar se o arquivo já existe\n",
    "\n",
    "            for attempt in range(max_attempts):\n",
    "                try:\n",
    "                    print(f\"Tentativa {attempt + 1}/{max_attempts}\")\n",
    "                    !wget -O {name_archive} --retry-connrefused {link_archive}\n",
    "                    break  # Download bem-sucedido\n",
    "\n",
    "                except ConnectionError as e:\n",
    "                    logging.error(f\"Erro de conexão ao baixar dataset {dataset} (tentativa {attempt + 1}/{max_attempts}): {e}\")\n",
    "                    time.sleep(60)  # Aguardar 1 minuto antes de tentar novamente\n",
    "\n",
    "                    # Tentar continuar com -c em caso de erro de conexão\n",
    "                    !wget -c {name_archive} {link_archive}\n",
    "\n",
    "                except Exception as e:\n",
    "                    logging.error(f\"Erro inesperado ao baixar dataset {dataset}: {e}\")\n",
    "\n",
    "        except Exception as e:\n",
    "            logging.error(f\"Erro ao obter informações do dataset {dataset}: {e}\")"
   ]
  },
  {
   "cell_type": "code",
   "execution_count": null,
   "id": "bfbd850d-6819-43f5-802b-b15481f443dd",
   "metadata": {},
   "outputs": [],
   "source": [
    "download_dataset(database,'csv/')"
   ]
  },
  {
   "cell_type": "code",
   "execution_count": null,
   "id": "77e049e4-e7e3-46a6-bf90-d5dd69775e01",
   "metadata": {},
   "outputs": [],
   "source": []
  }
 ],
 "metadata": {
  "kernelspec": {
   "display_name": "Python 3 (ipykernel)",
   "language": "python",
   "name": "python3"
  },
  "language_info": {
   "codemirror_mode": {
    "name": "ipython",
    "version": 3
   },
   "file_extension": ".py",
   "mimetype": "text/x-python",
   "name": "python",
   "nbconvert_exporter": "python",
   "pygments_lexer": "ipython3",
   "version": "3.10.12"
  }
 },
 "nbformat": 4,
 "nbformat_minor": 5
}
