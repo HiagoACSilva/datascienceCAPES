{
 "cells": [
  {
   "cell_type": "code",
   "execution_count": 1,
   "id": "3cc206d0-e7dc-4217-b38c-3d038c269868",
   "metadata": {},
   "outputs": [],
   "source": [
    "from pyspark.sql import SparkSession\n",
    "from delta import *\n",
    "from minio import Minio\n",
    "import pyspark.sql.functions as F\n",
    "import os\n",
    "import pandas as pd"
   ]
  },
  {
   "cell_type": "code",
   "execution_count": 2,
   "id": "fcdda897-1405-445f-9867-6b93953f2c6b",
   "metadata": {},
   "outputs": [
    {
     "name": "stderr",
     "output_type": "stream",
     "text": [
      "24/10/06 18:02:41 WARN Utils: Your hostname, DESKTOP-CV9TLA8 resolves to a loopback address: 127.0.1.1; using 10.255.255.254 instead (on interface lo)\n",
      "24/10/06 18:02:41 WARN Utils: Set SPARK_LOCAL_IP if you need to bind to another address\n"
     ]
    },
    {
     "name": "stdout",
     "output_type": "stream",
     "text": [
      ":: loading settings :: url = jar:file:/home/hacs/.cache/pypoetry/virtualenvs/pyspark-delta-gPM1PAZH-py3.10/lib/python3.10/site-packages/pyspark/jars/ivy-2.5.1.jar!/org/apache/ivy/core/settings/ivysettings.xml\n"
     ]
    },
    {
     "name": "stderr",
     "output_type": "stream",
     "text": [
      "Ivy Default Cache set to: /home/hacs/.ivy2/cache\n",
      "The jars for the packages stored in: /home/hacs/.ivy2/jars\n",
      "io.delta#delta-core_2.12 added as a dependency\n",
      ":: resolving dependencies :: org.apache.spark#spark-submit-parent-fd81439c-1097-4e7f-b076-8478e358f3c5;1.0\n",
      "\tconfs: [default]\n",
      "\tfound io.delta#delta-core_2.12;2.4.0 in central\n",
      "\tfound io.delta#delta-storage;2.4.0 in central\n",
      "\tfound org.antlr#antlr4-runtime;4.9.3 in central\n",
      ":: resolution report :: resolve 148ms :: artifacts dl 5ms\n",
      "\t:: modules in use:\n",
      "\tio.delta#delta-core_2.12;2.4.0 from central in [default]\n",
      "\tio.delta#delta-storage;2.4.0 from central in [default]\n",
      "\torg.antlr#antlr4-runtime;4.9.3 from central in [default]\n",
      "\t---------------------------------------------------------------------\n",
      "\t|                  |            modules            ||   artifacts   |\n",
      "\t|       conf       | number| search|dwnlded|evicted|| number|dwnlded|\n",
      "\t---------------------------------------------------------------------\n",
      "\t|      default     |   3   |   0   |   0   |   0   ||   3   |   0   |\n",
      "\t---------------------------------------------------------------------\n",
      ":: retrieving :: org.apache.spark#spark-submit-parent-fd81439c-1097-4e7f-b076-8478e358f3c5\n",
      "\tconfs: [default]\n",
      "\t0 artifacts copied, 3 already retrieved (0kB/4ms)\n",
      "24/10/06 18:02:42 WARN NativeCodeLoader: Unable to load native-hadoop library for your platform... using builtin-java classes where applicable\n",
      "Setting default log level to \"WARN\".\n",
      "To adjust logging level use sc.setLogLevel(newLevel). For SparkR, use setLogLevel(newLevel).\n"
     ]
    }
   ],
   "source": [
    "#CONFIGURAÇÕES SPARK\n",
    "spark = (\n",
    "    SparkSession.builder.master(\"local[*]\").appName(\"csvToParquet\")\n",
    "    .config(\"spark.executor.memory\", \"16g\")\n",
    "    #HADOOP\n",
    "    .config(\"spark.hadoop.fs.s3a.endpoint\", \"http://localhost:9000\")\n",
    "    .config(\"spark.hadoop.fs.s3a.access.key\", \"minioadmin\")\n",
    "    .config(\"spark.hadoop.fs.s3a.secret.key\", \"minioadmin\")\n",
    "    .config(\"spark.hadoop.fs.s3a.path.style.access\", \"true\")\n",
    "    .config(\"spark.hadoop.fs.s3a.aws.credentials.provider\", \"org.apache.hadoop.fs.s3a.SimpleAWSCredentialsProvider\")\n",
    "    #DELTA\n",
    "    .config(\"spark.jars.packages\", \"io.delta:delta-core_2.12:2.4.0\")\n",
    "    .config(\"spark.sql.extensions\", \"io.delta.sql.DeltaSparkSessionExtension\")\n",
    "    .config(\"spark.sql.catalog.spark_catalog\", \"org.apache.spark.sql.delta.catalog.DeltaCatalog\")\n",
    "    .config(\"spark.jars\", \"jars/aws-java-sdk-bundle-1.11.1026.jar, \\\n",
    "            jars/hadoop-aws-3.2.0.jar\")\n",
    "    .getOrCreate()\n",
    ")\n"
   ]
  },
  {
   "cell_type": "code",
   "execution_count": 3,
   "id": "d76e6bad-a23e-48e7-86be-b67cf87fb53b",
   "metadata": {},
   "outputs": [],
   "source": [
    "#CONFIGURAÇÕES CLIENT DO MINIO\n",
    "client=Minio(\"localhost:9000\",\n",
    "             access_key=\"minioadmin\",\n",
    "             secret_key=\"minioadmin\",\n",
    "             secure=False\n",
    "            )\n"
   ]
  },
  {
   "cell_type": "code",
   "execution_count": 4,
   "id": "cb98bdc5-f326-432d-b839-b26fd8fda5db",
   "metadata": {},
   "outputs": [],
   "source": [
    "bucket_name = 'bronze'\n",
    "objects=client.list_objects(bucket_name, prefix='CAPES/', recursive=True)\n",
    "csvs = []\n",
    "for object in objects:\n",
    "    csvs.append(object.object_name)\n",
    "    \n",
    "name_csvs = []\n",
    "for csv in csvs:\n",
    "    name_csvs.append(csv.split('/'))"
   ]
  },
  {
   "cell_type": "markdown",
   "id": "c7f2290b-b636-4923-b6e7-cfd4a9558061",
   "metadata": {},
   "source": [
    "##### LISTANDO OS DATAFRAMES PRESENTES NO BUCKET RAW DO MinIO\n",
    "count = 0\n",
    "for csv in csvs:\n",
    "    print(f'{count} - {csv}')\n",
    "    count+=1"
   ]
  },
  {
   "cell_type": "code",
   "execution_count": 6,
   "id": "3549175f-be29-41c5-8b08-face58dde0d3",
   "metadata": {},
   "outputs": [],
   "source": [
    "def unionDf(dfstart, dfend):\n",
    "    df_one = spark.read.format('csv').option('header', 'true').option('sep', ';')\\\n",
    "        .load(f's3a://{bucket_name}/{csvs[dfstart]}')\n",
    "    for i in range(dfstart+1, dfend+1):\n",
    "        df_two = spark.read.format('csv').option('header', 'true').option('sep', ';')\\\n",
    "        .load(f's3a://{bucket_name}/{csvs[dfend]}')\n",
    "        df_one = df_one.unionByName(df_two, allowMissingColumns=True)\n",
    "    return df_one\n"
   ]
  },
  {
   "cell_type": "code",
   "execution_count": 7,
   "id": "95c5f1b1-a920-428b-8d39-9e092fe8e01e",
   "metadata": {},
   "outputs": [],
   "source": [
    "def clearOnlyParquets(folder):\n",
    "    for root, dirs, files in os.walk(folder):\n",
    "        for file in files:\n",
    "            if not file.endswith(\".parquet\"):\n",
    "                os.remove(os.path.join(root, file))"
   ]
  },
  {
   "cell_type": "code",
   "execution_count": 8,
   "id": "37330fa9-6d59-4af4-9505-d3fb2c061881",
   "metadata": {},
   "outputs": [],
   "source": [
    "def toParquet(df, nameDf):\n",
    "    df.write.mode('overwrite').parquet(nameDf)\n",
    "    clearOnlyParquets(nameDf)"
   ]
  },
  {
   "cell_type": "code",
   "execution_count": 37,
   "id": "d011025f-7a64-4c3e-a718-b8021e45426f",
   "metadata": {},
   "outputs": [],
   "source": [
    "projetos = unionDf(49,50)"
   ]
  },
  {
   "cell_type": "code",
   "execution_count": 38,
   "id": "81a2f325-415c-42dc-a935-8c874e8c0936",
   "metadata": {},
   "outputs": [],
   "source": [
    "projetos = projetos.drop('AN_BASE',\n",
    "                        'ID_ADD_FOTO_PROGRAMA_IES',\n",
    "                        'ID_ADD_FOTO_PROGRAMA', 'ID_ADD_CONTEXTO',\n",
    "                         'IN_BOLSA', 'IN_OUTRO_AUXILIO'\n",
    "                        )"
   ]
  },
  {
   "cell_type": "code",
   "execution_count": 39,
   "id": "94f54ada-5a9b-49ab-9aa3-d876a0a47486",
   "metadata": {},
   "outputs": [
    {
     "data": {
      "text/plain": [
       "5003"
      ]
     },
     "execution_count": 39,
     "metadata": {},
     "output_type": "execute_result"
    }
   ],
   "source": [
    "projetos = projetos.dropDuplicates()\n",
    "projetos.count()"
   ]
  },
  {
   "cell_type": "code",
   "execution_count": 40,
   "id": "1e7263bc-4a3e-4e7c-9902-1945ad592925",
   "metadata": {},
   "outputs": [],
   "source": [
    "toParquet(projetos, name_csvs[49][1])"
   ]
  },
  {
   "cell_type": "code",
   "execution_count": 13,
   "id": "7be40b67-f0ed-40ae-8609-ce5a4af0c20d",
   "metadata": {},
   "outputs": [],
   "source": [
    "programas = unionDf(47,48)\n",
    "programas = programas.drop('AN_BASE',\n",
    "                           'ID_ADD_FOTO_PROGRAMA_IES',\n",
    "                           'ID_ADD_FOTO_PROGRAMA',\n",
    "                           'IN_REDE'\n",
    "                          )\n",
    "programas = programas.dropDuplicates()"
   ]
  },
  {
   "cell_type": "code",
   "execution_count": 14,
   "id": "ddcfee14-18f8-4878-be4c-588d0f73637e",
   "metadata": {},
   "outputs": [],
   "source": [
    "programas = programas.drop('NM_GRAU_PROGRAMA')\n",
    "programas = programas.dropDuplicates()"
   ]
  },
  {
   "cell_type": "code",
   "execution_count": 15,
   "id": "5d793c1d-6890-4f7a-afd4-d0c30845e81e",
   "metadata": {},
   "outputs": [
    {
     "name": "stderr",
     "output_type": "stream",
     "text": [
      "24/10/06 18:02:50 WARN package: Truncated the string representation of a plan since it was too large. This behavior can be adjusted by setting 'spark.sql.debug.maxToStringFields'.\n"
     ]
    }
   ],
   "source": [
    "toParquet(programas, name_csvs[47][1])"
   ]
  },
  {
   "cell_type": "code",
   "execution_count": 16,
   "id": "4efccab9-8003-42d4-9616-6e4189b1235e",
   "metadata": {},
   "outputs": [],
   "source": [
    "producao = unionDf(36,46)"
   ]
  },
  {
   "cell_type": "code",
   "execution_count": 17,
   "id": "9e9d7c4c-f4e6-4aa5-b1d3-dd878feb6a7e",
   "metadata": {},
   "outputs": [],
   "source": [
    "producao = producao.drop('AN_BASE')"
   ]
  },
  {
   "cell_type": "code",
   "execution_count": 18,
   "id": "60046100-e89f-4406-9000-f8bef2b3f7aa",
   "metadata": {},
   "outputs": [],
   "source": [
    "producao = producao.dropDuplicates()"
   ]
  },
  {
   "cell_type": "code",
   "execution_count": 19,
   "id": "6fc0c953-b70a-4b18-a5e7-3da0cee7994f",
   "metadata": {},
   "outputs": [
    {
     "name": "stderr",
     "output_type": "stream",
     "text": [
      "24/10/06 18:02:53 WARN MemoryManager: Total allocation exceeds 95.00% (1,020,054,720 bytes) of heap memory\n",
      "Scaling row group sizes to 95.00% for 8 writers\n",
      "24/10/06 18:02:53 WARN MemoryManager: Total allocation exceeds 95.00% (1,020,054,720 bytes) of heap memory\n",
      "Scaling row group sizes to 84.44% for 9 writers\n",
      "24/10/06 18:02:53 WARN MemoryManager: Total allocation exceeds 95.00% (1,020,054,720 bytes) of heap memory\n",
      "Scaling row group sizes to 76.00% for 10 writers\n",
      "24/10/06 18:02:53 WARN MemoryManager: Total allocation exceeds 95.00% (1,020,054,720 bytes) of heap memory\n",
      "Scaling row group sizes to 69.09% for 11 writers\n",
      "24/10/06 18:02:53 WARN MemoryManager: Total allocation exceeds 95.00% (1,020,054,720 bytes) of heap memory\n",
      "Scaling row group sizes to 76.00% for 10 writers\n",
      "24/10/06 18:02:53 WARN MemoryManager: Total allocation exceeds 95.00% (1,020,054,720 bytes) of heap memory\n",
      "Scaling row group sizes to 84.44% for 9 writers\n",
      "24/10/06 18:02:53 WARN MemoryManager: Total allocation exceeds 95.00% (1,020,054,720 bytes) of heap memory\n",
      "Scaling row group sizes to 95.00% for 8 writers\n",
      "                                                                                \r"
     ]
    }
   ],
   "source": [
    "toParquet(producao, name_csvs[36][1])"
   ]
  },
  {
   "cell_type": "code",
   "execution_count": 20,
   "id": "2c140c6f-9fe2-4ed4-b59a-0021177f5a85",
   "metadata": {},
   "outputs": [],
   "source": [
    "membros = unionDf(34,35)"
   ]
  },
  {
   "cell_type": "code",
   "execution_count": 21,
   "id": "9dd2f75f-211a-46d2-bb6c-1f777ba9b23c",
   "metadata": {},
   "outputs": [],
   "source": [
    "membros =  membros.drop('AN_BASE', 'ID_ADD_FOTO_PROGRAMA', 'ID_ADD_FOTO_PROGRAMA_IES',\n",
    "                        'ID_ADD_MEMBRO_PROJETO', 'ID_ADD_PARTICIPANTE_EXTERNO','ID_ADD_DISCENTE',\n",
    "                        'ID_ADD_DOCENTE','ID_ADD_CONTEXTO')"
   ]
  },
  {
   "cell_type": "code",
   "execution_count": 22,
   "id": "b013b27b-dca0-49c2-b0b4-b22775b9d8a6",
   "metadata": {},
   "outputs": [],
   "source": [
    "membros = membros.dropDuplicates()"
   ]
  },
  {
   "cell_type": "code",
   "execution_count": 23,
   "id": "73840417-9820-45c3-ad6f-caa66be39064",
   "metadata": {},
   "outputs": [
    {
     "name": "stderr",
     "output_type": "stream",
     "text": [
      "24/10/06 18:02:56 WARN MemoryManager: Total allocation exceeds 95.00% (1,020,054,720 bytes) of heap memory\n",
      "Scaling row group sizes to 95.00% for 8 writers\n",
      "24/10/06 18:02:56 WARN MemoryManager: Total allocation exceeds 95.00% (1,020,054,720 bytes) of heap memory\n",
      "Scaling row group sizes to 84.44% for 9 writers\n",
      "24/10/06 18:02:56 WARN MemoryManager: Total allocation exceeds 95.00% (1,020,054,720 bytes) of heap memory\n",
      "Scaling row group sizes to 76.00% for 10 writers\n",
      "24/10/06 18:02:56 WARN MemoryManager: Total allocation exceeds 95.00% (1,020,054,720 bytes) of heap memory\n",
      "Scaling row group sizes to 69.09% for 11 writers\n",
      "24/10/06 18:02:56 WARN MemoryManager: Total allocation exceeds 95.00% (1,020,054,720 bytes) of heap memory\n",
      "Scaling row group sizes to 63.33% for 12 writers\n",
      "24/10/06 18:02:57 WARN MemoryManager: Total allocation exceeds 95.00% (1,020,054,720 bytes) of heap memory\n",
      "Scaling row group sizes to 69.09% for 11 writers\n",
      "24/10/06 18:02:57 WARN MemoryManager: Total allocation exceeds 95.00% (1,020,054,720 bytes) of heap memory\n",
      "Scaling row group sizes to 76.00% for 10 writers\n",
      "24/10/06 18:02:57 WARN MemoryManager: Total allocation exceeds 95.00% (1,020,054,720 bytes) of heap memory\n",
      "Scaling row group sizes to 84.44% for 9 writers\n",
      "24/10/06 18:02:57 WARN MemoryManager: Total allocation exceeds 95.00% (1,020,054,720 bytes) of heap memory\n",
      "Scaling row group sizes to 95.00% for 8 writers\n",
      "                                                                                \r"
     ]
    }
   ],
   "source": [
    "toParquet(membros, name_csvs[34][1])"
   ]
  },
  {
   "cell_type": "code",
   "execution_count": 24,
   "id": "a1c54208-4619-4f83-a532-d450ba2d19ba",
   "metadata": {},
   "outputs": [],
   "source": [
    "financiadores = unionDf(32,33)"
   ]
  },
  {
   "cell_type": "code",
   "execution_count": 25,
   "id": "79129818-4956-4e02-bae5-895692256765",
   "metadata": {},
   "outputs": [],
   "source": [
    "financiadores = financiadores.drop('AN_BASE',\n",
    "                   'ID_ADD_FOTO_PROGRAMA',\n",
    "                   'ID_ADD_FOTO_PROGRAMA_IES',\n",
    "                   'ID_ADD_CONTEXTO')\n",
    "financiadores = financiadores.dropDuplicates()"
   ]
  },
  {
   "cell_type": "code",
   "execution_count": 26,
   "id": "4264046f-93da-4c56-9785-1f825a22e5dc",
   "metadata": {},
   "outputs": [
    {
     "name": "stderr",
     "output_type": "stream",
     "text": [
      "24/10/06 18:02:58 WARN MemoryManager: Total allocation exceeds 95.00% (1,020,054,720 bytes) of heap memory\n",
      "Scaling row group sizes to 95.00% for 8 writers\n",
      "24/10/06 18:02:58 WARN MemoryManager: Total allocation exceeds 95.00% (1,020,054,720 bytes) of heap memory\n",
      "Scaling row group sizes to 84.44% for 9 writers\n",
      "24/10/06 18:02:58 WARN MemoryManager: Total allocation exceeds 95.00% (1,020,054,720 bytes) of heap memory\n",
      "Scaling row group sizes to 76.00% for 10 writers\n",
      "24/10/06 18:02:58 WARN MemoryManager: Total allocation exceeds 95.00% (1,020,054,720 bytes) of heap memory\n",
      "Scaling row group sizes to 69.09% for 11 writers\n",
      "24/10/06 18:02:58 WARN MemoryManager: Total allocation exceeds 95.00% (1,020,054,720 bytes) of heap memory\n",
      "Scaling row group sizes to 63.33% for 12 writers\n",
      "24/10/06 18:02:58 WARN MemoryManager: Total allocation exceeds 95.00% (1,020,054,720 bytes) of heap memory\n",
      "Scaling row group sizes to 69.09% for 11 writers\n",
      "24/10/06 18:02:58 WARN MemoryManager: Total allocation exceeds 95.00% (1,020,054,720 bytes) of heap memory\n",
      "Scaling row group sizes to 76.00% for 10 writers\n",
      "24/10/06 18:02:58 WARN MemoryManager: Total allocation exceeds 95.00% (1,020,054,720 bytes) of heap memory\n",
      "Scaling row group sizes to 84.44% for 9 writers\n",
      "24/10/06 18:02:58 WARN MemoryManager: Total allocation exceeds 95.00% (1,020,054,720 bytes) of heap memory\n",
      "Scaling row group sizes to 95.00% for 8 writers\n",
      "                                                                                \r"
     ]
    }
   ],
   "source": [
    "toParquet(financiadores, name_csvs[32][1])"
   ]
  },
  {
   "cell_type": "code",
   "execution_count": 27,
   "id": "3c9c0578-1cbc-4ac5-8ff0-31aa89131534",
   "metadata": {},
   "outputs": [],
   "source": [
    "autores = unionDf(0,12)"
   ]
  },
  {
   "cell_type": "code",
   "execution_count": 28,
   "id": "6fe3ddbb-ab21-4c2f-af77-a93f09e4a956",
   "metadata": {},
   "outputs": [],
   "source": [
    "autores = autores.dropDuplicates()"
   ]
  },
  {
   "cell_type": "code",
   "execution_count": 29,
   "id": "78da10c4-2870-4de9-b692-f3614d353af1",
   "metadata": {},
   "outputs": [],
   "source": [
    "toParquet(autores, name_csvs[0][1])"
   ]
  },
  {
   "cell_type": "code",
   "execution_count": 30,
   "id": "f2277d1a-9636-431d-bbef-6910a7a09e73",
   "metadata": {},
   "outputs": [],
   "source": [
    "catalogos = unionDf(13,14)"
   ]
  },
  {
   "cell_type": "code",
   "execution_count": 31,
   "id": "f4751b9f-a849-412b-bfca-777ccd59586e",
   "metadata": {},
   "outputs": [],
   "source": [
    "catalogos = catalogos.drop('AN_BASE')\n",
    "catalogos = catalogos.dropDuplicates()"
   ]
  },
  {
   "cell_type": "code",
   "execution_count": 32,
   "id": "5044c34e-e618-46bb-ab24-7b49165c7f2d",
   "metadata": {},
   "outputs": [
    {
     "name": "stderr",
     "output_type": "stream",
     "text": [
      "24/10/06 18:03:00 WARN MemoryManager: Total allocation exceeds 95.00% (1,020,054,720 bytes) of heap memory\n",
      "Scaling row group sizes to 95.00% for 8 writers\n"
     ]
    }
   ],
   "source": [
    "toParquet(catalogos, name_csvs[13][1])"
   ]
  },
  {
   "cell_type": "code",
   "execution_count": 33,
   "id": "6dd21cd2-630b-4fd5-a896-6039e89352e3",
   "metadata": {},
   "outputs": [],
   "source": [
    "discentes = unionDf(28,29)"
   ]
  },
  {
   "cell_type": "code",
   "execution_count": 34,
   "id": "4cb15abf-0508-4833-b38c-87c51d10fca2",
   "metadata": {},
   "outputs": [],
   "source": [
    "discentes = discentes.drop('AN_BASE', 'ID_ADD_FOTO_PROGRAMA', 'ID_ADD_FOTO_PROGRAMA_IES')"
   ]
  },
  {
   "cell_type": "code",
   "execution_count": 35,
   "id": "3f71d078-9387-47b6-98b0-0ac1d56849f0",
   "metadata": {},
   "outputs": [],
   "source": [
    "discentes = discentes.dropDuplicates()"
   ]
  },
  {
   "cell_type": "code",
   "execution_count": 36,
   "id": "acb8515c-c84e-4b46-8e09-dd82dce2a5fc",
   "metadata": {},
   "outputs": [],
   "source": [
    "toParquet(discentes,name_csvs[28][1])"
   ]
  },
  {
   "cell_type": "code",
   "execution_count": 41,
   "id": "2bc417d1-58a8-46c2-b2db-06f8c266a20d",
   "metadata": {},
   "outputs": [],
   "source": [
    "docentes = unionDf(30,31)"
   ]
  },
  {
   "cell_type": "code",
   "execution_count": 43,
   "id": "71054c22-4d1d-4002-bd5f-03aa28648651",
   "metadata": {},
   "outputs": [
    {
     "data": {
      "text/plain": [
       "4410"
      ]
     },
     "execution_count": 43,
     "metadata": {},
     "output_type": "execute_result"
    }
   ],
   "source": [
    "docentes = docentes.drop('AN_BASE', 'ID_ADD_FOTO_PROGRAMA', 'ID_ADD_FOTO_PROGRAMA_IES')\n",
    "docentes.count()"
   ]
  },
  {
   "cell_type": "code",
   "execution_count": 44,
   "id": "f48b094e-a33c-4e02-8a56-8c2c68d7a747",
   "metadata": {},
   "outputs": [
    {
     "data": {
      "text/plain": [
       "2851"
      ]
     },
     "execution_count": 44,
     "metadata": {},
     "output_type": "execute_result"
    }
   ],
   "source": [
    "docentes = docentes.dropDuplicates()\n",
    "docentes.count()"
   ]
  },
  {
   "cell_type": "code",
   "execution_count": 45,
   "id": "e49ad988-ac0f-463e-8e2e-9f79f2156e46",
   "metadata": {},
   "outputs": [],
   "source": [
    "toParquet(docentes,name_csvs[30][1])"
   ]
  },
  {
   "cell_type": "code",
   "execution_count": 46,
   "id": "4a825113-e0ed-48a3-ad44-99273de3fc08",
   "metadata": {},
   "outputs": [],
   "source": [
    "cursos = unionDf(15,16)"
   ]
  },
  {
   "cell_type": "code",
   "execution_count": 48,
   "id": "2c921503-f197-4211-8e81-3aacead4cb57",
   "metadata": {},
   "outputs": [
    {
     "data": {
      "text/plain": [
       "260"
      ]
     },
     "execution_count": 48,
     "metadata": {},
     "output_type": "execute_result"
    }
   ],
   "source": [
    "cursos = cursos.drop('AN_BASE', 'ID_ADD_FOTO_PROGRAMA_IES', 'ID_ADD_FOTO_PROGRAMA')\n",
    "cursos.count()"
   ]
  },
  {
   "cell_type": "code",
   "execution_count": 49,
   "id": "9247b7c9-ac5b-42da-bc4b-7ed2d4403b64",
   "metadata": {},
   "outputs": [],
   "source": [
    "cursos = cursos.dropDuplicates()"
   ]
  },
  {
   "cell_type": "code",
   "execution_count": 51,
   "id": "76e24c61-ad26-4e13-b100-7a734c09e204",
   "metadata": {},
   "outputs": [],
   "source": [
    "toParquet(cursos, name_csvs[15][1])"
   ]
  },
  {
   "cell_type": "code",
   "execution_count": null,
   "id": "e0d8e34b-4f0a-4205-b834-9f65aa7d2556",
   "metadata": {},
   "outputs": [],
   "source": []
  }
 ],
 "metadata": {
  "kernelspec": {
   "display_name": "Python 3 (ipykernel)",
   "language": "python",
   "name": "python3"
  },
  "language_info": {
   "codemirror_mode": {
    "name": "ipython",
    "version": 3
   },
   "file_extension": ".py",
   "mimetype": "text/x-python",
   "name": "python",
   "nbconvert_exporter": "python",
   "pygments_lexer": "ipython3",
   "version": "3.10.12"
  }
 },
 "nbformat": 4,
 "nbformat_minor": 5
}
