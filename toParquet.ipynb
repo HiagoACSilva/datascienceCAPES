{
 "cells": [
  {
   "cell_type": "code",
   "execution_count": 1,
   "id": "3cc206d0-e7dc-4217-b38c-3d038c269868",
   "metadata": {},
   "outputs": [],
   "source": [
    "from pyspark.sql import SparkSession\n",
    "from delta import *\n",
    "from minio import Minio\n",
    "import pyspark.sql.functions as F\n",
    "import os\n",
    "import pandas as pd"
   ]
  },
  {
   "cell_type": "code",
   "execution_count": 2,
   "id": "fcdda897-1405-445f-9867-6b93953f2c6b",
   "metadata": {},
   "outputs": [
    {
     "name": "stderr",
     "output_type": "stream",
     "text": [
      "24/09/30 09:26:26 WARN Utils: Your hostname, DESKTOP-CV9TLA8 resolves to a loopback address: 127.0.1.1; using 10.255.255.254 instead (on interface lo)\n",
      "24/09/30 09:26:26 WARN Utils: Set SPARK_LOCAL_IP if you need to bind to another address\n"
     ]
    },
    {
     "name": "stdout",
     "output_type": "stream",
     "text": [
      ":: loading settings :: url = jar:file:/home/hacs/.cache/pypoetry/virtualenvs/pyspark-delta-gPM1PAZH-py3.10/lib/python3.10/site-packages/pyspark/jars/ivy-2.5.1.jar!/org/apache/ivy/core/settings/ivysettings.xml\n"
     ]
    },
    {
     "name": "stderr",
     "output_type": "stream",
     "text": [
      "Ivy Default Cache set to: /home/hacs/.ivy2/cache\n",
      "The jars for the packages stored in: /home/hacs/.ivy2/jars\n",
      "io.delta#delta-core_2.12 added as a dependency\n",
      ":: resolving dependencies :: org.apache.spark#spark-submit-parent-2ee29d31-b53c-45c7-afab-2ae8719d53cb;1.0\n",
      "\tconfs: [default]\n",
      "\tfound io.delta#delta-core_2.12;2.4.0 in central\n",
      "\tfound io.delta#delta-storage;2.4.0 in central\n",
      "\tfound org.antlr#antlr4-runtime;4.9.3 in central\n",
      ":: resolution report :: resolve 158ms :: artifacts dl 6ms\n",
      "\t:: modules in use:\n",
      "\tio.delta#delta-core_2.12;2.4.0 from central in [default]\n",
      "\tio.delta#delta-storage;2.4.0 from central in [default]\n",
      "\torg.antlr#antlr4-runtime;4.9.3 from central in [default]\n",
      "\t---------------------------------------------------------------------\n",
      "\t|                  |            modules            ||   artifacts   |\n",
      "\t|       conf       | number| search|dwnlded|evicted|| number|dwnlded|\n",
      "\t---------------------------------------------------------------------\n",
      "\t|      default     |   3   |   0   |   0   |   0   ||   3   |   0   |\n",
      "\t---------------------------------------------------------------------\n",
      ":: retrieving :: org.apache.spark#spark-submit-parent-2ee29d31-b53c-45c7-afab-2ae8719d53cb\n",
      "\tconfs: [default]\n",
      "\t0 artifacts copied, 3 already retrieved (0kB/4ms)\n",
      "24/09/30 09:26:26 WARN NativeCodeLoader: Unable to load native-hadoop library for your platform... using builtin-java classes where applicable\n",
      "Setting default log level to \"WARN\".\n",
      "To adjust logging level use sc.setLogLevel(newLevel). For SparkR, use setLogLevel(newLevel).\n"
     ]
    }
   ],
   "source": [
    "#CONFIGURAÇÕES SPARK\n",
    "spark = (\n",
    "    SparkSession.builder.master(\"local[*]\").appName(\"csvToParquet\")\n",
    "    .config(\"spark.executor.memory\", \"16g\")\n",
    "    #HADOOP\n",
    "    .config(\"spark.hadoop.fs.s3a.endpoint\", \"http://localhost:9000\")\n",
    "    .config(\"spark.hadoop.fs.s3a.access.key\", \"minioadmin\")\n",
    "    .config(\"spark.hadoop.fs.s3a.secret.key\", \"minioadmin\")\n",
    "    .config(\"spark.hadoop.fs.s3a.path.style.access\", \"true\")\n",
    "    .config(\"spark.hadoop.fs.s3a.aws.credentials.provider\", \"org.apache.hadoop.fs.s3a.SimpleAWSCredentialsProvider\")\n",
    "    #DELTA\n",
    "    .config(\"spark.jars.packages\", \"io.delta:delta-core_2.12:2.4.0\")\n",
    "    .config(\"spark.sql.extensions\", \"io.delta.sql.DeltaSparkSessionExtension\")\n",
    "    .config(\"spark.sql.catalog.spark_catalog\", \"org.apache.spark.sql.delta.catalog.DeltaCatalog\")\n",
    "    .config(\"spark.jars\", \"jars/aws-java-sdk-bundle-1.11.1026.jar, \\\n",
    "            jars/hadoop-aws-3.2.0.jar\")\n",
    "    .getOrCreate()\n",
    ")\n"
   ]
  },
  {
   "cell_type": "code",
   "execution_count": 3,
   "id": "d76e6bad-a23e-48e7-86be-b67cf87fb53b",
   "metadata": {},
   "outputs": [],
   "source": [
    "#CONFIGURAÇÕES CLIENT DO MINIO\n",
    "client=Minio(\"localhost:9000\",\n",
    "             access_key=\"minioadmin\",\n",
    "             secret_key=\"minioadmin\",\n",
    "             secure=False\n",
    "            )\n"
   ]
  },
  {
   "cell_type": "code",
   "execution_count": 14,
   "id": "cb98bdc5-f326-432d-b839-b26fd8fda5db",
   "metadata": {},
   "outputs": [],
   "source": [
    "bucket_name = 'bronze'\n",
    "objects=client.list_objects(bucket_name, prefix='CAPES/', recursive=True)\n",
    "csvs = []\n",
    "for object in objects:\n",
    "    csvs.append(object.object_name)\n",
    "    \n",
    "name_csvs = []\n",
    "for csv in csvs:\n",
    "    name_csvs.append(csv.split('/'))"
   ]
  },
  {
   "cell_type": "code",
   "execution_count": 15,
   "id": "8fbc428e-d98d-45e2-9446-4dfc1ca47a3d",
   "metadata": {},
   "outputs": [
    {
     "name": "stdout",
     "output_type": "stream",
     "text": [
      "0 - CAPES/2021-a-2024-autor-da-producao-intelectual-de-programas-de-pos-graduacao-stricto-sensu-no-brasil/Ano Base - 2021 a 2022 Bibliográfica Subtipo Livro.csv\n",
      "1 - CAPES/2021-a-2024-autor-da-producao-intelectual-de-programas-de-pos-graduacao-stricto-sensu-no-brasil/Ano Base - 2021 a 2022, Bibliográfica Subtipo Artigo em Jornal ou Revista.csv\n",
      "2 - CAPES/2021-a-2024-autor-da-producao-intelectual-de-programas-de-pos-graduacao-stricto-sensu-no-brasil/Ano Base - 2021 a 2022, Bibliográfica Subtipo Outro.csv\n",
      "3 - CAPES/2021-a-2024-autor-da-producao-intelectual-de-programas-de-pos-graduacao-stricto-sensu-no-brasil/Ano Base - 2021 a 2022, Técnica Subtipo Desenvolvimento de Aplicativo.csv\n",
      "4 - CAPES/2021-a-2024-autor-da-producao-intelectual-de-programas-de-pos-graduacao-stricto-sensu-no-brasil/Ano Base - 2021 a 2022, Técnica Subtipo Desenvolvimento de Produto.csv\n",
      "5 - CAPES/2021-a-2024-autor-da-producao-intelectual-de-programas-de-pos-graduacao-stricto-sensu-no-brasil/Ano Base - 2021 a 2022, Técnica Subtipo Desenvolvimento de Técnica.csv\n",
      "6 - CAPES/2021-a-2024-autor-da-producao-intelectual-de-programas-de-pos-graduacao-stricto-sensu-no-brasil/Ano Base - 2021 a 2022, Técnica Subtipo Organização de Evento.csv\n",
      "7 - CAPES/2021-a-2024-autor-da-producao-intelectual-de-programas-de-pos-graduacao-stricto-sensu-no-brasil/Ano Base - 2021 a 2022, Técnica Subtipo Outros.csv\n",
      "8 - CAPES/2021-a-2024-autor-da-producao-intelectual-de-programas-de-pos-graduacao-stricto-sensu-no-brasil/Ano Base - 2021 a 2022, Técnica Subtipo Patente.csv\n",
      "9 - CAPES/2021-a-2024-autor-da-producao-intelectual-de-programas-de-pos-graduacao-stricto-sensu-no-brasil/Ano Base - 2021, Bibliográfica Subtipo Artigo em Periódico.csv\n",
      "10 - CAPES/2021-a-2024-autor-da-producao-intelectual-de-programas-de-pos-graduacao-stricto-sensu-no-brasil/Ano Base - 2021, Bibliográfica Subtipo Trabalho em Anais.csv\n",
      "11 - CAPES/2021-a-2024-autor-da-producao-intelectual-de-programas-de-pos-graduacao-stricto-sensu-no-brasil/Ano Base - 2022, Bibliográfica Subtipo Artigo em Periódico.csv\n",
      "12 - CAPES/2021-a-2024-autor-da-producao-intelectual-de-programas-de-pos-graduacao-stricto-sensu-no-brasil/Ano Base - 2022, Bibliográfica Subtipo Trabalho em Anais.csv\n",
      "13 - CAPES/2021-a-2024-catalogo-de-teses-e-dissertacoes-brasil/Ano 2021.csv\n",
      "14 - CAPES/2021-a-2024-catalogo-de-teses-e-dissertacoes-brasil/Ano 2022.csv\n",
      "15 - CAPES/2021-a-2024-cursos-da-pos-graduacao-stricto-sensu-no-brasil/Ano 2021.csv\n",
      "16 - CAPES/2021-a-2024-cursos-da-pos-graduacao-stricto-sensu-no-brasil/Ano 2022.csv\n",
      "17 - CAPES/2021-a-2024-detalhes-da-producao-intelectual-bibliografica-de-programas-de-pos-graduacao/Anos 2021 e 2022 - Subtipo Artigo em Periódico.csv\n",
      "18 - CAPES/2021-a-2024-detalhes-da-producao-intelectual-bibliografica-de-programas-de-pos-graduacao/Anos 2021 e 2022 - Subtipo Livro.csv\n",
      "19 - CAPES/2021-a-2024-detalhes-da-producao-intelectual-bibliografica-de-programas-de-pos-graduacao/Anos 2021 e 2022 - Subtipo Outro.csv\n",
      "20 - CAPES/2021-a-2024-detalhes-da-producao-intelectual-bibliografica-de-programas-de-pos-graduacao/Anos 2021 e 2022 - Subtipo Trabalho em Anais.csv\n",
      "21 - CAPES/2021-a-2024-detalhes-da-producao-intelectual-tecnica-de-programas-de-pos-graduacao-stricto-sensu/Anos 2021 e 2022 - Subtipo Artigo em Jornal ou Revista.csv\n",
      "22 - CAPES/2021-a-2024-detalhes-da-producao-intelectual-tecnica-de-programas-de-pos-graduacao-stricto-sensu/Anos 2021 e 2022 - Subtipo Desenvolvimento de Aplicativo.csv\n",
      "23 - CAPES/2021-a-2024-detalhes-da-producao-intelectual-tecnica-de-programas-de-pos-graduacao-stricto-sensu/Anos 2021 e 2022 - Subtipo Desenvolvimento de Produto.csv\n",
      "24 - CAPES/2021-a-2024-detalhes-da-producao-intelectual-tecnica-de-programas-de-pos-graduacao-stricto-sensu/Anos 2021 e 2022 - Subtipo Desenvolvimento de Técnica.csv\n",
      "25 - CAPES/2021-a-2024-detalhes-da-producao-intelectual-tecnica-de-programas-de-pos-graduacao-stricto-sensu/Anos 2021 e 2022 - Subtipo Organização de Evento.csv\n",
      "26 - CAPES/2021-a-2024-detalhes-da-producao-intelectual-tecnica-de-programas-de-pos-graduacao-stricto-sensu/Anos 2021 e 2022 - Subtipo Outro.csv\n",
      "27 - CAPES/2021-a-2024-detalhes-da-producao-intelectual-tecnica-de-programas-de-pos-graduacao-stricto-sensu/Anos 2021 e 2022 - Subtipo Patente.csv\n",
      "28 - CAPES/2021-a-2024-discentes-da-pos-graduacao-stricto-sensu-do-brasil/Ano 2021.csv\n",
      "29 - CAPES/2021-a-2024-discentes-da-pos-graduacao-stricto-sensu-do-brasil/Ano 2022.csv\n",
      "30 - CAPES/2021-a-2024-docentes-da-pos-graduacao-stricto-sensu-no-brasil/Ano 2021.csv\n",
      "31 - CAPES/2021-a-2024-docentes-da-pos-graduacao-stricto-sensu-no-brasil/Ano 2022.csv\n",
      "32 - CAPES/2021-a-2024-financiadores-de-projetos-dos-programas-de-pos-graduacao-stricto-sensu-no-brasil/Ano 2021.csv\n",
      "33 - CAPES/2021-a-2024-financiadores-de-projetos-dos-programas-de-pos-graduacao-stricto-sensu-no-brasil/Ano 2022.csv\n",
      "34 - CAPES/2021-a-2024-membros-de-projetos-dos-programas-de-pos-graduacao-stricto-sensu-no-brasil/Ano 2021.csv\n",
      "35 - CAPES/2021-a-2024-membros-de-projetos-dos-programas-de-pos-graduacao-stricto-sensu-no-brasil/Ano 2022.csv\n",
      "36 - CAPES/2021-a-2024-producao-intelectual-de-pos-graduacao-stricto-sensu-no-brasil/Anos 2021 e 2022 - Tipo Bibliográfica Subtipo Livro.csv\n",
      "37 - CAPES/2021-a-2024-producao-intelectual-de-pos-graduacao-stricto-sensu-no-brasil/Anos 2021 e 2022 - Tipo Bibliográfica Subtipo Outro.csv\n",
      "38 - CAPES/2021-a-2024-producao-intelectual-de-pos-graduacao-stricto-sensu-no-brasil/Anos 2021 e 2022 - Tipo Bibliográfica Subtipo Trabalho em Anais.csv\n",
      "39 - CAPES/2021-a-2024-producao-intelectual-de-pos-graduacao-stricto-sensu-no-brasil/Anos 2021 e 2022 - Tipo Técnica Subtipo Artigo em Jornal ou Revista.csv\n",
      "40 - CAPES/2021-a-2024-producao-intelectual-de-pos-graduacao-stricto-sensu-no-brasil/Anos 2021 e 2022 - Tipo Técnica Subtipo Desenvolvimento de Aplicativo.csv\n",
      "41 - CAPES/2021-a-2024-producao-intelectual-de-pos-graduacao-stricto-sensu-no-brasil/Anos 2021 e 2022 - Tipo Técnica Subtipo Desenvolvimento de Produto.csv\n",
      "42 - CAPES/2021-a-2024-producao-intelectual-de-pos-graduacao-stricto-sensu-no-brasil/Anos 2021 e 2022 - Tipo Técnica Subtipo Desenvolvimento de Técnica.csv\n",
      "43 - CAPES/2021-a-2024-producao-intelectual-de-pos-graduacao-stricto-sensu-no-brasil/Anos 2021 e 2022 - Tipo Técnica Subtipo Organização de Evento.csv\n",
      "44 - CAPES/2021-a-2024-producao-intelectual-de-pos-graduacao-stricto-sensu-no-brasil/Anos 2021 e 2022 - Tipo Técnica Subtipo Outro.csv\n",
      "45 - CAPES/2021-a-2024-producao-intelectual-de-pos-graduacao-stricto-sensu-no-brasil/Anos 2021 e 2022 - Tipo Técnica Subtipo Patente.csv\n",
      "46 - CAPES/2021-a-2024-producao-intelectual-de-pos-graduacao-stricto-sensu-no-brasil/Anos 2021 e 2022 – Tipo Bibliográfica Subtipo Artigo em Periódico.csv\n",
      "47 - CAPES/2021-a-2024-programas-da-pos-graduacao-stricto-sensu-no-brasil/Ano 2021.csv\n",
      "48 - CAPES/2021-a-2024-programas-da-pos-graduacao-stricto-sensu-no-brasil/Ano 2022.csv\n",
      "49 - CAPES/2021-a-2024-projetos-dos-programas-de-pos-graduacao-stricto-sensu-no-brasil/Ano 2021.csv\n",
      "50 - CAPES/2021-a-2024-projetos-dos-programas-de-pos-graduacao-stricto-sensu-no-brasil/Ano 2022.csv\n"
     ]
    }
   ],
   "source": [
    "#LISTANDO OS DATAFRAMES PRESENTES NO BUCKET RAW DO MinIO\n",
    "count = 0\n",
    "for csv in csvs:\n",
    "    print(f'{count} - {csv}')\n",
    "    count+=1"
   ]
  },
  {
   "cell_type": "code",
   "execution_count": 16,
   "id": "3549175f-be29-41c5-8b08-face58dde0d3",
   "metadata": {},
   "outputs": [],
   "source": [
    "def unionDf(dfstart, dfend):\n",
    "    df_one = spark.read.format('csv').option('header', 'true').option('sep', ';')\\\n",
    "        .load(f's3a://{bucket_name}/{csvs[dfstart]}')\n",
    "    for i in range(dfstart+1, dfend+1):\n",
    "        df_two = spark.read.format('csv').option('header', 'true').option('sep', ';')\\\n",
    "        .load(f's3a://{bucket_name}/{csvs[dfend]}')\n",
    "        df_one = df_one.unionByName(df_two, allowMissingColumns=True)\n",
    "    return df_one\n"
   ]
  },
  {
   "cell_type": "code",
   "execution_count": 17,
   "id": "95c5f1b1-a920-428b-8d39-9e092fe8e01e",
   "metadata": {},
   "outputs": [],
   "source": [
    "def clearOnlyParquets(folder):\n",
    "    for root, dirs, files in os.walk(folder):\n",
    "        for file in files:\n",
    "            if not file.endswith(\".parquet\"):\n",
    "                os.remove(os.path.join(root, file))"
   ]
  },
  {
   "cell_type": "code",
   "execution_count": 18,
   "id": "37330fa9-6d59-4af4-9505-d3fb2c061881",
   "metadata": {},
   "outputs": [],
   "source": [
    "def toParquet(df, nameDf):\n",
    "    df.write.parquet(nameDf)\n",
    "    clearOnlyParquets(nameDf)"
   ]
  },
  {
   "cell_type": "code",
   "execution_count": 19,
   "id": "0dc5928d-a1e4-4f4b-9129-0df5a296f295",
   "metadata": {},
   "outputs": [],
   "source": [
    "programas = unionDf(47,48)"
   ]
  },
  {
   "cell_type": "code",
   "execution_count": 20,
   "id": "7be40b67-f0ed-40ae-8609-ce5a4af0c20d",
   "metadata": {},
   "outputs": [
    {
     "data": {
      "text/plain": [
       "['AN_BASE',\n",
       " 'NM_GRANDE_AREA_CONHECIMENTO',\n",
       " 'NM_AREA_CONHECIMENTO',\n",
       " 'NM_AREA_BASICA',\n",
       " 'NM_SUBAREA_CONHECIMENTO',\n",
       " 'NM_ESPECIALIDADE',\n",
       " 'CD_AREA_AVALIACAO',\n",
       " 'NM_AREA_AVALIACAO',\n",
       " 'CD_ENTIDADE_CAPES',\n",
       " 'CD_ENTIDADE_EMEC',\n",
       " 'SG_ENTIDADE_ENSINO',\n",
       " 'NM_ENTIDADE_ENSINO',\n",
       " 'IN_REDE',\n",
       " 'SG_ENTIDADE_ENSINO_REDE',\n",
       " 'CS_STATUS_JURIDICO',\n",
       " 'DS_DEPENDENCIA_ADMINISTRATIVA',\n",
       " 'DS_ORGANIZACAO_ACADEMICA',\n",
       " 'NM_REGIAO',\n",
       " 'SG_UF_PROGRAMA',\n",
       " 'NM_MUNICIPIO_PROGRAMA_IES',\n",
       " 'NM_MODALIDADE_PROGRAMA',\n",
       " 'CD_PROGRAMA_IES',\n",
       " 'NM_PROGRAMA_IES',\n",
       " 'NM_PROGRAMA_IDIOMA',\n",
       " 'NM_GRAU_PROGRAMA',\n",
       " 'CD_CONCEITO_PROGRAMA',\n",
       " 'AN_INICIO_PROGRAMA',\n",
       " 'AN_INICIO_CURSO',\n",
       " 'DS_SITUACAO_PROGRAMA',\n",
       " 'DT_SITUACAO_PROGRAMA',\n",
       " 'ID_ADD_FOTO_PROGRAMA_IES',\n",
       " 'ID_ADD_FOTO_PROGRAMA']"
      ]
     },
     "execution_count": 20,
     "metadata": {},
     "output_type": "execute_result"
    }
   ],
   "source": [
    "programas = programas.drop('AN_BASE',\n",
    "                           'ID_ADD_FOTO_PROGRAMA_IES',\n",
    "                           'ID_ADD_FOTO_PROGRAMA',\n",
    "                           'IN_REDE'\n",
    "                          )"
   ]
  },
  {
   "cell_type": "code",
   "execution_count": null,
   "id": "d011025f-7a64-4c3e-a718-b8021e45426f",
   "metadata": {},
   "outputs": [],
   "source": []
  }
 ],
 "metadata": {
  "kernelspec": {
   "display_name": "Python 3 (ipykernel)",
   "language": "python",
   "name": "python3"
  },
  "language_info": {
   "codemirror_mode": {
    "name": "ipython",
    "version": 3
   },
   "file_extension": ".py",
   "mimetype": "text/x-python",
   "name": "python",
   "nbconvert_exporter": "python",
   "pygments_lexer": "ipython3",
   "version": "3.10.12"
  }
 },
 "nbformat": 4,
 "nbformat_minor": 5
}
