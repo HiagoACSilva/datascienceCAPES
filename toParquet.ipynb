{
 "cells": [
  {
   "cell_type": "code",
   "execution_count": 1,
   "id": "3cc206d0-e7dc-4217-b38c-3d038c269868",
   "metadata": {},
   "outputs": [],
   "source": [
    "from pyspark.sql import SparkSession\n",
    "from delta import *\n",
    "from minio import Minio\n",
    "import pyspark.sql.functions as F\n",
    "import os\n",
    "import pandas as pd"
   ]
  },
  {
   "cell_type": "code",
   "execution_count": 2,
   "id": "fcdda897-1405-445f-9867-6b93953f2c6b",
   "metadata": {},
   "outputs": [
    {
     "name": "stderr",
     "output_type": "stream",
     "text": [
      "24/10/13 04:36:02 WARN Utils: Your hostname, DESKTOP-CV9TLA8 resolves to a loopback address: 127.0.1.1; using 10.255.255.254 instead (on interface lo)\n",
      "24/10/13 04:36:02 WARN Utils: Set SPARK_LOCAL_IP if you need to bind to another address\n"
     ]
    },
    {
     "name": "stdout",
     "output_type": "stream",
     "text": [
      ":: loading settings :: url = jar:file:/home/hacs/.cache/pypoetry/virtualenvs/pyspark-delta-gPM1PAZH-py3.10/lib/python3.10/site-packages/pyspark/jars/ivy-2.5.1.jar!/org/apache/ivy/core/settings/ivysettings.xml\n"
     ]
    },
    {
     "name": "stderr",
     "output_type": "stream",
     "text": [
      "Ivy Default Cache set to: /home/hacs/.ivy2/cache\n",
      "The jars for the packages stored in: /home/hacs/.ivy2/jars\n",
      "io.delta#delta-core_2.12 added as a dependency\n",
      ":: resolving dependencies :: org.apache.spark#spark-submit-parent-79a79415-e581-4d06-9fda-236e75fbe7cc;1.0\n",
      "\tconfs: [default]\n",
      "\tfound io.delta#delta-core_2.12;2.4.0 in central\n",
      "\tfound io.delta#delta-storage;2.4.0 in central\n",
      "\tfound org.antlr#antlr4-runtime;4.9.3 in central\n",
      ":: resolution report :: resolve 186ms :: artifacts dl 5ms\n",
      "\t:: modules in use:\n",
      "\tio.delta#delta-core_2.12;2.4.0 from central in [default]\n",
      "\tio.delta#delta-storage;2.4.0 from central in [default]\n",
      "\torg.antlr#antlr4-runtime;4.9.3 from central in [default]\n",
      "\t---------------------------------------------------------------------\n",
      "\t|                  |            modules            ||   artifacts   |\n",
      "\t|       conf       | number| search|dwnlded|evicted|| number|dwnlded|\n",
      "\t---------------------------------------------------------------------\n",
      "\t|      default     |   3   |   0   |   0   |   0   ||   3   |   0   |\n",
      "\t---------------------------------------------------------------------\n",
      ":: retrieving :: org.apache.spark#spark-submit-parent-79a79415-e581-4d06-9fda-236e75fbe7cc\n",
      "\tconfs: [default]\n",
      "\t0 artifacts copied, 3 already retrieved (0kB/5ms)\n",
      "24/10/13 04:36:03 WARN NativeCodeLoader: Unable to load native-hadoop library for your platform... using builtin-java classes where applicable\n",
      "Setting default log level to \"WARN\".\n",
      "To adjust logging level use sc.setLogLevel(newLevel). For SparkR, use setLogLevel(newLevel).\n",
      "24/10/13 04:36:04 WARN Utils: Service 'SparkUI' could not bind on port 4040. Attempting port 4041.\n",
      "24/10/13 04:36:04 WARN Utils: Service 'SparkUI' could not bind on port 4041. Attempting port 4042.\n"
     ]
    }
   ],
   "source": [
    "#CONFIGURAÇÕES SPARK\n",
    "spark = (\n",
    "    SparkSession.builder.master(\"local[*]\").appName(\"csvToParquet\")\n",
    "    .config(\"spark.executor.memory\", \"16g\")\n",
    "    #HADOOP\n",
    "    .config(\"spark.hadoop.fs.s3a.endpoint\", \"http://localhost:9000\")\n",
    "    .config(\"spark.hadoop.fs.s3a.access.key\", \"minioadmin\")\n",
    "    .config(\"spark.hadoop.fs.s3a.secret.key\", \"minioadmin\")\n",
    "    .config(\"spark.hadoop.fs.s3a.path.style.access\", \"true\")\n",
    "    .config(\"spark.hadoop.fs.s3a.aws.credentials.provider\", \"org.apache.hadoop.fs.s3a.SimpleAWSCredentialsProvider\")\n",
    "    #DELTA\n",
    "    .config(\"spark.jars.packages\", \"io.delta:delta-core_2.12:2.4.0\")\n",
    "    .config(\"spark.sql.extensions\", \"io.delta.sql.DeltaSparkSessionExtension\")\n",
    "    .config(\"spark.sql.catalog.spark_catalog\", \"org.apache.spark.sql.delta.catalog.DeltaCatalog\")\n",
    "    .config(\"spark.jars\", \"jars/aws-java-sdk-bundle-1.11.1026.jar, \\\n",
    "            jars/hadoop-aws-3.2.0.jar\")\n",
    "    .getOrCreate()\n",
    ")\n"
   ]
  },
  {
   "cell_type": "code",
   "execution_count": 3,
   "id": "d76e6bad-a23e-48e7-86be-b67cf87fb53b",
   "metadata": {},
   "outputs": [],
   "source": [
    "#CONFIGURAÇÕES CLIENT DO MINIO\n",
    "client=Minio(\"localhost:9000\",\n",
    "             access_key=\"minioadmin\",\n",
    "             secret_key=\"minioadmin\",\n",
    "             secure=False\n",
    "            )\n"
   ]
  },
  {
   "cell_type": "code",
   "execution_count": 4,
   "id": "cb98bdc5-f326-432d-b839-b26fd8fda5db",
   "metadata": {},
   "outputs": [],
   "source": [
    "bucket_name = 'bronze'\n",
    "objects=client.list_objects(bucket_name, prefix='CAPES/', recursive=True)\n",
    "csvs = []\n",
    "for object in objects:\n",
    "    csvs.append(object.object_name)\n",
    "    \n",
    "name_csvs = []\n",
    "for csv in csvs:\n",
    "    name_csvs.append(csv.split('/'))"
   ]
  },
  {
   "cell_type": "code",
   "execution_count": 5,
   "id": "bec95da1-7684-4320-ba61-e698355a13a5",
   "metadata": {},
   "outputs": [
    {
     "name": "stdout",
     "output_type": "stream",
     "text": [
      "0 - CAPES/2021-a-2024-autor-da-producao-intelectual-de-programas-de-pos-graduacao-stricto-sensu-no-brasil/Ano Base - 2021 a 2022 Bibliográfica Subtipo Livro.csv\n",
      "1 - CAPES/2021-a-2024-autor-da-producao-intelectual-de-programas-de-pos-graduacao-stricto-sensu-no-brasil/Ano Base - 2021 a 2022, Bibliográfica Subtipo Artigo em Jornal ou Revista.csv\n",
      "2 - CAPES/2021-a-2024-autor-da-producao-intelectual-de-programas-de-pos-graduacao-stricto-sensu-no-brasil/Ano Base - 2021 a 2022, Bibliográfica Subtipo Outro.csv\n",
      "3 - CAPES/2021-a-2024-autor-da-producao-intelectual-de-programas-de-pos-graduacao-stricto-sensu-no-brasil/Ano Base - 2021 a 2022, Técnica Subtipo Desenvolvimento de Aplicativo.csv\n",
      "4 - CAPES/2021-a-2024-autor-da-producao-intelectual-de-programas-de-pos-graduacao-stricto-sensu-no-brasil/Ano Base - 2021 a 2022, Técnica Subtipo Desenvolvimento de Produto.csv\n",
      "5 - CAPES/2021-a-2024-autor-da-producao-intelectual-de-programas-de-pos-graduacao-stricto-sensu-no-brasil/Ano Base - 2021 a 2022, Técnica Subtipo Desenvolvimento de Técnica.csv\n",
      "6 - CAPES/2021-a-2024-autor-da-producao-intelectual-de-programas-de-pos-graduacao-stricto-sensu-no-brasil/Ano Base - 2021 a 2022, Técnica Subtipo Organização de Evento.csv\n",
      "7 - CAPES/2021-a-2024-autor-da-producao-intelectual-de-programas-de-pos-graduacao-stricto-sensu-no-brasil/Ano Base - 2021 a 2022, Técnica Subtipo Outros.csv\n",
      "8 - CAPES/2021-a-2024-autor-da-producao-intelectual-de-programas-de-pos-graduacao-stricto-sensu-no-brasil/Ano Base - 2021 a 2022, Técnica Subtipo Patente.csv\n",
      "9 - CAPES/2021-a-2024-autor-da-producao-intelectual-de-programas-de-pos-graduacao-stricto-sensu-no-brasil/Ano Base - 2021, Bibliográfica Subtipo Artigo em Periódico.csv\n",
      "10 - CAPES/2021-a-2024-autor-da-producao-intelectual-de-programas-de-pos-graduacao-stricto-sensu-no-brasil/Ano Base - 2021, Bibliográfica Subtipo Trabalho em Anais.csv\n",
      "11 - CAPES/2021-a-2024-autor-da-producao-intelectual-de-programas-de-pos-graduacao-stricto-sensu-no-brasil/Ano Base - 2022, Bibliográfica Subtipo Artigo em Periódico.csv\n",
      "12 - CAPES/2021-a-2024-autor-da-producao-intelectual-de-programas-de-pos-graduacao-stricto-sensu-no-brasil/Ano Base - 2022, Bibliográfica Subtipo Trabalho em Anais.csv\n",
      "13 - CAPES/2021-a-2024-catalogo-de-teses-e-dissertacoes-brasil/Ano 2021.csv\n",
      "14 - CAPES/2021-a-2024-catalogo-de-teses-e-dissertacoes-brasil/Ano 2022.csv\n",
      "15 - CAPES/2021-a-2024-cursos-da-pos-graduacao-stricto-sensu-no-brasil/Ano 2021.csv\n",
      "16 - CAPES/2021-a-2024-cursos-da-pos-graduacao-stricto-sensu-no-brasil/Ano 2022.csv\n",
      "17 - CAPES/2021-a-2024-detalhes-da-producao-intelectual-bibliografica-de-programas-de-pos-graduacao/Anos 2021 e 2022 - Subtipo Artigo em Periódico.csv\n",
      "18 - CAPES/2021-a-2024-detalhes-da-producao-intelectual-bibliografica-de-programas-de-pos-graduacao/Anos 2021 e 2022 - Subtipo Livro.csv\n",
      "19 - CAPES/2021-a-2024-detalhes-da-producao-intelectual-bibliografica-de-programas-de-pos-graduacao/Anos 2021 e 2022 - Subtipo Outro.csv\n",
      "20 - CAPES/2021-a-2024-detalhes-da-producao-intelectual-bibliografica-de-programas-de-pos-graduacao/Anos 2021 e 2022 - Subtipo Trabalho em Anais.csv\n",
      "21 - CAPES/2021-a-2024-detalhes-da-producao-intelectual-tecnica-de-programas-de-pos-graduacao-stricto-sensu/Anos 2021 e 2022 - Subtipo Artigo em Jornal ou Revista.csv\n",
      "22 - CAPES/2021-a-2024-detalhes-da-producao-intelectual-tecnica-de-programas-de-pos-graduacao-stricto-sensu/Anos 2021 e 2022 - Subtipo Desenvolvimento de Aplicativo.csv\n",
      "23 - CAPES/2021-a-2024-detalhes-da-producao-intelectual-tecnica-de-programas-de-pos-graduacao-stricto-sensu/Anos 2021 e 2022 - Subtipo Desenvolvimento de Produto.csv\n",
      "24 - CAPES/2021-a-2024-detalhes-da-producao-intelectual-tecnica-de-programas-de-pos-graduacao-stricto-sensu/Anos 2021 e 2022 - Subtipo Desenvolvimento de Técnica.csv\n",
      "25 - CAPES/2021-a-2024-detalhes-da-producao-intelectual-tecnica-de-programas-de-pos-graduacao-stricto-sensu/Anos 2021 e 2022 - Subtipo Organização de Evento.csv\n",
      "26 - CAPES/2021-a-2024-detalhes-da-producao-intelectual-tecnica-de-programas-de-pos-graduacao-stricto-sensu/Anos 2021 e 2022 - Subtipo Outro.csv\n",
      "27 - CAPES/2021-a-2024-detalhes-da-producao-intelectual-tecnica-de-programas-de-pos-graduacao-stricto-sensu/Anos 2021 e 2022 - Subtipo Patente.csv\n",
      "28 - CAPES/2021-a-2024-discentes-da-pos-graduacao-stricto-sensu-do-brasil/Ano 2021.csv\n",
      "29 - CAPES/2021-a-2024-discentes-da-pos-graduacao-stricto-sensu-do-brasil/Ano 2022.csv\n",
      "30 - CAPES/2021-a-2024-docentes-da-pos-graduacao-stricto-sensu-no-brasil/Ano 2021.csv\n",
      "31 - CAPES/2021-a-2024-docentes-da-pos-graduacao-stricto-sensu-no-brasil/Ano 2022.csv\n",
      "32 - CAPES/2021-a-2024-financiadores-de-projetos-dos-programas-de-pos-graduacao-stricto-sensu-no-brasil/Ano 2021.csv\n",
      "33 - CAPES/2021-a-2024-financiadores-de-projetos-dos-programas-de-pos-graduacao-stricto-sensu-no-brasil/Ano 2022.csv\n",
      "34 - CAPES/2021-a-2024-membros-de-projetos-dos-programas-de-pos-graduacao-stricto-sensu-no-brasil/Ano 2021.csv\n",
      "35 - CAPES/2021-a-2024-membros-de-projetos-dos-programas-de-pos-graduacao-stricto-sensu-no-brasil/Ano 2022.csv\n",
      "36 - CAPES/2021-a-2024-producao-intelectual-de-pos-graduacao-stricto-sensu-no-brasil/Anos 2021 e 2022 - Tipo Bibliográfica Subtipo Livro.csv\n",
      "37 - CAPES/2021-a-2024-producao-intelectual-de-pos-graduacao-stricto-sensu-no-brasil/Anos 2021 e 2022 - Tipo Bibliográfica Subtipo Outro.csv\n",
      "38 - CAPES/2021-a-2024-producao-intelectual-de-pos-graduacao-stricto-sensu-no-brasil/Anos 2021 e 2022 - Tipo Bibliográfica Subtipo Trabalho em Anais.csv\n",
      "39 - CAPES/2021-a-2024-producao-intelectual-de-pos-graduacao-stricto-sensu-no-brasil/Anos 2021 e 2022 - Tipo Técnica Subtipo Artigo em Jornal ou Revista.csv\n",
      "40 - CAPES/2021-a-2024-producao-intelectual-de-pos-graduacao-stricto-sensu-no-brasil/Anos 2021 e 2022 - Tipo Técnica Subtipo Desenvolvimento de Aplicativo.csv\n",
      "41 - CAPES/2021-a-2024-producao-intelectual-de-pos-graduacao-stricto-sensu-no-brasil/Anos 2021 e 2022 - Tipo Técnica Subtipo Desenvolvimento de Produto.csv\n",
      "42 - CAPES/2021-a-2024-producao-intelectual-de-pos-graduacao-stricto-sensu-no-brasil/Anos 2021 e 2022 - Tipo Técnica Subtipo Desenvolvimento de Técnica.csv\n",
      "43 - CAPES/2021-a-2024-producao-intelectual-de-pos-graduacao-stricto-sensu-no-brasil/Anos 2021 e 2022 - Tipo Técnica Subtipo Organização de Evento.csv\n",
      "44 - CAPES/2021-a-2024-producao-intelectual-de-pos-graduacao-stricto-sensu-no-brasil/Anos 2021 e 2022 - Tipo Técnica Subtipo Outro.csv\n",
      "45 - CAPES/2021-a-2024-producao-intelectual-de-pos-graduacao-stricto-sensu-no-brasil/Anos 2021 e 2022 - Tipo Técnica Subtipo Patente.csv\n",
      "46 - CAPES/2021-a-2024-producao-intelectual-de-pos-graduacao-stricto-sensu-no-brasil/Anos 2021 e 2022 – Tipo Bibliográfica Subtipo Artigo em Periódico.csv\n",
      "47 - CAPES/2021-a-2024-programas-da-pos-graduacao-stricto-sensu-no-brasil/Ano 2021.csv\n",
      "48 - CAPES/2021-a-2024-programas-da-pos-graduacao-stricto-sensu-no-brasil/Ano 2022.csv\n",
      "49 - CAPES/2021-a-2024-projetos-dos-programas-de-pos-graduacao-stricto-sensu-no-brasil/Ano 2021.csv\n",
      "50 - CAPES/2021-a-2024-projetos-dos-programas-de-pos-graduacao-stricto-sensu-no-brasil/Ano 2022.csv\n"
     ]
    }
   ],
   "source": [
    "count = 0\n",
    "for csv in csvs:\n",
    "    print(f'{count} - {csv}')\n",
    "    count+=1"
   ]
  },
  {
   "cell_type": "code",
   "execution_count": 6,
   "id": "3549175f-be29-41c5-8b08-face58dde0d3",
   "metadata": {},
   "outputs": [],
   "source": [
    "def unionDf(dfstart, dfend):\n",
    "    df_one = spark.read.format('csv').option('header', 'true').option('sep', ';')\\\n",
    "        .load(f's3a://{bucket_name}/{csvs[dfstart]}')\n",
    "    for i in range(dfstart+1, dfend+1):\n",
    "        df_two = spark.read.format('csv').option('header', 'true').option('sep', ';')\\\n",
    "        .load(f's3a://{bucket_name}/{csvs[dfend]}')\n",
    "        df_one = df_one.unionByName(df_two, allowMissingColumns=True)\n",
    "    return df_one\n"
   ]
  },
  {
   "cell_type": "code",
   "execution_count": 7,
   "id": "95c5f1b1-a920-428b-8d39-9e092fe8e01e",
   "metadata": {},
   "outputs": [],
   "source": [
    "def clearOnlyParquets(folder):\n",
    "    for root, dirs, files in os.walk(folder):\n",
    "        for file in files:\n",
    "            if not file.endswith(\".parquet\"):\n",
    "                os.remove(os.path.join(root, file))"
   ]
  },
  {
   "cell_type": "code",
   "execution_count": 8,
   "id": "37330fa9-6d59-4af4-9505-d3fb2c061881",
   "metadata": {},
   "outputs": [],
   "source": [
    "def toParquet(df, nameDf):\n",
    "    df.write.mode('overwrite').parquet(nameDf)\n",
    "    clearOnlyParquets(nameDf)"
   ]
  },
  {
   "cell_type": "code",
   "execution_count": 40,
   "id": "d011025f-7a64-4c3e-a718-b8021e45426f",
   "metadata": {},
   "outputs": [
    {
     "name": "stdout",
     "output_type": "stream",
     "text": [
      "['CD_PROGRAMA_IES', 'SG_ENTIDADE_ENSINO', 'NM_ENTIDADE_ENSINO', 'NM_LINHA_PESQUISA', 'DH_INICIO_LINHA', 'ID_PROJETO', 'DS_PROJETO', 'NM_NATUREZA_PROJETO', 'DH_INICIO', 'DT_SITUACAO_ATUAL', 'NM_TIPO_SITUACAO_ATUAL']\n"
     ]
    }
   ],
   "source": [
    "#PROJETOS\n",
    "df = unionDf(49,50)\n",
    "print(detalhes_projetos.columns)"
   ]
  },
  {
   "cell_type": "code",
   "execution_count": 41,
   "id": "c0cc917b-51e0-4824-88ac-2ee76070933a",
   "metadata": {},
   "outputs": [],
   "source": [
    "projetos = df.select('ID_PROJETO', 'NM_PROJETO')\n",
    "detalhes_projetos = df.select('CD_PROGRAMA_IES', 'SG_ENTIDADE_ENSINO', 'NM_ENTIDADE_ENSINO',\n",
    "                                            'NM_LINHA_PESQUISA', 'DH_INICIO_LINHA', 'ID_PROJETO', 'DS_PROJETO', \n",
    "                                            'NM_NATUREZA_PROJETO', 'DH_INICIO', 'DT_SITUACAO_ATUAL', 'NM_TIPO_SITUACAO_ATUAL')\n",
    "projetos = projetos.dropDuplicates(['ID_PROJETO'])\n",
    "detalhes_projetos = detalhes_projetos.dropDuplicates()"
   ]
  },
  {
   "cell_type": "code",
   "execution_count": 42,
   "id": "1e7263bc-4a3e-4e7c-9902-1945ad592925",
   "metadata": {},
   "outputs": [],
   "source": [
    "toParquet(projetos, 'capes/capes projetos')\n",
    "toParquet(detalhes_projetos, 'capes/capes projetos_detalhes')"
   ]
  },
  {
   "cell_type": "code",
   "execution_count": 43,
   "id": "7be40b67-f0ed-40ae-8609-ce5a4af0c20d",
   "metadata": {},
   "outputs": [
    {
     "name": "stdout",
     "output_type": "stream",
     "text": [
      "['CD_PROGRAMA_IES', 'NM_PROGRAMA_IES']\n"
     ]
    }
   ],
   "source": [
    "#PROGRAMAS\n",
    "df = unionDf(47,48)\n",
    "print(programas.columns)"
   ]
  },
  {
   "cell_type": "code",
   "execution_count": 44,
   "id": "93a20ffd-0816-4770-8a69-1e48ea700fa4",
   "metadata": {},
   "outputs": [],
   "source": [
    "detalhes_programas = df.select('SG_ENTIDADE_ENSINO', 'NM_ENTIDADE_ENSINO', \n",
    "                               'CD_PROGRAMA_IES','AN_INICIO_PROGRAMA', 'DS_SITUACAO_PROGRAMA', 'DT_SITUACAO_PROGRAMA',\n",
    "                               'NM_PROGRAMA_IDIOMA', 'NM_GRAU_PROGRAMA', 'CD_CONCEITO_PROGRAMA'\n",
    "                              )\n",
    "programas = df.select('CD_PROGRAMA_IES', 'NM_PROGRAMA_IES')\n",
    "programas = programas.dropDuplicates(['CD_PROGRAMA_IES'])\n",
    "detalhes_programas = detalhes_programas.dropDuplicates()"
   ]
  },
  {
   "cell_type": "code",
   "execution_count": 45,
   "id": "5d793c1d-6890-4f7a-afd4-d0c30845e81e",
   "metadata": {},
   "outputs": [],
   "source": [
    "toParquet(programas, 'capes/capes programas')\n",
    "toParquet(detalhes_programas, 'capes/capes programas_detalhes')"
   ]
  },
  {
   "cell_type": "code",
   "execution_count": 45,
   "id": "4efccab9-8003-42d4-9616-6e4189b1235e",
   "metadata": {},
   "outputs": [],
   "source": [
    "producao = unionDf(36,46)"
   ]
  },
  {
   "cell_type": "code",
   "execution_count": 46,
   "id": "acd818a4-3c6b-4129-8296-4b23d16876bb",
   "metadata": {},
   "outputs": [
    {
     "data": {
      "text/plain": [
       "['CD_PROGRAMA_IES',\n",
       " 'NM_PROGRAMA_IES',\n",
       " 'SG_ENTIDADE_ENSINO',\n",
       " 'NM_ENTIDADE_ENSINO',\n",
       " 'AN_BASE',\n",
       " 'ID_ADD_PRODUCAO_INTELECTUAL',\n",
       " 'ID_PRODUCAO_INTELECTUAL',\n",
       " 'NM_PRODUCAO',\n",
       " 'ID_TIPO_PRODUCAO',\n",
       " 'NM_TIPO_PRODUCAO',\n",
       " 'ID_SUBTIPO_PRODUCAO',\n",
       " 'NM_SUBTIPO_PRODUCAO',\n",
       " 'ID_FORMULARIO_PRODUCAO',\n",
       " 'NM_FORMULARIO',\n",
       " 'ID_AREA_CONCENTRACAO',\n",
       " 'NM_AREA_CONCENTRACAO',\n",
       " 'ID_LINHA_PESQUISA',\n",
       " 'NM_LINHA_PESQUISA',\n",
       " 'ID_PROJETO',\n",
       " 'NM_PROJETO',\n",
       " 'DH_INICIO_AREA_CONC',\n",
       " 'DH_FIM_AREA_CONC',\n",
       " 'DH_INICIO_LINHA',\n",
       " 'DH_FIM_LINHA',\n",
       " 'IN_GLOSA',\n",
       " 'IN_PRODUCAO_COM_VINCULO_TCC',\n",
       " 'ID_ADD_TRABALHO_CONCLUSAO_CT',\n",
       " 'ID_ADD_FOTO_PROGRAMA',\n",
       " 'ID_ADD_FOTO_PROGRAMA_IES',\n",
       " 'CD_IDENTIFICADOR_VEICULO',\n",
       " 'DS_TITULO_PADRONIZADO']"
      ]
     },
     "execution_count": 46,
     "metadata": {},
     "output_type": "execute_result"
    }
   ],
   "source": [
    "producao.columns"
   ]
  },
  {
   "cell_type": "code",
   "execution_count": 32,
   "id": "95a8a30f-424d-4ca8-8e4a-8204d86bcf79",
   "metadata": {},
   "outputs": [],
   "source": [
    "producao.columns\n",
    "producao = producao.select(\n",
    "    'CD_PROGRAMA_IES',\n",
    "    'NM_PROGRAMA_IES',\n",
    "    'ID_PRODUCAO_INTELECTUAL',\n",
    "    'NM_PRODUCAO',\n",
    "    'NM_TIPO_PRODUCAO',\n",
    "    'NM_SUBTIPO_PRODUCAO',\n",
    "    'ID_PROJETO',\n",
    "    'DS_TITULO_PADRONIZADO',\n",
    "    'DH_INICIO_AREA_CONC',\n",
    "    'DH_FIM_AREA_CONC',\n",
    "    'DH_INICIO_LINHA',\n",
    "    'DH_FIM_LINHA'\n",
    "    )\n",
    "producao = producao.dropDuplicates()"
   ]
  },
  {
   "cell_type": "code",
   "execution_count": 33,
   "id": "6fc0c953-b70a-4b18-a5e7-3da0cee7994f",
   "metadata": {},
   "outputs": [],
   "source": [
    "toParquet(producao, name_csvs[36][1])"
   ]
  },
  {
   "cell_type": "code",
   "execution_count": 47,
   "id": "2c140c6f-9fe2-4ed4-b59a-0021177f5a85",
   "metadata": {},
   "outputs": [
    {
     "data": {
      "text/plain": [
       "['AN_BASE',\n",
       " 'ID_ADD_FOTO_PROGRAMA',\n",
       " 'ID_ADD_FOTO_PROGRAMA_IES',\n",
       " 'AN_INICIO_PROGRAMA',\n",
       " 'ID_ADD_CONTEXTO',\n",
       " 'ID_PROJETO',\n",
       " 'IN_RESPONSAVEL_PROJETO',\n",
       " 'ID_ADD_MEMBRO_PROJETO',\n",
       " 'ID_PESSOA',\n",
       " 'DS_TIPO_MEMBRO',\n",
       " 'ID_ADD_PARTICIPANTE_EXTERNO',\n",
       " 'ID_ADD_DISCENTE',\n",
       " 'ID_ADD_DOCENTE',\n",
       " 'NM_MEMBRO_PROJETO',\n",
       " 'NM_PAIS_NACIONALIDADE_MEMBRO',\n",
       " 'DS_CATEGORIA_MEMBRO_PROJETO',\n",
       " 'DT_INICIO_VINCULO',\n",
       " 'DT_FIM_VINCULO',\n",
       " 'ID_ADD_EGRESSO',\n",
       " 'ID_ADD_POS_DOC']"
      ]
     },
     "execution_count": 47,
     "metadata": {},
     "output_type": "execute_result"
    }
   ],
   "source": [
    "membros = unionDf(34,35)\n",
    "membros.columns"
   ]
  },
  {
   "cell_type": "code",
   "execution_count": 48,
   "id": "95802807-c32b-4541-b592-8b8823967182",
   "metadata": {},
   "outputs": [
    {
     "name": "stdout",
     "output_type": "stream",
     "text": [
      "2013159\n"
     ]
    },
    {
     "name": "stderr",
     "output_type": "stream",
     "text": [
      "                                                                                \r"
     ]
    },
    {
     "data": {
      "text/plain": [
       "1772307"
      ]
     },
     "execution_count": 48,
     "metadata": {},
     "output_type": "execute_result"
    }
   ],
   "source": [
    "print(membros.count())\n",
    "membros = membros.select('ID_PROJETO', 'ID_PESSOA', 'ID_ADD_DISCENTE', 'ID_ADD_DOCENTE', \n",
    "                         'NM_MEMBRO_PROJETO', 'DT_INICIO_VINCULO', 'DT_FIM_VINCULO')\n",
    "membros = membros.dropDuplicates()\n",
    "membros.count()"
   ]
  },
  {
   "cell_type": "code",
   "execution_count": 49,
   "id": "73840417-9820-45c3-ad6f-caa66be39064",
   "metadata": {},
   "outputs": [
    {
     "name": "stderr",
     "output_type": "stream",
     "text": [
      "24/10/11 23:22:30 WARN MemoryManager: Total allocation exceeds 95.00% (1,020,054,720 bytes) of heap memory\n",
      "Scaling row group sizes to 95.00% for 8 writers\n",
      "24/10/11 23:22:30 WARN MemoryManager: Total allocation exceeds 95.00% (1,020,054,720 bytes) of heap memory\n",
      "Scaling row group sizes to 84.44% for 9 writers\n",
      "24/10/11 23:22:30 WARN MemoryManager: Total allocation exceeds 95.00% (1,020,054,720 bytes) of heap memory\n",
      "Scaling row group sizes to 76.00% for 10 writers\n",
      "24/10/11 23:22:30 WARN MemoryManager: Total allocation exceeds 95.00% (1,020,054,720 bytes) of heap memory\n",
      "Scaling row group sizes to 69.09% for 11 writers\n",
      "24/10/11 23:22:30 WARN MemoryManager: Total allocation exceeds 95.00% (1,020,054,720 bytes) of heap memory\n",
      "Scaling row group sizes to 63.33% for 12 writers\n",
      "24/10/11 23:22:31 WARN MemoryManager: Total allocation exceeds 95.00% (1,020,054,720 bytes) of heap memory\n",
      "Scaling row group sizes to 69.09% for 11 writers\n",
      "24/10/11 23:22:31 WARN MemoryManager: Total allocation exceeds 95.00% (1,020,054,720 bytes) of heap memory\n",
      "Scaling row group sizes to 76.00% for 10 writers\n",
      "24/10/11 23:22:31 WARN MemoryManager: Total allocation exceeds 95.00% (1,020,054,720 bytes) of heap memory\n",
      "Scaling row group sizes to 84.44% for 9 writers\n",
      "24/10/11 23:22:31 WARN MemoryManager: Total allocation exceeds 95.00% (1,020,054,720 bytes) of heap memory\n",
      "Scaling row group sizes to 95.00% for 8 writers\n",
      "                                                                                \r"
     ]
    }
   ],
   "source": [
    "toParquet(membros, name_csvs[34][1])"
   ]
  },
  {
   "cell_type": "code",
   "execution_count": 38,
   "id": "a1c54208-4619-4f83-a532-d450ba2d19ba",
   "metadata": {},
   "outputs": [],
   "source": [
    "financiadores = unionDf(32,33)"
   ]
  },
  {
   "cell_type": "code",
   "execution_count": 41,
   "id": "47a1e49d-19e4-4944-90f5-ada31ed0e8c8",
   "metadata": {},
   "outputs": [],
   "source": [
    "financiadores.columns\n",
    "financiadores = financiadores.select('ID_PROJETO', 'CD_PROGRAMA_IES', 'NM_PROGRAMA_IES', 'NM_FINANCIADOR')\n",
    "financiadores = financiadores.dropDuplicates()"
   ]
  },
  {
   "cell_type": "code",
   "execution_count": 42,
   "id": "4264046f-93da-4c56-9785-1f825a22e5dc",
   "metadata": {},
   "outputs": [
    {
     "name": "stderr",
     "output_type": "stream",
     "text": [
      "24/10/11 23:16:14 WARN MemoryManager: Total allocation exceeds 95.00% (1,020,054,720 bytes) of heap memory\n",
      "Scaling row group sizes to 95.00% for 8 writers\n",
      "24/10/11 23:16:14 WARN MemoryManager: Total allocation exceeds 95.00% (1,020,054,720 bytes) of heap memory\n",
      "Scaling row group sizes to 84.44% for 9 writers\n",
      "24/10/11 23:16:14 WARN MemoryManager: Total allocation exceeds 95.00% (1,020,054,720 bytes) of heap memory\n",
      "Scaling row group sizes to 95.00% for 8 writers\n",
      "24/10/11 23:16:14 WARN MemoryManager: Total allocation exceeds 95.00% (1,020,054,720 bytes) of heap memory\n",
      "Scaling row group sizes to 95.00% for 8 writers\n",
      "                                                                                \r"
     ]
    }
   ],
   "source": [
    "toParquet(financiadores, name_csvs[32][1])"
   ]
  },
  {
   "cell_type": "code",
   "execution_count": 43,
   "id": "3c9c0578-1cbc-4ac5-8ff0-31aa89131534",
   "metadata": {},
   "outputs": [],
   "source": [
    "autores = unionDf(0,12)"
   ]
  },
  {
   "cell_type": "code",
   "execution_count": 50,
   "id": "5bd6c213-56d3-42bd-b710-f3e947fedc7b",
   "metadata": {},
   "outputs": [],
   "source": [
    "autores.columns\n",
    "autores = autores.select('ID_ADD_PRODUCAO_INTELECTUAL', 'ID_TIPO_PRODUCAO', 'ID_SUBTIPO_PRODUCAO',\n",
    "                         'ID_PESSOA_DISCENTE', 'ID_PESSOA_DOCENTE', 'NM_AUTOR', 'TP_AUTOR', 'ID_NATUREZA_ATUACAO',\n",
    "                         'NM_NATUREZA_ATUACAO')\n",
    "autores = autores.dropDuplicates()"
   ]
  },
  {
   "cell_type": "code",
   "execution_count": 51,
   "id": "78da10c4-2870-4de9-b692-f3614d353af1",
   "metadata": {},
   "outputs": [],
   "source": [
    "toParquet(autores, name_csvs[0][1])"
   ]
  },
  {
   "cell_type": "code",
   "execution_count": 11,
   "id": "f2277d1a-9636-431d-bbef-6910a7a09e73",
   "metadata": {},
   "outputs": [
    {
     "name": "stderr",
     "output_type": "stream",
     "text": [
      "24/10/13 01:40:03 WARN MetricsConfig: Cannot locate configuration: tried hadoop-metrics2-s3a-file-system.properties,hadoop-metrics2.properties\n"
     ]
    }
   ],
   "source": [
    "catalogos = unionDf(13,14)"
   ]
  },
  {
   "cell_type": "code",
   "execution_count": 16,
   "id": "b434d3c3-5aa1-44ad-b41a-aeaec2777ebb",
   "metadata": {},
   "outputs": [],
   "source": [
    "catalogos = catalogos.select('CD_PROGRAMA', 'NM_PROGRAMA', 'ID_ADD_PRODUCAO_INTELECTUAL', 'ID_PRODUCAO_INTELECTUAL',\n",
    "                             'NM_SUBTIPO_PRODUCAO', 'NM_AREA_CONCENTRACAO', 'ID_PROJETO', 'DT_TITULACAO', 'DS_PALAVRA_CHAVE',\n",
    "                             'DS_ABSTRACT', 'DS_KEYWORD', 'IN_TRABALHO_MESMA_AREA', 'ID_PESSOA_DISCENTE', 'ID_PESSOA_ORIENTADOR',\n",
    "                             'NM_GRANDE_AREA_CONHECIMENTO', 'NM_AREA_CONHECIMENTO', 'NM_SUBAREA_CONHECIMENTO', 'DS_RESUMO')\n",
    "catalogos = catalogos.dropDuplicates()"
   ]
  },
  {
   "cell_type": "code",
   "execution_count": 17,
   "id": "5044c34e-e618-46bb-ab24-7b49165c7f2d",
   "metadata": {},
   "outputs": [],
   "source": [
    "toParquet(catalogos, name_csvs[13][1])"
   ]
  },
  {
   "cell_type": "code",
   "execution_count": 44,
   "id": "6dd21cd2-630b-4fd5-a896-6039e89352e3",
   "metadata": {},
   "outputs": [
    {
     "data": {
      "text/plain": [
       "['AN_BASE',\n",
       " 'NM_GRANDE_AREA_CONHECIMENTO',\n",
       " 'CD_AREA_AVALIACAO',\n",
       " 'NM_AREA_AVALIACAO',\n",
       " 'CD_ENTIDADE_CAPES',\n",
       " 'CD_ENTIDADE_EMEC',\n",
       " 'SG_ENTIDADE_ENSINO',\n",
       " 'NM_ENTIDADE_ENSINO',\n",
       " 'CS_STATUS_JURIDICO',\n",
       " 'DS_DEPENDENCIA_ADMINISTRATIVA',\n",
       " 'NM_MODALIDADE_PROGRAMA',\n",
       " 'NM_GRAU_PROGRAMA',\n",
       " 'CD_PROGRAMA_IES',\n",
       " 'NM_PROGRAMA_IES',\n",
       " 'NM_REGIAO',\n",
       " 'SG_UF_PROGRAMA',\n",
       " 'NM_MUNICIPIO_PROGRAMA_IES',\n",
       " 'CD_CONCEITO_PROGRAMA',\n",
       " 'CD_CONCEITO_CURSO',\n",
       " 'ID_PESSOA',\n",
       " 'TP_DOCUMENTO_DISCENTE',\n",
       " 'NR_DOCUMENTO_DISCENTE',\n",
       " 'NM_DISCENTE',\n",
       " 'NM_PAIS_NACIONALIDADE_DISCENTE',\n",
       " 'DS_TIPO_NACIONALIDADE_DISCENTE',\n",
       " 'AN_NASCIMENTO_DISCENTE',\n",
       " 'DS_FAIXA_ETARIA',\n",
       " 'DS_GRAU_ACADEMICO_DISCENTE',\n",
       " 'ST_INGRESSANTE',\n",
       " 'NM_SITUACAO_DISCENTE',\n",
       " 'DT_MATRICULA_DISCENTE',\n",
       " 'DT_SITUACAO_DISCENTE',\n",
       " 'QT_MES_TITULACAO',\n",
       " 'NM_TESE_DISSERTACAO',\n",
       " 'NM_ORIENTADOR_PRINCIPAL',\n",
       " 'ID_ADD_FOTO_PROGRAMA',\n",
       " 'ID_ADD_FOTO_PROGRAMA_IES']"
      ]
     },
     "execution_count": 44,
     "metadata": {},
     "output_type": "execute_result"
    }
   ],
   "source": [
    "discentes = unionDf(28,29)\n",
    "discentes.columns"
   ]
  },
  {
   "cell_type": "code",
   "execution_count": 53,
   "id": "7be07f4a-114b-4278-8012-0ab2b33fc390",
   "metadata": {},
   "outputs": [
    {
     "data": {
      "text/plain": [
       "12560"
      ]
     },
     "execution_count": 53,
     "metadata": {},
     "output_type": "execute_result"
    }
   ],
   "source": [
    "discentes.columns\n",
    "discentes = discentes.select('ID_PESSOA', 'NM_DISCENTE',\n",
    "                             'TP_DOCUMENTO_DISCENTE', 'NR_DOCUMENTO_DISCENTE',\n",
    "                             )\n",
    "discentes = discentes.dropDuplicates(['ID_PESSOA'])\n",
    "discentes.count()"
   ]
  },
  {
   "cell_type": "code",
   "execution_count": 54,
   "id": "acb8515c-c84e-4b46-8e09-dd82dce2a5fc",
   "metadata": {},
   "outputs": [],
   "source": [
    "toParquet(discentes,name_csvs[28][1])"
   ]
  },
  {
   "cell_type": "code",
   "execution_count": 47,
   "id": "2bc417d1-58a8-46c2-b2db-06f8c266a20d",
   "metadata": {},
   "outputs": [
    {
     "data": {
      "text/plain": [
       "4410"
      ]
     },
     "execution_count": 47,
     "metadata": {},
     "output_type": "execute_result"
    }
   ],
   "source": [
    "docentes = unionDf(30,31)\n",
    "docentes.count()"
   ]
  },
  {
   "cell_type": "code",
   "execution_count": 51,
   "id": "ddd4253a-0930-4c44-b86c-34590f13fa1b",
   "metadata": {},
   "outputs": [
    {
     "data": {
      "text/plain": [
       "2098"
      ]
     },
     "execution_count": 51,
     "metadata": {},
     "output_type": "execute_result"
    }
   ],
   "source": [
    "docentes = docentes.select('ID_PESSOA',\n",
    "                           'NM_DOCENTE', 'TP_DOCUMENTO_DOCENTE', 'NR_DOCUMENTO_DOCENTE')\n",
    "docentes = docentes.dropDuplicates(['ID_PESSOA'])\n",
    "docentes.count()"
   ]
  },
  {
   "cell_type": "code",
   "execution_count": 52,
   "id": "e49ad988-ac0f-463e-8e2e-9f79f2156e46",
   "metadata": {},
   "outputs": [],
   "source": [
    "toParquet(docentes,name_csvs[30][1])"
   ]
  },
  {
   "cell_type": "code",
   "execution_count": 37,
   "id": "4a825113-e0ed-48a3-ad44-99273de3fc08",
   "metadata": {},
   "outputs": [
    {
     "data": {
      "text/plain": [
       "['AN_BASE',\n",
       " 'NM_GRANDE_AREA_CONHECIMENTO',\n",
       " 'NM_AREA_CONHECIMENTO',\n",
       " 'NM_SUBAREA_CONHECIMENTO',\n",
       " 'NM_ESPECIALIDADE',\n",
       " 'CD_AREA_AVALIACAO',\n",
       " 'NM_AREA_AVALIACAO',\n",
       " 'CD_ENTIDADE_CAPES',\n",
       " 'CD_ENTIDADE_EMEC',\n",
       " 'SG_ENTIDADE_ENSINO',\n",
       " 'NM_ENTIDADE_ENSINO',\n",
       " 'CS_STATUS_JURIDICO',\n",
       " 'DS_DEPENDENCIA_ADMINISTRATIVA',\n",
       " 'DS_ORGANIZACAO_ACADEMICA',\n",
       " 'NM_REGIAO',\n",
       " 'SG_UF_PROGRAMA',\n",
       " 'NM_MUNICIPIO_PROGRAMA_IES',\n",
       " 'CD_PROGRAMA_IES',\n",
       " 'NM_PROGRAMA_IES',\n",
       " 'CD_CURSO_PPG',\n",
       " 'NM_CURSO',\n",
       " 'NM_GRAU_CURSO',\n",
       " 'CD_CONCEITO_CURSO',\n",
       " 'AN_INICIO_PREVISTO',\n",
       " 'DS_SITUACAO_CURSO',\n",
       " 'DT_SITUACAO_CURSO',\n",
       " 'ID_ADD_FOTO_PROGRAMA_IES',\n",
       " 'ID_ADD_FOTO_PROGRAMA']"
      ]
     },
     "execution_count": 37,
     "metadata": {},
     "output_type": "execute_result"
    }
   ],
   "source": [
    "cursos = unionDf(15,16)\n",
    "cursos.columns"
   ]
  },
  {
   "cell_type": "code",
   "execution_count": 38,
   "id": "eb8670b3-6034-4120-a46b-43168065257b",
   "metadata": {},
   "outputs": [
    {
     "name": "stdout",
     "output_type": "stream",
     "text": [
      "260\n"
     ]
    },
    {
     "data": {
      "text/plain": [
       "96"
      ]
     },
     "execution_count": 38,
     "metadata": {},
     "output_type": "execute_result"
    }
   ],
   "source": [
    "print(cursos.count())\n",
    "cursos = cursos.select('CD_PROGRAMA_IES', 'SG_ENTIDADE_ENSINO', 'NM_ENTIDADE_ENSINO', 'NM_CURSO')\n",
    "cursos = cursos.dropDuplicates()\n",
    "cursos.count()"
   ]
  },
  {
   "cell_type": "code",
   "execution_count": 39,
   "id": "76e24c61-ad26-4e13-b100-7a734c09e204",
   "metadata": {},
   "outputs": [],
   "source": [
    "toParquet(cursos, name_csvs[15][1])"
   ]
  },
  {
   "cell_type": "code",
   "execution_count": 10,
   "id": "e0d8e34b-4f0a-4205-b834-9f65aa7d2556",
   "metadata": {},
   "outputs": [],
   "source": [
    "for i in range(17,28):\n",
    "    df = spark.read.format('csv').option('header', 'true').option('sep', ';')\\\n",
    "        .load(f's3a://{bucket_name}/{csvs[i]}')\n",
    "    toParquet(df, f\"2021-a-2024-detalhes-da-producao-{name_csvs[i][2]}\")"
   ]
  }
 ],
 "metadata": {
  "kernelspec": {
   "display_name": "Python 3 (ipykernel)",
   "language": "python",
   "name": "python3"
  },
  "language_info": {
   "codemirror_mode": {
    "name": "ipython",
    "version": 3
   },
   "file_extension": ".py",
   "mimetype": "text/x-python",
   "name": "python",
   "nbconvert_exporter": "python",
   "pygments_lexer": "ipython3",
   "version": "3.10.12"
  }
 },
 "nbformat": 4,
 "nbformat_minor": 5
}
